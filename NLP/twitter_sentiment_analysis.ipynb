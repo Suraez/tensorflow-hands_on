{
  "nbformat": 4,
  "nbformat_minor": 0,
  "metadata": {
    "colab": {
      "provenance": [],
      "authorship_tag": "ABX9TyPvVrP2GNkE3eHu4iEQcdqN",
      "include_colab_link": true
    },
    "kernelspec": {
      "name": "python3",
      "display_name": "Python 3"
    },
    "language_info": {
      "name": "python"
    },
    "widgets": {
      "application/vnd.jupyter.widget-state+json": {
        "7c1deff071ac42988510d8c8069c59ae": {
          "model_module": "@jupyter-widgets/controls",
          "model_name": "HBoxModel",
          "model_module_version": "1.5.0",
          "state": {
            "_dom_classes": [],
            "_model_module": "@jupyter-widgets/controls",
            "_model_module_version": "1.5.0",
            "_model_name": "HBoxModel",
            "_view_count": null,
            "_view_module": "@jupyter-widgets/controls",
            "_view_module_version": "1.5.0",
            "_view_name": "HBoxView",
            "box_style": "",
            "children": [
              "IPY_MODEL_a46bb57ccbd648c8a3a695f5ec83119a",
              "IPY_MODEL_6b73257c254a4213bec083d315dcd762",
              "IPY_MODEL_4b49acdd7ef9441fb3e675ab0bb0661f"
            ],
            "layout": "IPY_MODEL_a68f0b493a584c749f5faef555673c36"
          }
        },
        "a46bb57ccbd648c8a3a695f5ec83119a": {
          "model_module": "@jupyter-widgets/controls",
          "model_name": "HTMLModel",
          "model_module_version": "1.5.0",
          "state": {
            "_dom_classes": [],
            "_model_module": "@jupyter-widgets/controls",
            "_model_module_version": "1.5.0",
            "_model_name": "HTMLModel",
            "_view_count": null,
            "_view_module": "@jupyter-widgets/controls",
            "_view_module_version": "1.5.0",
            "_view_name": "HTMLView",
            "description": "",
            "description_tooltip": null,
            "layout": "IPY_MODEL_a6463f7662a94f66949eeeb062065d8f",
            "placeholder": "​",
            "style": "IPY_MODEL_7854c44692a14e4aba1acd585a5c8372",
            "value": ""
          }
        },
        "6b73257c254a4213bec083d315dcd762": {
          "model_module": "@jupyter-widgets/controls",
          "model_name": "FloatProgressModel",
          "model_module_version": "1.5.0",
          "state": {
            "_dom_classes": [],
            "_model_module": "@jupyter-widgets/controls",
            "_model_module_version": "1.5.0",
            "_model_name": "FloatProgressModel",
            "_view_count": null,
            "_view_module": "@jupyter-widgets/controls",
            "_view_module_version": "1.5.0",
            "_view_name": "ProgressView",
            "bar_style": "success",
            "description": "",
            "description_tooltip": null,
            "layout": "IPY_MODEL_4ad971cf17b04d5bb19fc779c88fde31",
            "max": 1,
            "min": 0,
            "orientation": "horizontal",
            "style": "IPY_MODEL_9df3214b49a74a9992a4fc455d6a93a2",
            "value": 1
          }
        },
        "4b49acdd7ef9441fb3e675ab0bb0661f": {
          "model_module": "@jupyter-widgets/controls",
          "model_name": "HTMLModel",
          "model_module_version": "1.5.0",
          "state": {
            "_dom_classes": [],
            "_model_module": "@jupyter-widgets/controls",
            "_model_module_version": "1.5.0",
            "_model_name": "HTMLModel",
            "_view_count": null,
            "_view_module": "@jupyter-widgets/controls",
            "_view_module_version": "1.5.0",
            "_view_name": "HTMLView",
            "description": "",
            "description_tooltip": null,
            "layout": "IPY_MODEL_dfa8655efd8245089552697d9d685a28",
            "placeholder": "​",
            "style": "IPY_MODEL_15ca62adfe554af18d6510644e6f79a7",
            "value": " 500/? [00:00&lt;00:00, 1787.69it/s]"
          }
        },
        "a68f0b493a584c749f5faef555673c36": {
          "model_module": "@jupyter-widgets/base",
          "model_name": "LayoutModel",
          "model_module_version": "1.2.0",
          "state": {
            "_model_module": "@jupyter-widgets/base",
            "_model_module_version": "1.2.0",
            "_model_name": "LayoutModel",
            "_view_count": null,
            "_view_module": "@jupyter-widgets/base",
            "_view_module_version": "1.2.0",
            "_view_name": "LayoutView",
            "align_content": null,
            "align_items": null,
            "align_self": null,
            "border": null,
            "bottom": null,
            "display": null,
            "flex": null,
            "flex_flow": null,
            "grid_area": null,
            "grid_auto_columns": null,
            "grid_auto_flow": null,
            "grid_auto_rows": null,
            "grid_column": null,
            "grid_gap": null,
            "grid_row": null,
            "grid_template_areas": null,
            "grid_template_columns": null,
            "grid_template_rows": null,
            "height": null,
            "justify_content": null,
            "justify_items": null,
            "left": null,
            "margin": null,
            "max_height": null,
            "max_width": null,
            "min_height": null,
            "min_width": null,
            "object_fit": null,
            "object_position": null,
            "order": null,
            "overflow": null,
            "overflow_x": null,
            "overflow_y": null,
            "padding": null,
            "right": null,
            "top": null,
            "visibility": null,
            "width": null
          }
        },
        "a6463f7662a94f66949eeeb062065d8f": {
          "model_module": "@jupyter-widgets/base",
          "model_name": "LayoutModel",
          "model_module_version": "1.2.0",
          "state": {
            "_model_module": "@jupyter-widgets/base",
            "_model_module_version": "1.2.0",
            "_model_name": "LayoutModel",
            "_view_count": null,
            "_view_module": "@jupyter-widgets/base",
            "_view_module_version": "1.2.0",
            "_view_name": "LayoutView",
            "align_content": null,
            "align_items": null,
            "align_self": null,
            "border": null,
            "bottom": null,
            "display": null,
            "flex": null,
            "flex_flow": null,
            "grid_area": null,
            "grid_auto_columns": null,
            "grid_auto_flow": null,
            "grid_auto_rows": null,
            "grid_column": null,
            "grid_gap": null,
            "grid_row": null,
            "grid_template_areas": null,
            "grid_template_columns": null,
            "grid_template_rows": null,
            "height": null,
            "justify_content": null,
            "justify_items": null,
            "left": null,
            "margin": null,
            "max_height": null,
            "max_width": null,
            "min_height": null,
            "min_width": null,
            "object_fit": null,
            "object_position": null,
            "order": null,
            "overflow": null,
            "overflow_x": null,
            "overflow_y": null,
            "padding": null,
            "right": null,
            "top": null,
            "visibility": null,
            "width": null
          }
        },
        "7854c44692a14e4aba1acd585a5c8372": {
          "model_module": "@jupyter-widgets/controls",
          "model_name": "DescriptionStyleModel",
          "model_module_version": "1.5.0",
          "state": {
            "_model_module": "@jupyter-widgets/controls",
            "_model_module_version": "1.5.0",
            "_model_name": "DescriptionStyleModel",
            "_view_count": null,
            "_view_module": "@jupyter-widgets/base",
            "_view_module_version": "1.2.0",
            "_view_name": "StyleView",
            "description_width": ""
          }
        },
        "4ad971cf17b04d5bb19fc779c88fde31": {
          "model_module": "@jupyter-widgets/base",
          "model_name": "LayoutModel",
          "model_module_version": "1.2.0",
          "state": {
            "_model_module": "@jupyter-widgets/base",
            "_model_module_version": "1.2.0",
            "_model_name": "LayoutModel",
            "_view_count": null,
            "_view_module": "@jupyter-widgets/base",
            "_view_module_version": "1.2.0",
            "_view_name": "LayoutView",
            "align_content": null,
            "align_items": null,
            "align_self": null,
            "border": null,
            "bottom": null,
            "display": null,
            "flex": null,
            "flex_flow": null,
            "grid_area": null,
            "grid_auto_columns": null,
            "grid_auto_flow": null,
            "grid_auto_rows": null,
            "grid_column": null,
            "grid_gap": null,
            "grid_row": null,
            "grid_template_areas": null,
            "grid_template_columns": null,
            "grid_template_rows": null,
            "height": null,
            "justify_content": null,
            "justify_items": null,
            "left": null,
            "margin": null,
            "max_height": null,
            "max_width": null,
            "min_height": null,
            "min_width": null,
            "object_fit": null,
            "object_position": null,
            "order": null,
            "overflow": null,
            "overflow_x": null,
            "overflow_y": null,
            "padding": null,
            "right": null,
            "top": null,
            "visibility": null,
            "width": "20px"
          }
        },
        "9df3214b49a74a9992a4fc455d6a93a2": {
          "model_module": "@jupyter-widgets/controls",
          "model_name": "ProgressStyleModel",
          "model_module_version": "1.5.0",
          "state": {
            "_model_module": "@jupyter-widgets/controls",
            "_model_module_version": "1.5.0",
            "_model_name": "ProgressStyleModel",
            "_view_count": null,
            "_view_module": "@jupyter-widgets/base",
            "_view_module_version": "1.2.0",
            "_view_name": "StyleView",
            "bar_color": null,
            "description_width": ""
          }
        },
        "dfa8655efd8245089552697d9d685a28": {
          "model_module": "@jupyter-widgets/base",
          "model_name": "LayoutModel",
          "model_module_version": "1.2.0",
          "state": {
            "_model_module": "@jupyter-widgets/base",
            "_model_module_version": "1.2.0",
            "_model_name": "LayoutModel",
            "_view_count": null,
            "_view_module": "@jupyter-widgets/base",
            "_view_module_version": "1.2.0",
            "_view_name": "LayoutView",
            "align_content": null,
            "align_items": null,
            "align_self": null,
            "border": null,
            "bottom": null,
            "display": null,
            "flex": null,
            "flex_flow": null,
            "grid_area": null,
            "grid_auto_columns": null,
            "grid_auto_flow": null,
            "grid_auto_rows": null,
            "grid_column": null,
            "grid_gap": null,
            "grid_row": null,
            "grid_template_areas": null,
            "grid_template_columns": null,
            "grid_template_rows": null,
            "height": null,
            "justify_content": null,
            "justify_items": null,
            "left": null,
            "margin": null,
            "max_height": null,
            "max_width": null,
            "min_height": null,
            "min_width": null,
            "object_fit": null,
            "object_position": null,
            "order": null,
            "overflow": null,
            "overflow_x": null,
            "overflow_y": null,
            "padding": null,
            "right": null,
            "top": null,
            "visibility": null,
            "width": null
          }
        },
        "15ca62adfe554af18d6510644e6f79a7": {
          "model_module": "@jupyter-widgets/controls",
          "model_name": "DescriptionStyleModel",
          "model_module_version": "1.5.0",
          "state": {
            "_model_module": "@jupyter-widgets/controls",
            "_model_module_version": "1.5.0",
            "_model_name": "DescriptionStyleModel",
            "_view_count": null,
            "_view_module": "@jupyter-widgets/base",
            "_view_module_version": "1.2.0",
            "_view_name": "StyleView",
            "description_width": ""
          }
        }
      }
    }
  },
  "cells": [
    {
      "cell_type": "markdown",
      "metadata": {
        "id": "view-in-github",
        "colab_type": "text"
      },
      "source": [
        "<a href=\"https://colab.research.google.com/github/Suraez/tensorflow-hands_on/blob/main/NLP/twitter_sentiment_analysis.ipynb\" target=\"_parent\"><img src=\"https://colab.research.google.com/assets/colab-badge.svg\" alt=\"Open In Colab\"/></a>"
      ]
    },
    {
      "cell_type": "code",
      "execution_count": null,
      "metadata": {
        "colab": {
          "base_uri": "https://localhost:8080/"
        },
        "id": "JtX28fkFkzXI",
        "outputId": "34424d19-d2e8-4d85-adbe-602e05ac83f1"
      },
      "outputs": [
        {
          "output_type": "stream",
          "name": "stdout",
          "text": [
            "Looking in indexes: https://pypi.org/simple, https://us-python.pkg.dev/colab-wheels/public/simple/\n",
            "Collecting opendatasets\n",
            "  Downloading opendatasets-0.1.22-py3-none-any.whl (15 kB)\n",
            "Requirement already satisfied: kaggle in /usr/local/lib/python3.8/dist-packages (from opendatasets) (1.5.12)\n",
            "Requirement already satisfied: click in /usr/local/lib/python3.8/dist-packages (from opendatasets) (7.1.2)\n",
            "Requirement already satisfied: tqdm in /usr/local/lib/python3.8/dist-packages (from opendatasets) (4.64.1)\n",
            "Requirement already satisfied: python-dateutil in /usr/local/lib/python3.8/dist-packages (from kaggle->opendatasets) (2.8.2)\n",
            "Requirement already satisfied: six>=1.10 in /usr/local/lib/python3.8/dist-packages (from kaggle->opendatasets) (1.15.0)\n",
            "Requirement already satisfied: requests in /usr/local/lib/python3.8/dist-packages (from kaggle->opendatasets) (2.25.1)\n",
            "Requirement already satisfied: python-slugify in /usr/local/lib/python3.8/dist-packages (from kaggle->opendatasets) (7.0.0)\n",
            "Requirement already satisfied: certifi in /usr/local/lib/python3.8/dist-packages (from kaggle->opendatasets) (2022.12.7)\n",
            "Requirement already satisfied: urllib3 in /usr/local/lib/python3.8/dist-packages (from kaggle->opendatasets) (1.24.3)\n",
            "Requirement already satisfied: text-unidecode>=1.3 in /usr/local/lib/python3.8/dist-packages (from python-slugify->kaggle->opendatasets) (1.3)\n",
            "Requirement already satisfied: idna<3,>=2.5 in /usr/local/lib/python3.8/dist-packages (from requests->kaggle->opendatasets) (2.10)\n",
            "Requirement already satisfied: chardet<5,>=3.0.2 in /usr/local/lib/python3.8/dist-packages (from requests->kaggle->opendatasets) (4.0.0)\n",
            "Installing collected packages: opendatasets\n",
            "Successfully installed opendatasets-0.1.22\n"
          ]
        }
      ],
      "source": [
        "!pip install opendatasets"
      ]
    },
    {
      "cell_type": "code",
      "source": [
        "import opendatasets as od\n",
        "od.download('https://www.kaggle.com/datasets/cosmos98/twitter-and-reddit-sentimental-analysis-dataset')"
      ],
      "metadata": {
        "colab": {
          "base_uri": "https://localhost:8080/",
          "height": 397
        },
        "id": "BWFEEp2rlS38",
        "outputId": "8956595c-99d4-439c-e70e-09b49ecc2ca6"
      },
      "execution_count": null,
      "outputs": [
        {
          "output_type": "error",
          "ename": "ModuleNotFoundError",
          "evalue": "ignored",
          "traceback": [
            "\u001b[0;31m---------------------------------------------------------------------------\u001b[0m",
            "\u001b[0;31mModuleNotFoundError\u001b[0m                       Traceback (most recent call last)",
            "\u001b[0;32m<ipython-input-6-857bb6c6fbb3>\u001b[0m in \u001b[0;36m<module>\u001b[0;34m\u001b[0m\n\u001b[1;32m      1\u001b[0m \u001b[0;32mimport\u001b[0m \u001b[0mopendatasets\u001b[0m \u001b[0;32mas\u001b[0m \u001b[0mod\u001b[0m\u001b[0;34m\u001b[0m\u001b[0;34m\u001b[0m\u001b[0m\n\u001b[0;32m----> 2\u001b[0;31m \u001b[0mod\u001b[0m\u001b[0;34m.\u001b[0m\u001b[0mdownload\u001b[0m\u001b[0;34m(\u001b[0m\u001b[0;34m'/content/twitter-and-reddit-sentimental-analysis-dataset/Reddit_Data.csv'\u001b[0m\u001b[0;34m)\u001b[0m\u001b[0;34m\u001b[0m\u001b[0;34m\u001b[0m\u001b[0m\n\u001b[0m",
            "\u001b[0;32m/usr/local/lib/python3.8/dist-packages/opendatasets/__init__.py\u001b[0m in \u001b[0;36mdownload\u001b[0;34m(dataset_id_or_url, data_dir, force, dry_run, **kwargs)\u001b[0m\n\u001b[1;32m     25\u001b[0m     \u001b[0;32mif\u001b[0m \u001b[0;32mnot\u001b[0m \u001b[0mos\u001b[0m\u001b[0;34m.\u001b[0m\u001b[0mpath\u001b[0m\u001b[0;34m.\u001b[0m\u001b[0mexists\u001b[0m\u001b[0;34m(\u001b[0m\u001b[0mdata_dir\u001b[0m\u001b[0;34m)\u001b[0m\u001b[0;34m:\u001b[0m\u001b[0;34m\u001b[0m\u001b[0;34m\u001b[0m\u001b[0m\n\u001b[1;32m     26\u001b[0m         \u001b[0mos\u001b[0m\u001b[0;34m.\u001b[0m\u001b[0mmakedirs\u001b[0m\u001b[0;34m(\u001b[0m\u001b[0mdata_dir\u001b[0m\u001b[0;34m)\u001b[0m\u001b[0;34m\u001b[0m\u001b[0;34m\u001b[0m\u001b[0m\n\u001b[0;32m---> 27\u001b[0;31m     \u001b[0mdataset\u001b[0m \u001b[0;34m=\u001b[0m \u001b[0mimportlib\u001b[0m\u001b[0;34m.\u001b[0m\u001b[0mimport_module\u001b[0m\u001b[0;34m(\u001b[0m\u001b[0;34m'opendatasets.datasets.'\u001b[0m \u001b[0;34m+\u001b[0m \u001b[0mdataset_id\u001b[0m\u001b[0;34m)\u001b[0m\u001b[0;34m\u001b[0m\u001b[0;34m\u001b[0m\u001b[0m\n\u001b[0m\u001b[1;32m     28\u001b[0m     \u001b[0;32mif\u001b[0m \u001b[0mdry_run\u001b[0m\u001b[0;34m:\u001b[0m\u001b[0;34m\u001b[0m\u001b[0;34m\u001b[0m\u001b[0m\n\u001b[1;32m     29\u001b[0m         \u001b[0mprint\u001b[0m\u001b[0;34m(\u001b[0m\u001b[0;34m'This is a dry run. URLs will be displayed but the files will not be downloaded.'\u001b[0m\u001b[0;34m)\u001b[0m\u001b[0;34m\u001b[0m\u001b[0;34m\u001b[0m\u001b[0m\n",
            "\u001b[0;32m/usr/lib/python3.8/importlib/__init__.py\u001b[0m in \u001b[0;36mimport_module\u001b[0;34m(name, package)\u001b[0m\n\u001b[1;32m    125\u001b[0m                 \u001b[0;32mbreak\u001b[0m\u001b[0;34m\u001b[0m\u001b[0;34m\u001b[0m\u001b[0m\n\u001b[1;32m    126\u001b[0m             \u001b[0mlevel\u001b[0m \u001b[0;34m+=\u001b[0m \u001b[0;36m1\u001b[0m\u001b[0;34m\u001b[0m\u001b[0;34m\u001b[0m\u001b[0m\n\u001b[0;32m--> 127\u001b[0;31m     \u001b[0;32mreturn\u001b[0m \u001b[0m_bootstrap\u001b[0m\u001b[0;34m.\u001b[0m\u001b[0m_gcd_import\u001b[0m\u001b[0;34m(\u001b[0m\u001b[0mname\u001b[0m\u001b[0;34m[\u001b[0m\u001b[0mlevel\u001b[0m\u001b[0;34m:\u001b[0m\u001b[0;34m]\u001b[0m\u001b[0;34m,\u001b[0m \u001b[0mpackage\u001b[0m\u001b[0;34m,\u001b[0m \u001b[0mlevel\u001b[0m\u001b[0;34m)\u001b[0m\u001b[0;34m\u001b[0m\u001b[0;34m\u001b[0m\u001b[0m\n\u001b[0m\u001b[1;32m    128\u001b[0m \u001b[0;34m\u001b[0m\u001b[0m\n\u001b[1;32m    129\u001b[0m \u001b[0;34m\u001b[0m\u001b[0m\n",
            "\u001b[0;32m/usr/lib/python3.8/importlib/_bootstrap.py\u001b[0m in \u001b[0;36m_gcd_import\u001b[0;34m(name, package, level)\u001b[0m\n",
            "\u001b[0;32m/usr/lib/python3.8/importlib/_bootstrap.py\u001b[0m in \u001b[0;36m_find_and_load\u001b[0;34m(name, import_)\u001b[0m\n",
            "\u001b[0;32m/usr/lib/python3.8/importlib/_bootstrap.py\u001b[0m in \u001b[0;36m_find_and_load_unlocked\u001b[0;34m(name, import_)\u001b[0m\n",
            "\u001b[0;32m/usr/lib/python3.8/importlib/_bootstrap.py\u001b[0m in \u001b[0;36m_call_with_frames_removed\u001b[0;34m(f, *args, **kwds)\u001b[0m\n",
            "\u001b[0;32m/usr/lib/python3.8/importlib/_bootstrap.py\u001b[0m in \u001b[0;36m_gcd_import\u001b[0;34m(name, package, level)\u001b[0m\n",
            "\u001b[0;32m/usr/lib/python3.8/importlib/_bootstrap.py\u001b[0m in \u001b[0;36m_find_and_load\u001b[0;34m(name, import_)\u001b[0m\n",
            "\u001b[0;32m/usr/lib/python3.8/importlib/_bootstrap.py\u001b[0m in \u001b[0;36m_find_and_load_unlocked\u001b[0;34m(name, import_)\u001b[0m\n",
            "\u001b[0;31mModuleNotFoundError\u001b[0m: No module named 'opendatasets.datasets./content/twitter-and-reddit-sentimental-analysis-dataset/Reddit_Data'",
            "",
            "\u001b[0;31m---------------------------------------------------------------------------\u001b[0;32m\nNOTE: If your import is failing due to a missing package, you can\nmanually install dependencies using either !pip or !apt.\n\nTo view examples of installing some common dependencies, click the\n\"Open Examples\" button below.\n\u001b[0;31m---------------------------------------------------------------------------\u001b[0m\n"
          ],
          "errorDetails": {
            "actions": [
              {
                "action": "open_url",
                "actionText": "Open Examples",
                "url": "/notebooks/snippets/importing_libraries.ipynb"
              }
            ]
          }
        }
      ]
    },
    {
      "cell_type": "code",
      "source": [
        "import pandas as pd\n",
        "df = pd.read_csv('/content/twitter-and-reddit-sentimental-analysis-dataset/Twitter_Data.csv')"
      ],
      "metadata": {
        "id": "fGlk4otSlndj"
      },
      "execution_count": null,
      "outputs": []
    },
    {
      "cell_type": "code",
      "source": [
        "df.columns"
      ],
      "metadata": {
        "colab": {
          "base_uri": "https://localhost:8080/"
        },
        "id": "h92GK73An7vT",
        "outputId": "4027bb01-7fe6-4c84-b9d6-404bd762fa2e"
      },
      "execution_count": null,
      "outputs": [
        {
          "output_type": "execute_result",
          "data": {
            "text/plain": [
              "Index(['clean_text', 'category'], dtype='object')"
            ]
          },
          "metadata": {},
          "execution_count": 10
        }
      ]
    },
    {
      "cell_type": "code",
      "source": [
        "df.shape"
      ],
      "metadata": {
        "colab": {
          "base_uri": "https://localhost:8080/"
        },
        "id": "FUhb8akVoA2q",
        "outputId": "7585d927-81ce-4895-99db-93277efa7e1d"
      },
      "execution_count": null,
      "outputs": [
        {
          "output_type": "execute_result",
          "data": {
            "text/plain": [
              "(162980, 2)"
            ]
          },
          "metadata": {},
          "execution_count": 12
        }
      ]
    },
    {
      "cell_type": "code",
      "source": [
        "df = df.head(500)"
      ],
      "metadata": {
        "id": "qmjQGRpYoOhr"
      },
      "execution_count": null,
      "outputs": []
    },
    {
      "cell_type": "code",
      "source": [
        "df.shape"
      ],
      "metadata": {
        "colab": {
          "base_uri": "https://localhost:8080/"
        },
        "id": "iOxs8Rqhqfhd",
        "outputId": "3c2ba84d-e266-41d7-8760-17c5cf485f92"
      },
      "execution_count": null,
      "outputs": [
        {
          "output_type": "execute_result",
          "data": {
            "text/plain": [
              "(500, 2)"
            ]
          },
          "metadata": {},
          "execution_count": 23
        }
      ]
    },
    {
      "cell_type": "code",
      "source": [
        "df.index"
      ],
      "metadata": {
        "colab": {
          "base_uri": "https://localhost:8080/"
        },
        "id": "UPUEiEDP02pI",
        "outputId": "b2d0aef3-dc08-428a-b573-aad63ceea17f"
      },
      "execution_count": null,
      "outputs": [
        {
          "output_type": "execute_result",
          "data": {
            "text/plain": [
              "RangeIndex(start=0, stop=500, step=1)"
            ]
          },
          "metadata": {},
          "execution_count": 82
        }
      ]
    },
    {
      "cell_type": "code",
      "source": [
        "df.head()"
      ],
      "metadata": {
        "colab": {
          "base_uri": "https://localhost:8080/",
          "height": 206
        },
        "id": "NHNfPCh6sQIb",
        "outputId": "9bdc6f92-10ff-4a87-dc97-837f558770e4"
      },
      "execution_count": null,
      "outputs": [
        {
          "output_type": "execute_result",
          "data": {
            "text/plain": [
              "                                          clean_text  category\n",
              "0  when modi promised “minimum government maximum...      -1.0\n",
              "1  talk all the nonsense and continue all the dra...       0.0\n",
              "2  what did just say vote for modi  welcome bjp t...       1.0\n",
              "3  asking his supporters prefix chowkidar their n...       1.0\n",
              "4  answer who among these the most powerful world...       1.0"
            ],
            "text/html": [
              "\n",
              "  <div id=\"df-8514be11-1ff2-4687-b7cb-4c9348206c56\">\n",
              "    <div class=\"colab-df-container\">\n",
              "      <div>\n",
              "<style scoped>\n",
              "    .dataframe tbody tr th:only-of-type {\n",
              "        vertical-align: middle;\n",
              "    }\n",
              "\n",
              "    .dataframe tbody tr th {\n",
              "        vertical-align: top;\n",
              "    }\n",
              "\n",
              "    .dataframe thead th {\n",
              "        text-align: right;\n",
              "    }\n",
              "</style>\n",
              "<table border=\"1\" class=\"dataframe\">\n",
              "  <thead>\n",
              "    <tr style=\"text-align: right;\">\n",
              "      <th></th>\n",
              "      <th>clean_text</th>\n",
              "      <th>category</th>\n",
              "    </tr>\n",
              "  </thead>\n",
              "  <tbody>\n",
              "    <tr>\n",
              "      <th>0</th>\n",
              "      <td>when modi promised “minimum government maximum...</td>\n",
              "      <td>-1.0</td>\n",
              "    </tr>\n",
              "    <tr>\n",
              "      <th>1</th>\n",
              "      <td>talk all the nonsense and continue all the dra...</td>\n",
              "      <td>0.0</td>\n",
              "    </tr>\n",
              "    <tr>\n",
              "      <th>2</th>\n",
              "      <td>what did just say vote for modi  welcome bjp t...</td>\n",
              "      <td>1.0</td>\n",
              "    </tr>\n",
              "    <tr>\n",
              "      <th>3</th>\n",
              "      <td>asking his supporters prefix chowkidar their n...</td>\n",
              "      <td>1.0</td>\n",
              "    </tr>\n",
              "    <tr>\n",
              "      <th>4</th>\n",
              "      <td>answer who among these the most powerful world...</td>\n",
              "      <td>1.0</td>\n",
              "    </tr>\n",
              "  </tbody>\n",
              "</table>\n",
              "</div>\n",
              "      <button class=\"colab-df-convert\" onclick=\"convertToInteractive('df-8514be11-1ff2-4687-b7cb-4c9348206c56')\"\n",
              "              title=\"Convert this dataframe to an interactive table.\"\n",
              "              style=\"display:none;\">\n",
              "        \n",
              "  <svg xmlns=\"http://www.w3.org/2000/svg\" height=\"24px\"viewBox=\"0 0 24 24\"\n",
              "       width=\"24px\">\n",
              "    <path d=\"M0 0h24v24H0V0z\" fill=\"none\"/>\n",
              "    <path d=\"M18.56 5.44l.94 2.06.94-2.06 2.06-.94-2.06-.94-.94-2.06-.94 2.06-2.06.94zm-11 1L8.5 8.5l.94-2.06 2.06-.94-2.06-.94L8.5 2.5l-.94 2.06-2.06.94zm10 10l.94 2.06.94-2.06 2.06-.94-2.06-.94-.94-2.06-.94 2.06-2.06.94z\"/><path d=\"M17.41 7.96l-1.37-1.37c-.4-.4-.92-.59-1.43-.59-.52 0-1.04.2-1.43.59L10.3 9.45l-7.72 7.72c-.78.78-.78 2.05 0 2.83L4 21.41c.39.39.9.59 1.41.59.51 0 1.02-.2 1.41-.59l7.78-7.78 2.81-2.81c.8-.78.8-2.07 0-2.86zM5.41 20L4 18.59l7.72-7.72 1.47 1.35L5.41 20z\"/>\n",
              "  </svg>\n",
              "      </button>\n",
              "      \n",
              "  <style>\n",
              "    .colab-df-container {\n",
              "      display:flex;\n",
              "      flex-wrap:wrap;\n",
              "      gap: 12px;\n",
              "    }\n",
              "\n",
              "    .colab-df-convert {\n",
              "      background-color: #E8F0FE;\n",
              "      border: none;\n",
              "      border-radius: 50%;\n",
              "      cursor: pointer;\n",
              "      display: none;\n",
              "      fill: #1967D2;\n",
              "      height: 32px;\n",
              "      padding: 0 0 0 0;\n",
              "      width: 32px;\n",
              "    }\n",
              "\n",
              "    .colab-df-convert:hover {\n",
              "      background-color: #E2EBFA;\n",
              "      box-shadow: 0px 1px 2px rgba(60, 64, 67, 0.3), 0px 1px 3px 1px rgba(60, 64, 67, 0.15);\n",
              "      fill: #174EA6;\n",
              "    }\n",
              "\n",
              "    [theme=dark] .colab-df-convert {\n",
              "      background-color: #3B4455;\n",
              "      fill: #D2E3FC;\n",
              "    }\n",
              "\n",
              "    [theme=dark] .colab-df-convert:hover {\n",
              "      background-color: #434B5C;\n",
              "      box-shadow: 0px 1px 3px 1px rgba(0, 0, 0, 0.15);\n",
              "      filter: drop-shadow(0px 1px 2px rgba(0, 0, 0, 0.3));\n",
              "      fill: #FFFFFF;\n",
              "    }\n",
              "  </style>\n",
              "\n",
              "      <script>\n",
              "        const buttonEl =\n",
              "          document.querySelector('#df-8514be11-1ff2-4687-b7cb-4c9348206c56 button.colab-df-convert');\n",
              "        buttonEl.style.display =\n",
              "          google.colab.kernel.accessAllowed ? 'block' : 'none';\n",
              "\n",
              "        async function convertToInteractive(key) {\n",
              "          const element = document.querySelector('#df-8514be11-1ff2-4687-b7cb-4c9348206c56');\n",
              "          const dataTable =\n",
              "            await google.colab.kernel.invokeFunction('convertToInteractive',\n",
              "                                                     [key], {});\n",
              "          if (!dataTable) return;\n",
              "\n",
              "          const docLinkHtml = 'Like what you see? Visit the ' +\n",
              "            '<a target=\"_blank\" href=https://colab.research.google.com/notebooks/data_table.ipynb>data table notebook</a>'\n",
              "            + ' to learn more about interactive tables.';\n",
              "          element.innerHTML = '';\n",
              "          dataTable['output_type'] = 'display_data';\n",
              "          await google.colab.output.renderOutput(dataTable, element);\n",
              "          const docLink = document.createElement('div');\n",
              "          docLink.innerHTML = docLinkHtml;\n",
              "          element.appendChild(docLink);\n",
              "        }\n",
              "      </script>\n",
              "    </div>\n",
              "  </div>\n",
              "  "
            ]
          },
          "metadata": {},
          "execution_count": 27
        }
      ]
    },
    {
      "cell_type": "code",
      "source": [
        "for i, row in df.iterrows():\n",
        "  print(row['clean_text'])"
      ],
      "metadata": {
        "id": "HX0NFDzsqgD4"
      },
      "execution_count": null,
      "outputs": []
    },
    {
      "cell_type": "code",
      "source": [
        "import nltk\n",
        "import matplotlib.pyplot as plt\n",
        "import seaborn as sns\n",
        "import tqdm"
      ],
      "metadata": {
        "id": "kAt-Pdx3qn4P"
      },
      "execution_count": null,
      "outputs": []
    },
    {
      "cell_type": "code",
      "source": [
        "sentimentStats = {\n",
        "    'pos': 0,\n",
        "    'neu': 0,\n",
        "    'neg': 0\n",
        "}\n",
        "\n",
        "for i, row in df.iterrows():\n",
        "  if row['category'] == 1.0:\n",
        "    sentimentStats['pos'] += 1\n",
        "  elif row['category'] == 0.0:\n",
        "    sentimentStats['neu'] += 1\n",
        "  else:\n",
        "    sentimentStats['neg'] += 1\n",
        "\n",
        "sentimentStats\n"
      ],
      "metadata": {
        "colab": {
          "base_uri": "https://localhost:8080/"
        },
        "id": "3lTNircnq4I4",
        "outputId": "d356cc43-2424-4399-8639-52c2b73e0127"
      },
      "execution_count": null,
      "outputs": [
        {
          "output_type": "execute_result",
          "data": {
            "text/plain": [
              "{'pos': 209, 'neu': 188, 'neg': 103}"
            ]
          },
          "metadata": {},
          "execution_count": 28
        }
      ]
    },
    {
      "cell_type": "code",
      "source": [
        "df['category'].value_counts()"
      ],
      "metadata": {
        "colab": {
          "base_uri": "https://localhost:8080/"
        },
        "id": "Wjg_XYRCscvY",
        "outputId": "faef17e7-4911-49a7-878a-03d8e910f86b"
      },
      "execution_count": null,
      "outputs": [
        {
          "output_type": "execute_result",
          "data": {
            "text/plain": [
              " 1.0    209\n",
              " 0.0    188\n",
              "-1.0    103\n",
              "Name: category, dtype: int64"
            ]
          },
          "metadata": {},
          "execution_count": 33
        }
      ]
    },
    {
      "cell_type": "code",
      "source": [
        "df['category'].value_counts().plot(kind='bar', title=\"Count of Positive, Negative and Neutral\")\n",
        "plt.show() # removes weird title at the top and opens the figure in the current window"
      ],
      "metadata": {
        "colab": {
          "base_uri": "https://localhost:8080/",
          "height": 291
        },
        "id": "qqOG_7CNsl_m",
        "outputId": "506f3da4-f19e-4395-f10e-f7e8ea384303"
      },
      "execution_count": null,
      "outputs": [
        {
          "output_type": "display_data",
          "data": {
            "text/plain": [
              "<Figure size 432x288 with 1 Axes>"
            ],
            "image/png": "[encoded data removed]"
          },
          "metadata": {
            "needs_background": "light"
          }
        }
      ]
    },
    {
      "cell_type": "code",
      "source": [
        "df.iloc[10]['clean_text']"
      ],
      "metadata": {
        "colab": {
          "base_uri": "https://localhost:8080/",
          "height": 53
        },
        "id": "P9rr9ChTsp0V",
        "outputId": "b420ca4e-d353-4a3b-938e-009d419da3f5"
      },
      "execution_count": null,
      "outputs": [
        {
          "output_type": "execute_result",
          "data": {
            "text/plain": [
              "'things like demonetisation gst goods and services tax…the upper castes would sort either view favourably say that need give this more time other castes like dalits the muslims were more against because that’ just not modi’ constituency2'"
            ],
            "application/vnd.google.colaboratory.intrinsic+json": {
              "type": "string"
            }
          },
          "metadata": {},
          "execution_count": 41
        }
      ]
    },
    {
      "cell_type": "code",
      "source": [
        "nltk.download('punkt')\n",
        "nltk.download('averaged_perceptron_tagger')\n",
        "nltk.download('maxent_ne_chunker')\n",
        "nltk.download('words')\n",
        "nltk.download('vader_lexicon')"
      ],
      "metadata": {
        "colab": {
          "base_uri": "https://localhost:8080/"
        },
        "id": "BYtzWZHvvSbc",
        "outputId": "6f510191-e35c-46d5-8a07-56d0e8bc5b60"
      },
      "execution_count": null,
      "outputs": [
        {
          "output_type": "stream",
          "name": "stderr",
          "text": [
            "[nltk_data] Downloading package punkt to /root/nltk_data...\n",
            "[nltk_data]   Package punkt is already up-to-date!\n",
            "[nltk_data] Downloading package averaged_perceptron_tagger to\n",
            "[nltk_data]     /root/nltk_data...\n",
            "[nltk_data]   Package averaged_perceptron_tagger is already up-to-\n",
            "[nltk_data]       date!\n",
            "[nltk_data] Downloading package maxent_ne_chunker to\n",
            "[nltk_data]     /root/nltk_data...\n",
            "[nltk_data]   Package maxent_ne_chunker is already up-to-date!\n",
            "[nltk_data] Downloading package words to /root/nltk_data...\n",
            "[nltk_data]   Package words is already up-to-date!\n",
            "[nltk_data] Downloading package vader_lexicon to /root/nltk_data...\n"
          ]
        },
        {
          "output_type": "execute_result",
          "data": {
            "text/plain": [
              "True"
            ]
          },
          "metadata": {},
          "execution_count": 72
        }
      ]
    },
    {
      "cell_type": "code",
      "source": [
        "tokens = nltk.word_tokenize(df.iloc[1]['clean_text'])"
      ],
      "metadata": {
        "id": "gJkd55vgvBfR"
      },
      "execution_count": null,
      "outputs": []
    },
    {
      "cell_type": "code",
      "source": [
        "taggedSentence = nltk.pos_tag(tokens)"
      ],
      "metadata": {
        "id": "J2tc9FNqvV9Z"
      },
      "execution_count": null,
      "outputs": []
    },
    {
      "cell_type": "code",
      "source": [
        "!pip install svgling"
      ],
      "metadata": {
        "colab": {
          "base_uri": "https://localhost:8080/"
        },
        "id": "ka1U_7h_wPc1",
        "outputId": "48a34df4-62c1-4e7b-b97a-6a53b6ab82cb"
      },
      "execution_count": null,
      "outputs": [
        {
          "output_type": "stream",
          "name": "stdout",
          "text": [
            "Looking in indexes: https://pypi.org/simple, https://us-python.pkg.dev/colab-wheels/public/simple/\n",
            "Collecting svgling\n",
            "  Downloading svgling-0.3.1-py3-none-any.whl (21 kB)\n",
            "Collecting svgwrite\n",
            "  Downloading svgwrite-1.4.3-py3-none-any.whl (67 kB)\n",
            "\u001b[2K     \u001b[90m━━━━━━━━━━━━━━━━━━━━━━━━━━━━━━━━━━━━━━━━\u001b[0m \u001b[32m67.1/67.1 KB\u001b[0m \u001b[31m4.8 MB/s\u001b[0m eta \u001b[36m0:00:00\u001b[0m\n",
            "\u001b[?25hInstalling collected packages: svgwrite, svgling\n",
            "Successfully installed svgling-0.3.1 svgwrite-1.4.3\n"
          ]
        }
      ]
    },
    {
      "cell_type": "code",
      "source": [
        "chunked_text = nltk.chunk.ne_chunk(taggedSentence)\n",
        "chunked_text"
      ],
      "metadata": {
        "colab": {
          "base_uri": "https://localhost:8080/",
          "height": 141
        },
        "id": "8O_hGcUBveGY",
        "outputId": "77aa7bf9-4983-4e89-9962-87950001776c"
      },
      "execution_count": null,
      "outputs": [
        {
          "output_type": "execute_result",
          "data": {
            "text/plain": [
              "Tree('S', [('talk', 'NN'), ('all', 'PDT'), ('the', 'DT'), ('nonsense', 'NN'), ('and', 'CC'), ('continue', 'VB'), ('all', 'PDT'), ('the', 'DT'), ('drama', 'NN'), ('will', 'MD'), ('vote', 'VB'), ('for', 'IN'), ('modi', 'NN')])"
            ],
            "image/svg+xml": "<svg baseProfile=\"full\" height=\"120px\" preserveAspectRatio=\"xMidYMid meet\" style=\"font-family: times, serif; font-weight:normal; font-style: normal; font-size: 16px;\" version=\"1.1\" viewBox=\"0,0,648.0,120.0\" width=\"648px\" xmlns=\"http://www.w3.org/2000/svg\" xmlns:ev=\"http://www.w3.org/2001/xml-events\" xmlns:xlink=\"http://www.w3.org/1999/xlink\"><defs /><svg width=\"100%\" x=\"0\" y=\"0em\"><defs /><text text-anchor=\"middle\" x=\"50%\" y=\"1em\">S</text></svg><svg width=\"7.40741%\" x=\"0%\" y=\"3em\"><defs /><svg width=\"100%\" x=\"0\" y=\"0em\"><defs /><text text-anchor=\"middle\" x=\"50%\" y=\"1em\">talk</text></svg><svg width=\"100%\" x=\"0%\" y=\"3em\"><defs /><svg width=\"100%\" x=\"0\" y=\"0em\"><defs /><text text-anchor=\"middle\" x=\"50%\" y=\"1em\">NN</text></svg></svg><line stroke=\"black\" x1=\"50%\" x2=\"50%\" y1=\"1.2em\" y2=\"3em\" /></svg><line stroke=\"black\" x1=\"50%\" x2=\"3.7037%\" y1=\"1.2em\" y2=\"3em\" /><svg width=\"6.17284%\" x=\"7.40741%\" y=\"3em\"><defs /><svg width=\"100%\" x=\"0\" y=\"0em\"><defs /><text text-anchor=\"middle\" x=\"50%\" y=\"1em\">all</text></svg><svg width=\"100%\" x=\"0%\" y=\"3em\"><defs /><svg width=\"100%\" x=\"0\" y=\"0em\"><defs /><text text-anchor=\"middle\" x=\"50%\" y=\"1em\">PDT</text></svg></svg><line stroke=\"black\" x1=\"50%\" x2=\"50%\" y1=\"1.2em\" y2=\"3em\" /></svg><line stroke=\"black\" x1=\"50%\" x2=\"10.4938%\" y1=\"1.2em\" y2=\"3em\" /><svg width=\"6.17284%\" x=\"13.5802%\" y=\"3em\"><defs /><svg width=\"100%\" x=\"0\" y=\"0em\"><defs /><text text-anchor=\"middle\" x=\"50%\" y=\"1em\">the</text></svg><svg width=\"100%\" x=\"0%\" y=\"3em\"><defs /><svg width=\"100%\" x=\"0\" y=\"0em\"><defs /><text text-anchor=\"middle\" x=\"50%\" y=\"1em\">DT</text></svg></svg><line stroke=\"black\" x1=\"50%\" x2=\"50%\" y1=\"1.2em\" y2=\"3em\" /></svg><line stroke=\"black\" x1=\"50%\" x2=\"16.6667%\" y1=\"1.2em\" y2=\"3em\" /><svg width=\"12.3457%\" x=\"19.7531%\" y=\"3em\"><defs /><svg width=\"100%\" x=\"0\" y=\"0em\"><defs /><text text-anchor=\"middle\" x=\"50%\" y=\"1em\">nonsense</text></svg><svg width=\"100%\" x=\"0%\" y=\"3em\"><defs /><svg width=\"100%\" x=\"0\" y=\"0em\"><defs /><text text-anchor=\"middle\" x=\"50%\" y=\"1em\">NN</text></svg></svg><line stroke=\"black\" x1=\"50%\" x2=\"50%\" y1=\"1.2em\" y2=\"3em\" /></svg><line stroke=\"black\" x1=\"50%\" x2=\"25.9259%\" y1=\"1.2em\" y2=\"3em\" /><svg width=\"6.17284%\" x=\"32.0988%\" y=\"3em\"><defs /><svg width=\"100%\" x=\"0\" y=\"0em\"><defs /><text text-anchor=\"middle\" x=\"50%\" y=\"1em\">and</text></svg><svg width=\"100%\" x=\"0%\" y=\"3em\"><defs /><svg width=\"100%\" x=\"0\" y=\"0em\"><defs /><text text-anchor=\"middle\" x=\"50%\" y=\"1em\">CC</text></svg></svg><line stroke=\"black\" x1=\"50%\" x2=\"50%\" y1=\"1.2em\" y2=\"3em\" /></svg><line stroke=\"black\" x1=\"50%\" x2=\"35.1852%\" y1=\"1.2em\" y2=\"3em\" /><svg width=\"12.3457%\" x=\"38.2716%\" y=\"3em\"><defs /><svg width=\"100%\" x=\"0\" y=\"0em\"><defs /><text text-anchor=\"middle\" x=\"50%\" y=\"1em\">continue</text></svg><svg width=\"100%\" x=\"0%\" y=\"3em\"><defs /><svg width=\"100%\" x=\"0\" y=\"0em\"><defs /><text text-anchor=\"middle\" x=\"50%\" y=\"1em\">VB</text></svg></svg><line stroke=\"black\" x1=\"50%\" x2=\"50%\" y1=\"1.2em\" y2=\"3em\" /></svg><line stroke=\"black\" x1=\"50%\" x2=\"44.4444%\" y1=\"1.2em\" y2=\"3em\" /><svg width=\"6.17284%\" x=\"50.6173%\" y=\"3em\"><defs /><svg width=\"100%\" x=\"0\" y=\"0em\"><defs /><text text-anchor=\"middle\" x=\"50%\" y=\"1em\">all</text></svg><svg width=\"100%\" x=\"0%\" y=\"3em\"><defs /><svg width=\"100%\" x=\"0\" y=\"0em\"><defs /><text text-anchor=\"middle\" x=\"50%\" y=\"1em\">PDT</text></svg></svg><line stroke=\"black\" x1=\"50%\" x2=\"50%\" y1=\"1.2em\" y2=\"3em\" /></svg><line stroke=\"black\" x1=\"50%\" x2=\"53.7037%\" y1=\"1.2em\" y2=\"3em\" /><svg width=\"6.17284%\" x=\"56.7901%\" y=\"3em\"><defs /><svg width=\"100%\" x=\"0\" y=\"0em\"><defs /><text text-anchor=\"middle\" x=\"50%\" y=\"1em\">the</text></svg><svg width=\"100%\" x=\"0%\" y=\"3em\"><defs /><svg width=\"100%\" x=\"0\" y=\"0em\"><defs /><text text-anchor=\"middle\" x=\"50%\" y=\"1em\">DT</text></svg></svg><line stroke=\"black\" x1=\"50%\" x2=\"50%\" y1=\"1.2em\" y2=\"3em\" /></svg><line stroke=\"black\" x1=\"50%\" x2=\"59.8765%\" y1=\"1.2em\" y2=\"3em\" /><svg width=\"8.64198%\" x=\"62.963%\" y=\"3em\"><defs /><svg width=\"100%\" x=\"0\" y=\"0em\"><defs /><text text-anchor=\"middle\" x=\"50%\" y=\"1em\">drama</text></svg><svg width=\"100%\" x=\"0%\" y=\"3em\"><defs /><svg width=\"100%\" x=\"0\" y=\"0em\"><defs /><text text-anchor=\"middle\" x=\"50%\" y=\"1em\">NN</text></svg></svg><line stroke=\"black\" x1=\"50%\" x2=\"50%\" y1=\"1.2em\" y2=\"3em\" /></svg><line stroke=\"black\" x1=\"50%\" x2=\"67.284%\" y1=\"1.2em\" y2=\"3em\" /><svg width=\"7.40741%\" x=\"71.6049%\" y=\"3em\"><defs /><svg width=\"100%\" x=\"0\" y=\"0em\"><defs /><text text-anchor=\"middle\" x=\"50%\" y=\"1em\">will</text></svg><svg width=\"100%\" x=\"0%\" y=\"3em\"><defs /><svg width=\"100%\" x=\"0\" y=\"0em\"><defs /><text text-anchor=\"middle\" x=\"50%\" y=\"1em\">MD</text></svg></svg><line stroke=\"black\" x1=\"50%\" x2=\"50%\" y1=\"1.2em\" y2=\"3em\" /></svg><line stroke=\"black\" x1=\"50%\" x2=\"75.3086%\" y1=\"1.2em\" y2=\"3em\" /><svg width=\"7.40741%\" x=\"79.0123%\" y=\"3em\"><defs /><svg width=\"100%\" x=\"0\" y=\"0em\"><defs /><text text-anchor=\"middle\" x=\"50%\" y=\"1em\">vote</text></svg><svg width=\"100%\" x=\"0%\" y=\"3em\"><defs /><svg width=\"100%\" x=\"0\" y=\"0em\"><defs /><text text-anchor=\"middle\" x=\"50%\" y=\"1em\">VB</text></svg></svg><line stroke=\"black\" x1=\"50%\" x2=\"50%\" y1=\"1.2em\" y2=\"3em\" /></svg><line stroke=\"black\" x1=\"50%\" x2=\"82.716%\" y1=\"1.2em\" y2=\"3em\" /><svg width=\"6.17284%\" x=\"86.4198%\" y=\"3em\"><defs /><svg width=\"100%\" x=\"0\" y=\"0em\"><defs /><text text-anchor=\"middle\" x=\"50%\" y=\"1em\">for</text></svg><svg width=\"100%\" x=\"0%\" y=\"3em\"><defs /><svg width=\"100%\" x=\"0\" y=\"0em\"><defs /><text text-anchor=\"middle\" x=\"50%\" y=\"1em\">IN</text></svg></svg><line stroke=\"black\" x1=\"50%\" x2=\"50%\" y1=\"1.2em\" y2=\"3em\" /></svg><line stroke=\"black\" x1=\"50%\" x2=\"89.5062%\" y1=\"1.2em\" y2=\"3em\" /><svg width=\"7.40741%\" x=\"92.5926%\" y=\"3em\"><defs /><svg width=\"100%\" x=\"0\" y=\"0em\"><defs /><text text-anchor=\"middle\" x=\"50%\" y=\"1em\">modi</text></svg><svg width=\"100%\" x=\"0%\" y=\"3em\"><defs /><svg width=\"100%\" x=\"0\" y=\"0em\"><defs /><text text-anchor=\"middle\" x=\"50%\" y=\"1em\">NN</text></svg></svg><line stroke=\"black\" x1=\"50%\" x2=\"50%\" y1=\"1.2em\" y2=\"3em\" /></svg><line stroke=\"black\" x1=\"50%\" x2=\"96.2963%\" y1=\"1.2em\" y2=\"3em\" /></svg>"
          },
          "metadata": {},
          "execution_count": 67
        }
      ]
    },
    {
      "cell_type": "code",
      "source": [
        "from nltk.sentiment.vader import SentimentIntensityAnalyzer\n",
        "from tqdm.notebook import tqdm"
      ],
      "metadata": {
        "id": "C2vSjc2Lvstn"
      },
      "execution_count": null,
      "outputs": []
    },
    {
      "cell_type": "code",
      "source": [
        "sia = SentimentIntensityAnalyzer()\n",
        "sentence = df['clean_text'][10]\n",
        "sia.polarity_scores(sentence)"
      ],
      "metadata": {
        "colab": {
          "base_uri": "https://localhost:8080/"
        },
        "id": "Eg266wjzw7SO",
        "outputId": "46258c10-7cf1-48b9-ccc9-15ec492e2185"
      },
      "execution_count": null,
      "outputs": [
        {
          "output_type": "execute_result",
          "data": {
            "text/plain": [
              "{'neg': 0.0, 'neu': 0.875, 'pos': 0.125, 'compound': 0.6124}"
            ]
          },
          "metadata": {},
          "execution_count": 88
        }
      ]
    },
    {
      "cell_type": "code",
      "source": [
        "sentimentDict = sia.polarity_scores(sentence)\n",
        "sentiment = max(sentimentDict, key=sentimentDict.get)\n",
        "sentiment"
      ],
      "metadata": {
        "colab": {
          "base_uri": "https://localhost:8080/",
          "height": 35
        },
        "id": "v0niTkdvxJMq",
        "outputId": "3865d5d1-60b4-4438-cbc3-b0de87c959d1"
      },
      "execution_count": null,
      "outputs": [
        {
          "output_type": "execute_result",
          "data": {
            "text/plain": [
              "'neu'"
            ],
            "application/vnd.google.colaboratory.intrinsic+json": {
              "type": "string"
            }
          },
          "metadata": {},
          "execution_count": 79
        }
      ]
    },
    {
      "cell_type": "code",
      "source": [
        "sentence = df['clean_text'][0]\n",
        "sentimentDict = sia.polarity_scores(sentence)\n",
        "print(sentimentDict)\n",
        "sentiment = max(sentimentDict, key=sentimentDict.get)\n",
        "print(sentiment)"
      ],
      "metadata": {
        "colab": {
          "base_uri": "https://localhost:8080/"
        },
        "id": "HwCclcUW0Gaa",
        "outputId": "3e8358ad-2352-4931-b9c0-3c1f481e7461"
      },
      "execution_count": null,
      "outputs": [
        {
          "output_type": "stream",
          "name": "stdout",
          "text": [
            "{'neg': 0.065, 'neu': 0.781, 'pos': 0.154, 'compound': 0.5267}\n",
            "neu\n"
          ]
        }
      ]
    },
    {
      "cell_type": "code",
      "source": [
        "sentimentCompare = []\n",
        "sentimentMapDict = {\n",
        "    'pos': 1.0,\n",
        "    'neu': 0.0,\n",
        "    'neg': -1.0\n",
        "}\n",
        "index = 0\n",
        "for i, row in tqdm(df.iterrows()):\n",
        "  try:\n",
        "    sentimentCompareDict = {}\n",
        "    sentence = row['clean_text']\n",
        "    sentimentDict = sia.polarity_scores(sentence)\n",
        "    sentimentDict.pop('compound')\n",
        "    sentiment = max(sentimentDict, key=sentimentDict.get)\n",
        "    sentimentCompareDict['Id'] = index\n",
        "    sentimentCompareDict['vader'] = sentimentMapDict[sentiment]\n",
        "    sentimentCompareDict['original'] = row['category']\n",
        "    sentimentCompare.append(sentimentCompareDict)\n",
        "    index += 1\n",
        "  except Exception:\n",
        "    print(\"error occured for id\", index)\n",
        "\n"
      ],
      "metadata": {
        "colab": {
          "base_uri": "https://localhost:8080/",
          "height": 84,
          "referenced_widgets": [
            "7c1deff071ac42988510d8c8069c59ae",
            "a46bb57ccbd648c8a3a695f5ec83119a",
            "6b73257c254a4213bec083d315dcd762",
            "4b49acdd7ef9441fb3e675ab0bb0661f",
            "a68f0b493a584c749f5faef555673c36",
            "a6463f7662a94f66949eeeb062065d8f",
            "7854c44692a14e4aba1acd585a5c8372",
            "4ad971cf17b04d5bb19fc779c88fde31",
            "9df3214b49a74a9992a4fc455d6a93a2",
            "dfa8655efd8245089552697d9d685a28",
            "15ca62adfe554af18d6510644e6f79a7"
          ]
        },
        "id": "1gfR5xga0PLH",
        "outputId": "b6b138d8-f513-449e-9ba3-122d2a0d286f"
      },
      "execution_count": null,
      "outputs": [
        {
          "output_type": "display_data",
          "data": {
            "text/plain": [
              "0it [00:00, ?it/s]"
            ],
            "application/vnd.jupyter.widget-view+json": {
              "version_major": 2,
              "version_minor": 0,
              "model_id": "7c1deff071ac42988510d8c8069c59ae"
            }
          },
          "metadata": {}
        },
        {
          "output_type": "stream",
          "name": "stdout",
          "text": [
            "error occured for id 148\n"
          ]
        },
        {
          "output_type": "execute_result",
          "data": {
            "text/plain": [
              "{'Id': 498, 'vader': 0.0, 'original': 1.0}"
            ]
          },
          "metadata": {},
          "execution_count": 93
        }
      ]
    },
    {
      "cell_type": "code",
      "source": [
        "sentimentCompare"
      ],
      "metadata": {
        "colab": {
          "base_uri": "https://localhost:8080/"
        },
        "id": "6uBO7_Fy1UIP",
        "outputId": "d49c52d3-2ab0-415f-c850-59cb6b82e258"
      },
      "execution_count": null,
      "outputs": [
        {
          "output_type": "execute_result",
          "data": {
            "text/plain": [
              "[{'Id': 0, 'vader': 0.0, 'original': -1.0},\n",
              " {'Id': 1, 'vader': 0.0, 'original': 0.0},\n",
              " {'Id': 2, 'vader': 0.0, 'original': 1.0},\n",
              " {'Id': 3, 'vader': 0.0, 'original': 1.0},\n",
              " {'Id': 4, 'vader': 0.0, 'original': 1.0},\n",
              " {'Id': 5, 'vader': 0.0, 'original': 0.0},\n",
              " {'Id': 6, 'vader': 0.0, 'original': 0.0},\n",
              " {'Id': 7, 'vader': 0.0, 'original': 0.0},\n",
              " {'Id': 8, 'vader': 0.0, 'original': 1.0},\n",
              " {'Id': 9, 'vader': 0.0, 'original': 1.0},\n",
              " {'Id': 10, 'vader': 0.0, 'original': 1.0},\n",
              " {'Id': 11, 'vader': 0.0, 'original': 1.0},\n",
              " {'Id': 12, 'vader': 0.0, 'original': 1.0},\n",
              " {'Id': 13, 'vader': 0.0, 'original': 0.0},\n",
              " {'Id': 14, 'vader': 0.0, 'original': 0.0},\n",
              " {'Id': 15, 'vader': 0.0, 'original': -1.0},\n",
              " {'Id': 16, 'vader': 0.0, 'original': 0.0},\n",
              " {'Id': 17, 'vader': 0.0, 'original': 0.0},\n",
              " {'Id': 18, 'vader': 0.0, 'original': 1.0},\n",
              " {'Id': 19, 'vader': 0.0, 'original': -1.0},\n",
              " {'Id': 20, 'vader': 0.0, 'original': 1.0},\n",
              " {'Id': 21, 'vader': 0.0, 'original': -1.0},\n",
              " {'Id': 22, 'vader': 0.0, 'original': 0.0},\n",
              " {'Id': 23, 'vader': 0.0, 'original': -1.0},\n",
              " {'Id': 24, 'vader': 0.0, 'original': -1.0},\n",
              " {'Id': 25, 'vader': 0.0, 'original': 1.0},\n",
              " {'Id': 26, 'vader': 0.0, 'original': 0.0},\n",
              " {'Id': 27, 'vader': 0.0, 'original': 0.0},\n",
              " {'Id': 28, 'vader': 0.0, 'original': 0.0},\n",
              " {'Id': 29, 'vader': 0.0, 'original': 0.0},\n",
              " {'Id': 30, 'vader': 0.0, 'original': 1.0},\n",
              " {'Id': 31, 'vader': 0.0, 'original': 0.0},\n",
              " {'Id': 32, 'vader': 0.0, 'original': -1.0},\n",
              " {'Id': 33, 'vader': 0.0, 'original': 1.0},\n",
              " {'Id': 34, 'vader': 0.0, 'original': -1.0},\n",
              " {'Id': 35, 'vader': 0.0, 'original': 0.0},\n",
              " {'Id': 36, 'vader': 0.0, 'original': 1.0},\n",
              " {'Id': 37, 'vader': 0.0, 'original': 1.0},\n",
              " {'Id': 38, 'vader': 0.0, 'original': -1.0},\n",
              " {'Id': 39, 'vader': 1.0, 'original': -1.0},\n",
              " {'Id': 40, 'vader': 1.0, 'original': 1.0},\n",
              " {'Id': 41, 'vader': 0.0, 'original': 0.0},\n",
              " {'Id': 42, 'vader': 0.0, 'original': 0.0},\n",
              " {'Id': 43, 'vader': 0.0, 'original': 1.0},\n",
              " {'Id': 44, 'vader': 0.0, 'original': 1.0},\n",
              " {'Id': 45, 'vader': 0.0, 'original': 1.0},\n",
              " {'Id': 46, 'vader': 0.0, 'original': 1.0},\n",
              " {'Id': 47, 'vader': 0.0, 'original': 0.0},\n",
              " {'Id': 48, 'vader': 0.0, 'original': 1.0},\n",
              " {'Id': 49, 'vader': 0.0, 'original': -1.0},\n",
              " {'Id': 50, 'vader': 0.0, 'original': 1.0},\n",
              " {'Id': 51, 'vader': 0.0, 'original': 0.0},\n",
              " {'Id': 52, 'vader': 0.0, 'original': 0.0},\n",
              " {'Id': 53, 'vader': 0.0, 'original': -1.0},\n",
              " {'Id': 54, 'vader': 0.0, 'original': 1.0},\n",
              " {'Id': 55, 'vader': 0.0, 'original': -1.0},\n",
              " {'Id': 56, 'vader': 0.0, 'original': 0.0},\n",
              " {'Id': 57, 'vader': 0.0, 'original': 0.0},\n",
              " {'Id': 58, 'vader': 0.0, 'original': 0.0},\n",
              " {'Id': 59, 'vader': 0.0, 'original': 0.0},\n",
              " {'Id': 60, 'vader': 0.0, 'original': -1.0},\n",
              " {'Id': 61, 'vader': 0.0, 'original': 0.0},\n",
              " {'Id': 62, 'vader': 0.0, 'original': -1.0},\n",
              " {'Id': 63, 'vader': 0.0, 'original': 1.0},\n",
              " {'Id': 64, 'vader': 0.0, 'original': 1.0},\n",
              " {'Id': 65, 'vader': 0.0, 'original': 1.0},\n",
              " {'Id': 66, 'vader': 0.0, 'original': 1.0},\n",
              " {'Id': 67, 'vader': 0.0, 'original': -1.0},\n",
              " {'Id': 68, 'vader': 0.0, 'original': -1.0},\n",
              " {'Id': 69, 'vader': 0.0, 'original': 1.0},\n",
              " {'Id': 70, 'vader': 0.0, 'original': 0.0},\n",
              " {'Id': 71, 'vader': 0.0, 'original': 0.0},\n",
              " {'Id': 72, 'vader': 0.0, 'original': 1.0},\n",
              " {'Id': 73, 'vader': 0.0, 'original': -1.0},\n",
              " {'Id': 74, 'vader': 0.0, 'original': 1.0},\n",
              " {'Id': 75, 'vader': 0.0, 'original': 0.0},\n",
              " {'Id': 76, 'vader': 0.0, 'original': 1.0},\n",
              " {'Id': 77, 'vader': 0.0, 'original': 0.0},\n",
              " {'Id': 78, 'vader': 0.0, 'original': -1.0},\n",
              " {'Id': 79, 'vader': 0.0, 'original': 1.0},\n",
              " {'Id': 80, 'vader': 0.0, 'original': 0.0},\n",
              " {'Id': 81, 'vader': 0.0, 'original': 1.0},\n",
              " {'Id': 82, 'vader': 0.0, 'original': -1.0},\n",
              " {'Id': 83, 'vader': 0.0, 'original': 1.0},\n",
              " {'Id': 84, 'vader': 0.0, 'original': 0.0},\n",
              " {'Id': 85, 'vader': 0.0, 'original': -1.0},\n",
              " {'Id': 86, 'vader': 0.0, 'original': 0.0},\n",
              " {'Id': 87, 'vader': 0.0, 'original': -1.0},\n",
              " {'Id': 88, 'vader': 0.0, 'original': 0.0},\n",
              " {'Id': 89, 'vader': 0.0, 'original': 1.0},\n",
              " {'Id': 90, 'vader': 0.0, 'original': 1.0},\n",
              " {'Id': 91, 'vader': 0.0, 'original': -1.0},\n",
              " {'Id': 92, 'vader': 0.0, 'original': 1.0},\n",
              " {'Id': 93, 'vader': 0.0, 'original': 1.0},\n",
              " {'Id': 94, 'vader': 0.0, 'original': 1.0},\n",
              " {'Id': 95, 'vader': 0.0, 'original': 0.0},\n",
              " {'Id': 96, 'vader': 0.0, 'original': 0.0},\n",
              " {'Id': 97, 'vader': 0.0, 'original': 0.0},\n",
              " {'Id': 98, 'vader': 0.0, 'original': -1.0},\n",
              " {'Id': 99, 'vader': -1.0, 'original': 1.0},\n",
              " {'Id': 100, 'vader': 0.0, 'original': 1.0},\n",
              " {'Id': 101, 'vader': 0.0, 'original': 0.0},\n",
              " {'Id': 102, 'vader': 0.0, 'original': -1.0},\n",
              " {'Id': 103, 'vader': 0.0, 'original': -1.0},\n",
              " {'Id': 104, 'vader': 0.0, 'original': -1.0},\n",
              " {'Id': 105, 'vader': 0.0, 'original': 0.0},\n",
              " {'Id': 106, 'vader': 0.0, 'original': 1.0},\n",
              " {'Id': 107, 'vader': 0.0, 'original': 0.0},\n",
              " {'Id': 108, 'vader': 0.0, 'original': -1.0},\n",
              " {'Id': 109, 'vader': 0.0, 'original': 1.0},\n",
              " {'Id': 110, 'vader': 0.0, 'original': 0.0},\n",
              " {'Id': 111, 'vader': 0.0, 'original': 1.0},\n",
              " {'Id': 112, 'vader': 0.0, 'original': -1.0},\n",
              " {'Id': 113, 'vader': 0.0, 'original': 1.0},\n",
              " {'Id': 114, 'vader': 0.0, 'original': 0.0},\n",
              " {'Id': 115, 'vader': 0.0, 'original': 0.0},\n",
              " {'Id': 116, 'vader': 0.0, 'original': 1.0},\n",
              " {'Id': 117, 'vader': 0.0, 'original': 1.0},\n",
              " {'Id': 118, 'vader': 0.0, 'original': 0.0},\n",
              " {'Id': 119, 'vader': 0.0, 'original': 0.0},\n",
              " {'Id': 120, 'vader': 0.0, 'original': 0.0},\n",
              " {'Id': 121, 'vader': 0.0, 'original': 0.0},\n",
              " {'Id': 122, 'vader': 0.0, 'original': 0.0},\n",
              " {'Id': 123, 'vader': 0.0, 'original': 1.0},\n",
              " {'Id': 124, 'vader': 0.0, 'original': 0.0},\n",
              " {'Id': 125, 'vader': 0.0, 'original': 0.0},\n",
              " {'Id': 126, 'vader': 0.0, 'original': 1.0},\n",
              " {'Id': 127, 'vader': 0.0, 'original': 0.0},\n",
              " {'Id': 128, 'vader': 0.0, 'original': 0.0},\n",
              " {'Id': 129, 'vader': 0.0, 'original': 1.0},\n",
              " {'Id': 130, 'vader': 0.0, 'original': 1.0},\n",
              " {'Id': 131, 'vader': 0.0, 'original': 0.0},\n",
              " {'Id': 132, 'vader': 0.0, 'original': -1.0},\n",
              " {'Id': 133, 'vader': 0.0, 'original': 0.0},\n",
              " {'Id': 134, 'vader': 1.0, 'original': 1.0},\n",
              " {'Id': 135, 'vader': 0.0, 'original': -1.0},\n",
              " {'Id': 136, 'vader': 0.0, 'original': -1.0},\n",
              " {'Id': 137, 'vader': 0.0, 'original': -1.0},\n",
              " {'Id': 138, 'vader': 0.0, 'original': 1.0},\n",
              " {'Id': 139, 'vader': 0.0, 'original': 0.0},\n",
              " {'Id': 140, 'vader': 0.0, 'original': 0.0},\n",
              " {'Id': 141, 'vader': 0.0, 'original': 0.0},\n",
              " {'Id': 142, 'vader': 0.0, 'original': 1.0},\n",
              " {'Id': 143, 'vader': 0.0, 'original': 1.0},\n",
              " {'Id': 144, 'vader': 0.0, 'original': 0.0},\n",
              " {'Id': 145, 'vader': 0.0, 'original': 1.0},\n",
              " {'Id': 146, 'vader': 0.0, 'original': 0.0},\n",
              " {'Id': 147, 'vader': 0.0, 'original': 1.0},\n",
              " {'Id': 148, 'vader': 0.0, 'original': -1.0},\n",
              " {'Id': 149, 'vader': 0.0, 'original': -1.0},\n",
              " {'Id': 150, 'vader': 0.0, 'original': 1.0},\n",
              " {'Id': 151, 'vader': 0.0, 'original': 0.0},\n",
              " {'Id': 152, 'vader': 0.0, 'original': 0.0},\n",
              " {'Id': 153, 'vader': 0.0, 'original': 0.0},\n",
              " {'Id': 154, 'vader': 0.0, 'original': 0.0},\n",
              " {'Id': 155, 'vader': 0.0, 'original': -1.0},\n",
              " {'Id': 156, 'vader': 0.0, 'original': 1.0},\n",
              " {'Id': 157, 'vader': 0.0, 'original': -1.0},\n",
              " {'Id': 158, 'vader': 0.0, 'original': 0.0},\n",
              " {'Id': 159, 'vader': 0.0, 'original': 1.0},\n",
              " {'Id': 160, 'vader': 0.0, 'original': 0.0},\n",
              " {'Id': 161, 'vader': 0.0, 'original': -1.0},\n",
              " {'Id': 162, 'vader': 0.0, 'original': 0.0},\n",
              " {'Id': 163, 'vader': 0.0, 'original': 1.0},\n",
              " {'Id': 164, 'vader': 0.0, 'original': 1.0},\n",
              " {'Id': 165, 'vader': 0.0, 'original': 0.0},\n",
              " {'Id': 166, 'vader': 0.0, 'original': 1.0},\n",
              " {'Id': 167, 'vader': 0.0, 'original': 1.0},\n",
              " {'Id': 168, 'vader': 0.0, 'original': 0.0},\n",
              " {'Id': 169, 'vader': 0.0, 'original': 0.0},\n",
              " {'Id': 170, 'vader': 0.0, 'original': 0.0},\n",
              " {'Id': 171, 'vader': 0.0, 'original': -1.0},\n",
              " {'Id': 172, 'vader': 0.0, 'original': 1.0},\n",
              " {'Id': 173, 'vader': 0.0, 'original': 1.0},\n",
              " {'Id': 174, 'vader': 0.0, 'original': 0.0},\n",
              " {'Id': 175, 'vader': 0.0, 'original': 0.0},\n",
              " {'Id': 176, 'vader': 0.0, 'original': -1.0},\n",
              " {'Id': 177, 'vader': 0.0, 'original': 0.0},\n",
              " {'Id': 178, 'vader': 0.0, 'original': -1.0},\n",
              " {'Id': 179, 'vader': 0.0, 'original': 1.0},\n",
              " {'Id': 180, 'vader': 0.0, 'original': 1.0},\n",
              " {'Id': 181, 'vader': 0.0, 'original': -1.0},\n",
              " {'Id': 182, 'vader': 0.0, 'original': 0.0},\n",
              " {'Id': 183, 'vader': 0.0, 'original': 1.0},\n",
              " {'Id': 184, 'vader': 0.0, 'original': 0.0},\n",
              " {'Id': 185, 'vader': 0.0, 'original': 1.0},\n",
              " {'Id': 186, 'vader': 0.0, 'original': 1.0},\n",
              " {'Id': 187, 'vader': 0.0, 'original': 1.0},\n",
              " {'Id': 188, 'vader': 0.0, 'original': 0.0},\n",
              " {'Id': 189, 'vader': 0.0, 'original': 1.0},\n",
              " {'Id': 190, 'vader': 0.0, 'original': 0.0},\n",
              " {'Id': 191, 'vader': 0.0, 'original': 0.0},\n",
              " {'Id': 192, 'vader': 0.0, 'original': -1.0},\n",
              " {'Id': 193, 'vader': 0.0, 'original': 0.0},\n",
              " {'Id': 194, 'vader': 0.0, 'original': 1.0},\n",
              " {'Id': 195, 'vader': 0.0, 'original': 0.0},\n",
              " {'Id': 196, 'vader': 0.0, 'original': -1.0},\n",
              " {'Id': 197, 'vader': 0.0, 'original': 0.0},\n",
              " {'Id': 198, 'vader': 0.0, 'original': 0.0},\n",
              " {'Id': 199, 'vader': 0.0, 'original': 1.0},\n",
              " {'Id': 200, 'vader': 0.0, 'original': -1.0},\n",
              " {'Id': 201, 'vader': 0.0, 'original': 0.0},\n",
              " {'Id': 202, 'vader': 0.0, 'original': 1.0},\n",
              " {'Id': 203, 'vader': 0.0, 'original': -1.0},\n",
              " {'Id': 204, 'vader': 0.0, 'original': 1.0},\n",
              " {'Id': 205, 'vader': 0.0, 'original': -1.0},\n",
              " {'Id': 206, 'vader': 0.0, 'original': 0.0},\n",
              " {'Id': 207, 'vader': 0.0, 'original': 1.0},\n",
              " {'Id': 208, 'vader': 0.0, 'original': -1.0},\n",
              " {'Id': 209, 'vader': 0.0, 'original': 1.0},\n",
              " {'Id': 210, 'vader': 0.0, 'original': 1.0},\n",
              " {'Id': 211, 'vader': 1.0, 'original': 1.0},\n",
              " {'Id': 212, 'vader': 0.0, 'original': -1.0},\n",
              " {'Id': 213, 'vader': 0.0, 'original': 0.0},\n",
              " {'Id': 214, 'vader': 0.0, 'original': 1.0},\n",
              " {'Id': 215, 'vader': 0.0, 'original': 0.0},\n",
              " {'Id': 216, 'vader': 1.0, 'original': 0.0},\n",
              " {'Id': 217, 'vader': 0.0, 'original': -1.0},\n",
              " {'Id': 218, 'vader': 0.0, 'original': 0.0},\n",
              " {'Id': 219, 'vader': 0.0, 'original': 1.0},\n",
              " {'Id': 220, 'vader': 0.0, 'original': -1.0},\n",
              " {'Id': 221, 'vader': 0.0, 'original': 0.0},\n",
              " {'Id': 222, 'vader': 0.0, 'original': 1.0},\n",
              " {'Id': 223, 'vader': 0.0, 'original': 0.0},\n",
              " {'Id': 224, 'vader': 0.0, 'original': 1.0},\n",
              " {'Id': 225, 'vader': 0.0, 'original': 0.0},\n",
              " {'Id': 226, 'vader': 1.0, 'original': 1.0},\n",
              " {'Id': 227, 'vader': 0.0, 'original': 0.0},\n",
              " {'Id': 228, 'vader': 0.0, 'original': 1.0},\n",
              " {'Id': 229, 'vader': 0.0, 'original': -1.0},\n",
              " {'Id': 230, 'vader': 0.0, 'original': 1.0},\n",
              " {'Id': 231, 'vader': 0.0, 'original': 1.0},\n",
              " {'Id': 232, 'vader': 0.0, 'original': 1.0},\n",
              " {'Id': 233, 'vader': 0.0, 'original': 1.0},\n",
              " {'Id': 234, 'vader': 0.0, 'original': -1.0},\n",
              " {'Id': 235, 'vader': 0.0, 'original': 1.0},\n",
              " {'Id': 236, 'vader': 0.0, 'original': 0.0},\n",
              " {'Id': 237, 'vader': 0.0, 'original': 1.0},\n",
              " {'Id': 238, 'vader': 0.0, 'original': 1.0},\n",
              " {'Id': 239, 'vader': 0.0, 'original': -1.0},\n",
              " {'Id': 240, 'vader': 0.0, 'original': 0.0},\n",
              " {'Id': 241, 'vader': 0.0, 'original': -1.0},\n",
              " {'Id': 242, 'vader': 0.0, 'original': 0.0},\n",
              " {'Id': 243, 'vader': 0.0, 'original': 1.0},\n",
              " {'Id': 244, 'vader': 0.0, 'original': 1.0},\n",
              " {'Id': 245, 'vader': 0.0, 'original': 0.0},\n",
              " {'Id': 246, 'vader': 0.0, 'original': 0.0},\n",
              " {'Id': 247, 'vader': 0.0, 'original': 0.0},\n",
              " {'Id': 248, 'vader': 1.0, 'original': 1.0},\n",
              " {'Id': 249, 'vader': 0.0, 'original': 1.0},\n",
              " {'Id': 250, 'vader': 1.0, 'original': 0.0},\n",
              " {'Id': 251, 'vader': 0.0, 'original': 1.0},\n",
              " {'Id': 252, 'vader': 0.0, 'original': 1.0},\n",
              " {'Id': 253, 'vader': 0.0, 'original': 1.0},\n",
              " {'Id': 254, 'vader': 0.0, 'original': 0.0},\n",
              " {'Id': 255, 'vader': 0.0, 'original': 0.0},\n",
              " {'Id': 256, 'vader': 0.0, 'original': 1.0},\n",
              " {'Id': 257, 'vader': 0.0, 'original': 1.0},\n",
              " {'Id': 258, 'vader': 0.0, 'original': 1.0},\n",
              " {'Id': 259, 'vader': 0.0, 'original': -1.0},\n",
              " {'Id': 260, 'vader': 0.0, 'original': 0.0},\n",
              " {'Id': 261, 'vader': 0.0, 'original': 1.0},\n",
              " {'Id': 262, 'vader': 0.0, 'original': -1.0},\n",
              " {'Id': 263, 'vader': 1.0, 'original': 1.0},\n",
              " {'Id': 264, 'vader': 0.0, 'original': 1.0},\n",
              " {'Id': 265, 'vader': 0.0, 'original': 1.0},\n",
              " {'Id': 266, 'vader': 0.0, 'original': 1.0},\n",
              " {'Id': 267, 'vader': 0.0, 'original': 1.0},\n",
              " {'Id': 268, 'vader': 0.0, 'original': 0.0},\n",
              " {'Id': 269, 'vader': 0.0, 'original': 0.0},\n",
              " {'Id': 270, 'vader': 0.0, 'original': 0.0},\n",
              " {'Id': 271, 'vader': 0.0, 'original': 1.0},\n",
              " {'Id': 272, 'vader': 0.0, 'original': -1.0},\n",
              " {'Id': 273, 'vader': 0.0, 'original': 0.0},\n",
              " {'Id': 274, 'vader': 0.0, 'original': 0.0},\n",
              " {'Id': 275, 'vader': 0.0, 'original': 0.0},\n",
              " {'Id': 276, 'vader': 0.0, 'original': 1.0},\n",
              " {'Id': 277, 'vader': 0.0, 'original': 1.0},\n",
              " {'Id': 278, 'vader': 0.0, 'original': 1.0},\n",
              " {'Id': 279, 'vader': 0.0, 'original': 0.0},\n",
              " {'Id': 280, 'vader': 0.0, 'original': 1.0},\n",
              " {'Id': 281, 'vader': 0.0, 'original': -1.0},\n",
              " {'Id': 282, 'vader': 0.0, 'original': -1.0},\n",
              " {'Id': 283, 'vader': 0.0, 'original': 0.0},\n",
              " {'Id': 284, 'vader': 0.0, 'original': -1.0},\n",
              " {'Id': 285, 'vader': 0.0, 'original': 1.0},\n",
              " {'Id': 286, 'vader': 0.0, 'original': 0.0},\n",
              " {'Id': 287, 'vader': 0.0, 'original': 1.0},\n",
              " {'Id': 288, 'vader': 0.0, 'original': 0.0},\n",
              " {'Id': 289, 'vader': 1.0, 'original': 1.0},\n",
              " {'Id': 290, 'vader': 0.0, 'original': 1.0},\n",
              " {'Id': 291, 'vader': 0.0, 'original': 1.0},\n",
              " {'Id': 292, 'vader': 0.0, 'original': 1.0},\n",
              " {'Id': 293, 'vader': 0.0, 'original': 1.0},\n",
              " {'Id': 294, 'vader': 0.0, 'original': 1.0},\n",
              " {'Id': 295, 'vader': 0.0, 'original': -1.0},\n",
              " {'Id': 296, 'vader': 0.0, 'original': 0.0},\n",
              " {'Id': 297, 'vader': 0.0, 'original': 1.0},\n",
              " {'Id': 298, 'vader': 0.0, 'original': 0.0},\n",
              " {'Id': 299, 'vader': 0.0, 'original': 0.0},\n",
              " {'Id': 300, 'vader': 0.0, 'original': 1.0},\n",
              " {'Id': 301, 'vader': 0.0, 'original': 1.0},\n",
              " {'Id': 302, 'vader': 0.0, 'original': 1.0},\n",
              " {'Id': 303, 'vader': 0.0, 'original': 0.0},\n",
              " {'Id': 304, 'vader': 0.0, 'original': 1.0},\n",
              " {'Id': 305, 'vader': 0.0, 'original': 0.0},\n",
              " {'Id': 306, 'vader': -1.0, 'original': -1.0},\n",
              " {'Id': 307, 'vader': 0.0, 'original': 1.0},\n",
              " {'Id': 308, 'vader': 0.0, 'original': 1.0},\n",
              " {'Id': 309, 'vader': 0.0, 'original': 1.0},\n",
              " {'Id': 310, 'vader': 0.0, 'original': 1.0},\n",
              " {'Id': 311, 'vader': 0.0, 'original': 1.0},\n",
              " {'Id': 312, 'vader': 0.0, 'original': 0.0},\n",
              " {'Id': 313, 'vader': 0.0, 'original': 0.0},\n",
              " {'Id': 314, 'vader': 0.0, 'original': 1.0},\n",
              " {'Id': 315, 'vader': 0.0, 'original': 0.0},\n",
              " {'Id': 316, 'vader': 0.0, 'original': 1.0},\n",
              " {'Id': 317, 'vader': 0.0, 'original': 0.0},\n",
              " {'Id': 318, 'vader': 0.0, 'original': 1.0},\n",
              " {'Id': 319, 'vader': 0.0, 'original': 1.0},\n",
              " {'Id': 320, 'vader': 0.0, 'original': 1.0},\n",
              " {'Id': 321, 'vader': 0.0, 'original': -1.0},\n",
              " {'Id': 322, 'vader': 0.0, 'original': 1.0},\n",
              " {'Id': 323, 'vader': 0.0, 'original': -1.0},\n",
              " {'Id': 324, 'vader': 0.0, 'original': -1.0},\n",
              " {'Id': 325, 'vader': 0.0, 'original': 0.0},\n",
              " {'Id': 326, 'vader': 0.0, 'original': 0.0},\n",
              " {'Id': 327, 'vader': 0.0, 'original': 0.0},\n",
              " {'Id': 328, 'vader': 0.0, 'original': -1.0},\n",
              " {'Id': 329, 'vader': 0.0, 'original': 1.0},\n",
              " {'Id': 330, 'vader': 0.0, 'original': 1.0},\n",
              " {'Id': 331, 'vader': 0.0, 'original': 1.0},\n",
              " {'Id': 332, 'vader': 0.0, 'original': 0.0},\n",
              " {'Id': 333, 'vader': 0.0, 'original': 0.0},\n",
              " {'Id': 334, 'vader': 0.0, 'original': 1.0},\n",
              " {'Id': 335, 'vader': 0.0, 'original': 1.0},\n",
              " {'Id': 336, 'vader': 0.0, 'original': 1.0},\n",
              " {'Id': 337, 'vader': 0.0, 'original': 1.0},\n",
              " {'Id': 338, 'vader': 0.0, 'original': -1.0},\n",
              " {'Id': 339, 'vader': 0.0, 'original': 1.0},\n",
              " {'Id': 340, 'vader': 0.0, 'original': -1.0},\n",
              " {'Id': 341, 'vader': 0.0, 'original': 0.0},\n",
              " {'Id': 342, 'vader': 0.0, 'original': 0.0},\n",
              " {'Id': 343, 'vader': 0.0, 'original': 1.0},\n",
              " {'Id': 344, 'vader': 0.0, 'original': 0.0},\n",
              " {'Id': 345, 'vader': 0.0, 'original': 1.0},\n",
              " {'Id': 346, 'vader': 0.0, 'original': 0.0},\n",
              " {'Id': 347, 'vader': 0.0, 'original': 1.0},\n",
              " {'Id': 348, 'vader': 0.0, 'original': 0.0},\n",
              " {'Id': 349, 'vader': 0.0, 'original': 1.0},\n",
              " {'Id': 350, 'vader': 0.0, 'original': 0.0},\n",
              " {'Id': 351, 'vader': 0.0, 'original': -1.0},\n",
              " {'Id': 352, 'vader': 0.0, 'original': 1.0},\n",
              " {'Id': 353, 'vader': 0.0, 'original': 1.0},\n",
              " {'Id': 354, 'vader': 0.0, 'original': 0.0},\n",
              " {'Id': 355, 'vader': 0.0, 'original': 0.0},\n",
              " {'Id': 356, 'vader': 0.0, 'original': 1.0},\n",
              " {'Id': 357, 'vader': 0.0, 'original': 1.0},\n",
              " {'Id': 358, 'vader': 0.0, 'original': -1.0},\n",
              " {'Id': 359, 'vader': 0.0, 'original': 1.0},\n",
              " {'Id': 360, 'vader': 0.0, 'original': 0.0},\n",
              " {'Id': 361, 'vader': 0.0, 'original': 0.0},\n",
              " {'Id': 362, 'vader': 0.0, 'original': -1.0},\n",
              " {'Id': 363, 'vader': 0.0, 'original': 1.0},\n",
              " {'Id': 364, 'vader': 0.0, 'original': 1.0},\n",
              " {'Id': 365, 'vader': 0.0, 'original': 1.0},\n",
              " {'Id': 366, 'vader': 0.0, 'original': 0.0},\n",
              " {'Id': 367, 'vader': 0.0, 'original': 1.0},\n",
              " {'Id': 368, 'vader': 0.0, 'original': -1.0},\n",
              " {'Id': 369, 'vader': 0.0, 'original': 1.0},\n",
              " {'Id': 370, 'vader': 0.0, 'original': 1.0},\n",
              " {'Id': 371, 'vader': 0.0, 'original': 0.0},\n",
              " {'Id': 372, 'vader': 0.0, 'original': -1.0},\n",
              " {'Id': 373, 'vader': 0.0, 'original': 1.0},\n",
              " {'Id': 374, 'vader': 0.0, 'original': 0.0},\n",
              " {'Id': 375, 'vader': 0.0, 'original': 0.0},\n",
              " {'Id': 376, 'vader': 0.0, 'original': -1.0},\n",
              " {'Id': 377, 'vader': 0.0, 'original': -1.0},\n",
              " {'Id': 378, 'vader': 0.0, 'original': 0.0},\n",
              " {'Id': 379, 'vader': 0.0, 'original': 1.0},\n",
              " {'Id': 380, 'vader': 0.0, 'original': 1.0},\n",
              " {'Id': 381, 'vader': 0.0, 'original': 1.0},\n",
              " {'Id': 382, 'vader': -1.0, 'original': -1.0},\n",
              " {'Id': 383, 'vader': 0.0, 'original': 0.0},\n",
              " {'Id': 384, 'vader': 0.0, 'original': 0.0},\n",
              " {'Id': 385, 'vader': 0.0, 'original': 1.0},\n",
              " {'Id': 386, 'vader': 1.0, 'original': 0.0},\n",
              " {'Id': 387, 'vader': 0.0, 'original': 0.0},\n",
              " {'Id': 388, 'vader': 0.0, 'original': 1.0},\n",
              " {'Id': 389, 'vader': 0.0, 'original': 1.0},\n",
              " {'Id': 390, 'vader': 0.0, 'original': 1.0},\n",
              " {'Id': 391, 'vader': 0.0, 'original': -1.0},\n",
              " {'Id': 392, 'vader': 0.0, 'original': -1.0},\n",
              " {'Id': 393, 'vader': 0.0, 'original': 0.0},\n",
              " {'Id': 394, 'vader': 0.0, 'original': 1.0},\n",
              " {'Id': 395, 'vader': 0.0, 'original': 0.0},\n",
              " {'Id': 396, 'vader': 0.0, 'original': -1.0},\n",
              " {'Id': 397, 'vader': 0.0, 'original': 1.0},\n",
              " {'Id': 398, 'vader': 0.0, 'original': 0.0},\n",
              " {'Id': 399, 'vader': 0.0, 'original': 1.0},\n",
              " {'Id': 400, 'vader': 0.0, 'original': -1.0},\n",
              " {'Id': 401, 'vader': 0.0, 'original': 0.0},\n",
              " {'Id': 402, 'vader': 0.0, 'original': 0.0},\n",
              " {'Id': 403, 'vader': 0.0, 'original': -1.0},\n",
              " {'Id': 404, 'vader': 0.0, 'original': 0.0},\n",
              " {'Id': 405, 'vader': -1.0, 'original': 0.0},\n",
              " {'Id': 406, 'vader': 0.0, 'original': 1.0},\n",
              " {'Id': 407, 'vader': 0.0, 'original': 0.0},\n",
              " {'Id': 408, 'vader': 0.0, 'original': 1.0},\n",
              " {'Id': 409, 'vader': 0.0, 'original': -1.0},\n",
              " {'Id': 410, 'vader': 0.0, 'original': 0.0},\n",
              " {'Id': 411, 'vader': 0.0, 'original': 1.0},\n",
              " {'Id': 412, 'vader': 0.0, 'original': 1.0},\n",
              " {'Id': 413, 'vader': 0.0, 'original': 0.0},\n",
              " {'Id': 414, 'vader': 0.0, 'original': 0.0},\n",
              " {'Id': 415, 'vader': 0.0, 'original': 0.0},\n",
              " {'Id': 416, 'vader': 0.0, 'original': -1.0},\n",
              " {'Id': 417, 'vader': 0.0, 'original': 0.0},\n",
              " {'Id': 418, 'vader': 0.0, 'original': 0.0},\n",
              " {'Id': 419, 'vader': 0.0, 'original': 0.0},\n",
              " {'Id': 420, 'vader': 1.0, 'original': 1.0},\n",
              " {'Id': 421, 'vader': 0.0, 'original': 1.0},\n",
              " {'Id': 422, 'vader': 0.0, 'original': 1.0},\n",
              " {'Id': 423, 'vader': 0.0, 'original': 1.0},\n",
              " {'Id': 424, 'vader': 0.0, 'original': 0.0},\n",
              " {'Id': 425, 'vader': -1.0, 'original': -1.0},\n",
              " {'Id': 426, 'vader': 0.0, 'original': 1.0},\n",
              " {'Id': 427, 'vader': 0.0, 'original': 1.0},\n",
              " {'Id': 428, 'vader': 0.0, 'original': 0.0},\n",
              " {'Id': 429, 'vader': 0.0, 'original': 0.0},\n",
              " {'Id': 430, 'vader': 0.0, 'original': 0.0},\n",
              " {'Id': 431, 'vader': 0.0, 'original': -1.0},\n",
              " {'Id': 432, 'vader': 0.0, 'original': 0.0},\n",
              " {'Id': 433, 'vader': 0.0, 'original': 0.0},\n",
              " {'Id': 434, 'vader': 1.0, 'original': 1.0},\n",
              " {'Id': 435, 'vader': -1.0, 'original': -1.0},\n",
              " {'Id': 436, 'vader': 0.0, 'original': -1.0},\n",
              " {'Id': 437, 'vader': 0.0, 'original': -1.0},\n",
              " {'Id': 438, 'vader': 0.0, 'original': 1.0},\n",
              " {'Id': 439, 'vader': 0.0, 'original': 1.0},\n",
              " {'Id': 440, 'vader': 0.0, 'original': 1.0},\n",
              " {'Id': 441, 'vader': 0.0, 'original': 0.0},\n",
              " {'Id': 442, 'vader': 0.0, 'original': 1.0},\n",
              " {'Id': 443, 'vader': 0.0, 'original': 0.0},\n",
              " {'Id': 444, 'vader': 0.0, 'original': 0.0},\n",
              " {'Id': 445, 'vader': 0.0, 'original': -1.0},\n",
              " {'Id': 446, 'vader': 0.0, 'original': -1.0},\n",
              " {'Id': 447, 'vader': 0.0, 'original': 1.0},\n",
              " {'Id': 448, 'vader': 0.0, 'original': 1.0},\n",
              " {'Id': 449, 'vader': 0.0, 'original': 0.0},\n",
              " {'Id': 450, 'vader': 0.0, 'original': 0.0},\n",
              " {'Id': 451, 'vader': 0.0, 'original': 1.0},\n",
              " {'Id': 452, 'vader': 0.0, 'original': -1.0},\n",
              " {'Id': 453, 'vader': 0.0, 'original': -1.0},\n",
              " {'Id': 454, 'vader': 0.0, 'original': 1.0},\n",
              " {'Id': 455, 'vader': 0.0, 'original': 0.0},\n",
              " {'Id': 456, 'vader': 0.0, 'original': -1.0},\n",
              " {'Id': 457, 'vader': 0.0, 'original': 0.0},\n",
              " {'Id': 458, 'vader': 0.0, 'original': 0.0},\n",
              " {'Id': 459, 'vader': 0.0, 'original': 0.0},\n",
              " {'Id': 460, 'vader': 0.0, 'original': 1.0},\n",
              " {'Id': 461, 'vader': 0.0, 'original': -1.0},\n",
              " {'Id': 462, 'vader': -1.0, 'original': -1.0},\n",
              " {'Id': 463, 'vader': 0.0, 'original': 0.0},\n",
              " {'Id': 464, 'vader': 0.0, 'original': 0.0},\n",
              " {'Id': 465, 'vader': 0.0, 'original': 0.0},\n",
              " {'Id': 466, 'vader': 0.0, 'original': 0.0},\n",
              " {'Id': 467, 'vader': 0.0, 'original': 1.0},\n",
              " {'Id': 468, 'vader': 0.0, 'original': 0.0},\n",
              " {'Id': 469, 'vader': 0.0, 'original': 0.0},\n",
              " {'Id': 470, 'vader': 0.0, 'original': 1.0},\n",
              " {'Id': 471, 'vader': 0.0, 'original': 1.0},\n",
              " {'Id': 472, 'vader': 0.0, 'original': 1.0},\n",
              " {'Id': 473, 'vader': 1.0, 'original': 0.0},\n",
              " {'Id': 474, 'vader': 0.0, 'original': -1.0},\n",
              " {'Id': 475, 'vader': 0.0, 'original': 0.0},\n",
              " {'Id': 476, 'vader': 0.0, 'original': 1.0},\n",
              " {'Id': 477, 'vader': 0.0, 'original': 1.0},\n",
              " {'Id': 478, 'vader': 0.0, 'original': 0.0},\n",
              " {'Id': 479, 'vader': 0.0, 'original': 1.0},\n",
              " {'Id': 480, 'vader': 0.0, 'original': -1.0},\n",
              " {'Id': 481, 'vader': 0.0, 'original': 0.0},\n",
              " {'Id': 482, 'vader': 0.0, 'original': -1.0},\n",
              " {'Id': 483, 'vader': 0.0, 'original': 0.0},\n",
              " {'Id': 484, 'vader': 0.0, 'original': 1.0},\n",
              " {'Id': 485, 'vader': 0.0, 'original': 0.0},\n",
              " {'Id': 486, 'vader': -1.0, 'original': -1.0},\n",
              " {'Id': 487, 'vader': 0.0, 'original': -1.0},\n",
              " {'Id': 488, 'vader': 0.0, 'original': 1.0},\n",
              " {'Id': 489, 'vader': 0.0, 'original': 1.0},\n",
              " {'Id': 490, 'vader': 0.0, 'original': 0.0},\n",
              " {'Id': 491, 'vader': 0.0, 'original': 1.0},\n",
              " {'Id': 492, 'vader': 0.0, 'original': 1.0},\n",
              " {'Id': 493, 'vader': 0.0, 'original': 1.0},\n",
              " {'Id': 494, 'vader': 0.0, 'original': 1.0},\n",
              " {'Id': 495, 'vader': 0.0, 'original': -1.0},\n",
              " {'Id': 496, 'vader': 0.0, 'original': -1.0},\n",
              " {'Id': 497, 'vader': 0.0, 'original': 1.0},\n",
              " {'Id': 498, 'vader': 0.0, 'original': 1.0}]"
            ]
          },
          "metadata": {},
          "execution_count": 94
        }
      ]
    },
    {
      "cell_type": "code",
      "source": [
        "res = pd.DataFrame(sentimentCompare)"
      ],
      "metadata": {
        "id": "eFGk00z44YNP"
      },
      "execution_count": null,
      "outputs": []
    },
    {
      "cell_type": "code",
      "source": [
        "res.shape\n",
        "res"
      ],
      "metadata": {
        "colab": {
          "base_uri": "https://localhost:8080/",
          "height": 424
        },
        "id": "UvBFJwA05ZM2",
        "outputId": "64a9a6b9-e525-404c-b4f7-bfe32cdfc4a0"
      },
      "execution_count": null,
      "outputs": [
        {
          "output_type": "execute_result",
          "data": {
            "text/plain": [
              "      Id  vader  original\n",
              "0      0    0.0      -1.0\n",
              "1      1    0.0       0.0\n",
              "2      2    0.0       1.0\n",
              "3      3    0.0       1.0\n",
              "4      4    0.0       1.0\n",
              "..   ...    ...       ...\n",
              "494  494    0.0       1.0\n",
              "495  495    0.0      -1.0\n",
              "496  496    0.0      -1.0\n",
              "497  497    0.0       1.0\n",
              "498  498    0.0       1.0\n",
              "\n",
              "[499 rows x 3 columns]"
            ],
            "text/html": [
              "\n",
              "  <div id=\"df-e8832daf-8ffc-49b0-84b8-c85704489643\">\n",
              "    <div class=\"colab-df-container\">\n",
              "      <div>\n",
              "<style scoped>\n",
              "    .dataframe tbody tr th:only-of-type {\n",
              "        vertical-align: middle;\n",
              "    }\n",
              "\n",
              "    .dataframe tbody tr th {\n",
              "        vertical-align: top;\n",
              "    }\n",
              "\n",
              "    .dataframe thead th {\n",
              "        text-align: right;\n",
              "    }\n",
              "</style>\n",
              "<table border=\"1\" class=\"dataframe\">\n",
              "  <thead>\n",
              "    <tr style=\"text-align: right;\">\n",
              "      <th></th>\n",
              "      <th>Id</th>\n",
              "      <th>vader</th>\n",
              "      <th>original</th>\n",
              "    </tr>\n",
              "  </thead>\n",
              "  <tbody>\n",
              "    <tr>\n",
              "      <th>0</th>\n",
              "      <td>0</td>\n",
              "      <td>0.0</td>\n",
              "      <td>-1.0</td>\n",
              "    </tr>\n",
              "    <tr>\n",
              "      <th>1</th>\n",
              "      <td>1</td>\n",
              "      <td>0.0</td>\n",
              "      <td>0.0</td>\n",
              "    </tr>\n",
              "    <tr>\n",
              "      <th>2</th>\n",
              "      <td>2</td>\n",
              "      <td>0.0</td>\n",
              "      <td>1.0</td>\n",
              "    </tr>\n",
              "    <tr>\n",
              "      <th>3</th>\n",
              "      <td>3</td>\n",
              "      <td>0.0</td>\n",
              "      <td>1.0</td>\n",
              "    </tr>\n",
              "    <tr>\n",
              "      <th>4</th>\n",
              "      <td>4</td>\n",
              "      <td>0.0</td>\n",
              "      <td>1.0</td>\n",
              "    </tr>\n",
              "    <tr>\n",
              "      <th>...</th>\n",
              "      <td>...</td>\n",
              "      <td>...</td>\n",
              "      <td>...</td>\n",
              "    </tr>\n",
              "    <tr>\n",
              "      <th>494</th>\n",
              "      <td>494</td>\n",
              "      <td>0.0</td>\n",
              "      <td>1.0</td>\n",
              "    </tr>\n",
              "    <tr>\n",
              "      <th>495</th>\n",
              "      <td>495</td>\n",
              "      <td>0.0</td>\n",
              "      <td>-1.0</td>\n",
              "    </tr>\n",
              "    <tr>\n",
              "      <th>496</th>\n",
              "      <td>496</td>\n",
              "      <td>0.0</td>\n",
              "      <td>-1.0</td>\n",
              "    </tr>\n",
              "    <tr>\n",
              "      <th>497</th>\n",
              "      <td>497</td>\n",
              "      <td>0.0</td>\n",
              "      <td>1.0</td>\n",
              "    </tr>\n",
              "    <tr>\n",
              "      <th>498</th>\n",
              "      <td>498</td>\n",
              "      <td>0.0</td>\n",
              "      <td>1.0</td>\n",
              "    </tr>\n",
              "  </tbody>\n",
              "</table>\n",
              "<p>499 rows × 3 columns</p>\n",
              "</div>\n",
              "      <button class=\"colab-df-convert\" onclick=\"convertToInteractive('df-e8832daf-8ffc-49b0-84b8-c85704489643')\"\n",
              "              title=\"Convert this dataframe to an interactive table.\"\n",
              "              style=\"display:none;\">\n",
              "        \n",
              "  <svg xmlns=\"http://www.w3.org/2000/svg\" height=\"24px\"viewBox=\"0 0 24 24\"\n",
              "       width=\"24px\">\n",
              "    <path d=\"M0 0h24v24H0V0z\" fill=\"none\"/>\n",
              "    <path d=\"M18.56 5.44l.94 2.06.94-2.06 2.06-.94-2.06-.94-.94-2.06-.94 2.06-2.06.94zm-11 1L8.5 8.5l.94-2.06 2.06-.94-2.06-.94L8.5 2.5l-.94 2.06-2.06.94zm10 10l.94 2.06.94-2.06 2.06-.94-2.06-.94-.94-2.06-.94 2.06-2.06.94z\"/><path d=\"M17.41 7.96l-1.37-1.37c-.4-.4-.92-.59-1.43-.59-.52 0-1.04.2-1.43.59L10.3 9.45l-7.72 7.72c-.78.78-.78 2.05 0 2.83L4 21.41c.39.39.9.59 1.41.59.51 0 1.02-.2 1.41-.59l7.78-7.78 2.81-2.81c.8-.78.8-2.07 0-2.86zM5.41 20L4 18.59l7.72-7.72 1.47 1.35L5.41 20z\"/>\n",
              "  </svg>\n",
              "      </button>\n",
              "      \n",
              "  <style>\n",
              "    .colab-df-container {\n",
              "      display:flex;\n",
              "      flex-wrap:wrap;\n",
              "      gap: 12px;\n",
              "    }\n",
              "\n",
              "    .colab-df-convert {\n",
              "      background-color: #E8F0FE;\n",
              "      border: none;\n",
              "      border-radius: 50%;\n",
              "      cursor: pointer;\n",
              "      display: none;\n",
              "      fill: #1967D2;\n",
              "      height: 32px;\n",
              "      padding: 0 0 0 0;\n",
              "      width: 32px;\n",
              "    }\n",
              "\n",
              "    .colab-df-convert:hover {\n",
              "      background-color: #E2EBFA;\n",
              "      box-shadow: 0px 1px 2px rgba(60, 64, 67, 0.3), 0px 1px 3px 1px rgba(60, 64, 67, 0.15);\n",
              "      fill: #174EA6;\n",
              "    }\n",
              "\n",
              "    [theme=dark] .colab-df-convert {\n",
              "      background-color: #3B4455;\n",
              "      fill: #D2E3FC;\n",
              "    }\n",
              "\n",
              "    [theme=dark] .colab-df-convert:hover {\n",
              "      background-color: #434B5C;\n",
              "      box-shadow: 0px 1px 3px 1px rgba(0, 0, 0, 0.15);\n",
              "      filter: drop-shadow(0px 1px 2px rgba(0, 0, 0, 0.3));\n",
              "      fill: #FFFFFF;\n",
              "    }\n",
              "  </style>\n",
              "\n",
              "      <script>\n",
              "        const buttonEl =\n",
              "          document.querySelector('#df-e8832daf-8ffc-49b0-84b8-c85704489643 button.colab-df-convert');\n",
              "        buttonEl.style.display =\n",
              "          google.colab.kernel.accessAllowed ? 'block' : 'none';\n",
              "\n",
              "        async function convertToInteractive(key) {\n",
              "          const element = document.querySelector('#df-e8832daf-8ffc-49b0-84b8-c85704489643');\n",
              "          const dataTable =\n",
              "            await google.colab.kernel.invokeFunction('convertToInteractive',\n",
              "                                                     [key], {});\n",
              "          if (!dataTable) return;\n",
              "\n",
              "          const docLinkHtml = 'Like what you see? Visit the ' +\n",
              "            '<a target=\"_blank\" href=https://colab.research.google.com/notebooks/data_table.ipynb>data table notebook</a>'\n",
              "            + ' to learn more about interactive tables.';\n",
              "          element.innerHTML = '';\n",
              "          dataTable['output_type'] = 'display_data';\n",
              "          await google.colab.output.renderOutput(dataTable, element);\n",
              "          const docLink = document.createElement('div');\n",
              "          docLink.innerHTML = docLinkHtml;\n",
              "          element.appendChild(docLink);\n",
              "        }\n",
              "      </script>\n",
              "    </div>\n",
              "  </div>\n",
              "  "
            ]
          },
          "metadata": {},
          "execution_count": 102
        }
      ]
    },
    {
      "cell_type": "code",
      "source": [
        "print(res['vader'].value_counts()) # vader analysis\n",
        "print(res['original'].value_counts())"
      ],
      "metadata": {
        "colab": {
          "base_uri": "https://localhost:8080/"
        },
        "id": "AHJsJI7T5e1U",
        "outputId": "dbd24332-4a77-4fd5-e5b7-493e613b1e78"
      },
      "execution_count": null,
      "outputs": [
        {
          "output_type": "stream",
          "name": "stdout",
          "text": [
            " 0.0    477\n",
            " 1.0     14\n",
            "-1.0      8\n",
            "Name: vader, dtype: int64\n",
            " 1.0    209\n",
            " 0.0    187\n",
            "-1.0    103\n",
            "Name: original, dtype: int64\n"
          ]
        }
      ]
    },
    {
      "cell_type": "code",
      "source": [
        "res['vader'].value_counts().plot(kind='bar', title='Vader Analysis')\n",
        "plt.show()"
      ],
      "metadata": {
        "colab": {
          "base_uri": "https://localhost:8080/",
          "height": 291
        },
        "id": "lJ3zzueu5i4a",
        "outputId": "20e285cc-a124-4652-e230-a48908677c33"
      },
      "execution_count": null,
      "outputs": [
        {
          "output_type": "display_data",
          "data": {
            "text/plain": [
              "<Figure size 432x288 with 1 Axes>"
            ],
            "image/png": "[encoded data removed]"
          },
          "metadata": {
            "needs_background": "light"
          }
        }
      ]
    },
    {
      "cell_type": "code",
      "source": [
        "res['original'].value_counts().plot(kind='bar', title='Original Analysis')\n",
        "plt.show()"
      ],
      "metadata": {
        "colab": {
          "base_uri": "https://localhost:8080/",
          "height": 291
        },
        "id": "4vWa7bcb7VIp",
        "outputId": "d75adcee-29b4-48c1-d4f7-0b623d0cafaa"
      },
      "execution_count": null,
      "outputs": [
        {
          "output_type": "display_data",
          "data": {
            "text/plain": [
              "<Figure size 432x288 with 1 Axes>"
            ],
            "image/png": "[encoded data removed]"
          },
          "metadata": {
            "needs_background": "light"
          }
        }
      ]
    },
    {
      "cell_type": "code",
      "source": [
        "res['vader'].value_counts()"
      ],
      "metadata": {
        "colab": {
          "base_uri": "https://localhost:8080/"
        },
        "id": "5IYSrWlAI5y7",
        "outputId": "41d30a9e-4f2e-45fb-f5a2-95a77e9a81c5"
      },
      "execution_count": null,
      "outputs": [
        {
          "output_type": "execute_result",
          "data": {
            "text/plain": [
              " 0.0    477\n",
              " 1.0     14\n",
              "-1.0      8\n",
              "Name: vader, dtype: int64"
            ]
          },
          "metadata": {},
          "execution_count": 123
        }
      ]
    },
    {
      "cell_type": "code",
      "source": [
        "res['original'].value_counts()"
      ],
      "metadata": {
        "colab": {
          "base_uri": "https://localhost:8080/"
        },
        "id": "l6FiBFCeI_UV",
        "outputId": "72c9494f-870b-4177-ee56-185284eaa4fd"
      },
      "execution_count": null,
      "outputs": [
        {
          "output_type": "execute_result",
          "data": {
            "text/plain": [
              " 1.0    209\n",
              " 0.0    187\n",
              "-1.0    103\n",
              "Name: original, dtype: int64"
            ]
          },
          "metadata": {},
          "execution_count": 124
        }
      ]
    },
    {
      "cell_type": "code",
      "source": [
        "vader = dict(res['vader'].value_counts())\n",
        "vader = list(vader.values())\n",
        "original = dict(res['original'].value_counts())\n",
        "original = list(original.values())\n",
        "original[0], original[1] = original[1], original[0]\n",
        "print(vader, original)"
      ],
      "metadata": {
        "colab": {
          "base_uri": "https://localhost:8080/"
        },
        "id": "HbVFiAC27gd-",
        "outputId": "2895a6c3-cb75-428d-b2cf-c289e2cf6329"
      },
      "execution_count": null,
      "outputs": [
        {
          "output_type": "stream",
          "name": "stdout",
          "text": [
            "[477, 14, 8] [187, 209, 103]\n"
          ]
        }
      ]
    },
    {
      "cell_type": "code",
      "source": [
        "import numpy as np\n",
        "xAxisTitle = ['Neutral', 'Positive', 'Negative']\n",
        "xAxis = np.arange(len(xAxisTitle))\n",
        "plt.bar(xAxis-0.2, vader, width=0.4, label='Vader')\n",
        "plt.bar(xAxis+0.2, original, width=0.4, label='Original')\n",
        "plt.xticks(xAxis, xAxisTitle)\n",
        "plt.legend()\n",
        "plt.show()"
      ],
      "metadata": {
        "colab": {
          "base_uri": "https://localhost:8080/",
          "height": 269
        },
        "id": "YSKcpq12EgJ3",
        "outputId": "27451ee9-598c-4b86-ef58-2593d154f9be"
      },
      "execution_count": null,
      "outputs": [
        {
          "output_type": "display_data",
          "data": {
            "text/plain": [
              "<Figure size 432x288 with 1 Axes>"
            ],
            "image/png": "[encoded data removed]"
          },
          "metadata": {
            "needs_background": "light"
          }
        }
      ]
    },
    {
      "cell_type": "markdown",
      "source": [
        "we can see above VADER doesn't perform well in case of twitter dataset. It predicts mostly neutral\n"
      ],
      "metadata": {
        "id": "sum_rZt1J6SL"
      }
    },
    {
      "cell_type": "markdown",
      "source": [
        "### TODO: USE transformer model to see the comparision between original and transformer model prediction"
      ],
      "metadata": {
        "id": "Loqa61HDKSsu"
      }
    },
    {
      "cell_type": "code",
      "source": [],
      "metadata": {
        "id": "Oxh7_-_5Hecb"
      },
      "execution_count": null,
      "outputs": []
    }
  ]
}