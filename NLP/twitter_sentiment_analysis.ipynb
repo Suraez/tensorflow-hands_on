{
  "nbformat": 4,
  "nbformat_minor": 0,
  "metadata": {
    "colab": {
      "provenance": [],
      "authorship_tag": "ABX9TyM1L2Dk3N2ngvcRrE4OBzpT",
      "include_colab_link": true
    },
    "kernelspec": {
      "name": "python3",
      "display_name": "Python 3"
    },
    "language_info": {
      "name": "python"
    },
    "widgets": {
      "application/vnd.jupyter.widget-state+json": {
        "c5d622b0011545fba6337e8e220d7923": {
          "model_module": "@jupyter-widgets/controls",
          "model_name": "HBoxModel",
          "model_module_version": "1.5.0",
          "state": {
            "_dom_classes": [],
            "_model_module": "@jupyter-widgets/controls",
            "_model_module_version": "1.5.0",
            "_model_name": "HBoxModel",
            "_view_count": null,
            "_view_module": "@jupyter-widgets/controls",
            "_view_module_version": "1.5.0",
            "_view_name": "HBoxView",
            "box_style": "",
            "children": [
              "IPY_MODEL_dacd10843bf84826ae3b02b6de04bb2f",
              "IPY_MODEL_3a5df3b3c6ec4000b9bf4f7e773ec060",
              "IPY_MODEL_6a34f425dbd44d02a26bd310dc8c5f4b"
            ],
            "layout": "IPY_MODEL_e058d30b96d440eba873a800db8b1aaa"
          }
        },
        "dacd10843bf84826ae3b02b6de04bb2f": {
          "model_module": "@jupyter-widgets/controls",
          "model_name": "HTMLModel",
          "model_module_version": "1.5.0",
          "state": {
            "_dom_classes": [],
            "_model_module": "@jupyter-widgets/controls",
            "_model_module_version": "1.5.0",
            "_model_name": "HTMLModel",
            "_view_count": null,
            "_view_module": "@jupyter-widgets/controls",
            "_view_module_version": "1.5.0",
            "_view_name": "HTMLView",
            "description": "",
            "description_tooltip": null,
            "layout": "IPY_MODEL_b2430cc656a247c28b7358b842146d3a",
            "placeholder": "​",
            "style": "IPY_MODEL_79b691fd631543aeb0db3dc2d3f86272",
            "value": ""
          }
        },
        "3a5df3b3c6ec4000b9bf4f7e773ec060": {
          "model_module": "@jupyter-widgets/controls",
          "model_name": "FloatProgressModel",
          "model_module_version": "1.5.0",
          "state": {
            "_dom_classes": [],
            "_model_module": "@jupyter-widgets/controls",
            "_model_module_version": "1.5.0",
            "_model_name": "FloatProgressModel",
            "_view_count": null,
            "_view_module": "@jupyter-widgets/controls",
            "_view_module_version": "1.5.0",
            "_view_name": "ProgressView",
            "bar_style": "success",
            "description": "",
            "description_tooltip": null,
            "layout": "IPY_MODEL_528d23b209734ebfab81a4743fc093f0",
            "max": 1,
            "min": 0,
            "orientation": "horizontal",
            "style": "IPY_MODEL_d54098115cfd46f1874b0c58c5b49774",
            "value": 1
          }
        },
        "6a34f425dbd44d02a26bd310dc8c5f4b": {
          "model_module": "@jupyter-widgets/controls",
          "model_name": "HTMLModel",
          "model_module_version": "1.5.0",
          "state": {
            "_dom_classes": [],
            "_model_module": "@jupyter-widgets/controls",
            "_model_module_version": "1.5.0",
            "_model_name": "HTMLModel",
            "_view_count": null,
            "_view_module": "@jupyter-widgets/controls",
            "_view_module_version": "1.5.0",
            "_view_name": "HTMLView",
            "description": "",
            "description_tooltip": null,
            "layout": "IPY_MODEL_fa8c2e9423e44d539b6a5b48b20ce317",
            "placeholder": "​",
            "style": "IPY_MODEL_b6b9411385ea4300a21aaf6083348919",
            "value": " 500/? [00:00&lt;00:00, 815.59it/s]"
          }
        },
        "e058d30b96d440eba873a800db8b1aaa": {
          "model_module": "@jupyter-widgets/base",
          "model_name": "LayoutModel",
          "model_module_version": "1.2.0",
          "state": {
            "_model_module": "@jupyter-widgets/base",
            "_model_module_version": "1.2.0",
            "_model_name": "LayoutModel",
            "_view_count": null,
            "_view_module": "@jupyter-widgets/base",
            "_view_module_version": "1.2.0",
            "_view_name": "LayoutView",
            "align_content": null,
            "align_items": null,
            "align_self": null,
            "border": null,
            "bottom": null,
            "display": null,
            "flex": null,
            "flex_flow": null,
            "grid_area": null,
            "grid_auto_columns": null,
            "grid_auto_flow": null,
            "grid_auto_rows": null,
            "grid_column": null,
            "grid_gap": null,
            "grid_row": null,
            "grid_template_areas": null,
            "grid_template_columns": null,
            "grid_template_rows": null,
            "height": null,
            "justify_content": null,
            "justify_items": null,
            "left": null,
            "margin": null,
            "max_height": null,
            "max_width": null,
            "min_height": null,
            "min_width": null,
            "object_fit": null,
            "object_position": null,
            "order": null,
            "overflow": null,
            "overflow_x": null,
            "overflow_y": null,
            "padding": null,
            "right": null,
            "top": null,
            "visibility": null,
            "width": null
          }
        },
        "b2430cc656a247c28b7358b842146d3a": {
          "model_module": "@jupyter-widgets/base",
          "model_name": "LayoutModel",
          "model_module_version": "1.2.0",
          "state": {
            "_model_module": "@jupyter-widgets/base",
            "_model_module_version": "1.2.0",
            "_model_name": "LayoutModel",
            "_view_count": null,
            "_view_module": "@jupyter-widgets/base",
            "_view_module_version": "1.2.0",
            "_view_name": "LayoutView",
            "align_content": null,
            "align_items": null,
            "align_self": null,
            "border": null,
            "bottom": null,
            "display": null,
            "flex": null,
            "flex_flow": null,
            "grid_area": null,
            "grid_auto_columns": null,
            "grid_auto_flow": null,
            "grid_auto_rows": null,
            "grid_column": null,
            "grid_gap": null,
            "grid_row": null,
            "grid_template_areas": null,
            "grid_template_columns": null,
            "grid_template_rows": null,
            "height": null,
            "justify_content": null,
            "justify_items": null,
            "left": null,
            "margin": null,
            "max_height": null,
            "max_width": null,
            "min_height": null,
            "min_width": null,
            "object_fit": null,
            "object_position": null,
            "order": null,
            "overflow": null,
            "overflow_x": null,
            "overflow_y": null,
            "padding": null,
            "right": null,
            "top": null,
            "visibility": null,
            "width": null
          }
        },
        "79b691fd631543aeb0db3dc2d3f86272": {
          "model_module": "@jupyter-widgets/controls",
          "model_name": "DescriptionStyleModel",
          "model_module_version": "1.5.0",
          "state": {
            "_model_module": "@jupyter-widgets/controls",
            "_model_module_version": "1.5.0",
            "_model_name": "DescriptionStyleModel",
            "_view_count": null,
            "_view_module": "@jupyter-widgets/base",
            "_view_module_version": "1.2.0",
            "_view_name": "StyleView",
            "description_width": ""
          }
        },
        "528d23b209734ebfab81a4743fc093f0": {
          "model_module": "@jupyter-widgets/base",
          "model_name": "LayoutModel",
          "model_module_version": "1.2.0",
          "state": {
            "_model_module": "@jupyter-widgets/base",
            "_model_module_version": "1.2.0",
            "_model_name": "LayoutModel",
            "_view_count": null,
            "_view_module": "@jupyter-widgets/base",
            "_view_module_version": "1.2.0",
            "_view_name": "LayoutView",
            "align_content": null,
            "align_items": null,
            "align_self": null,
            "border": null,
            "bottom": null,
            "display": null,
            "flex": null,
            "flex_flow": null,
            "grid_area": null,
            "grid_auto_columns": null,
            "grid_auto_flow": null,
            "grid_auto_rows": null,
            "grid_column": null,
            "grid_gap": null,
            "grid_row": null,
            "grid_template_areas": null,
            "grid_template_columns": null,
            "grid_template_rows": null,
            "height": null,
            "justify_content": null,
            "justify_items": null,
            "left": null,
            "margin": null,
            "max_height": null,
            "max_width": null,
            "min_height": null,
            "min_width": null,
            "object_fit": null,
            "object_position": null,
            "order": null,
            "overflow": null,
            "overflow_x": null,
            "overflow_y": null,
            "padding": null,
            "right": null,
            "top": null,
            "visibility": null,
            "width": "20px"
          }
        },
        "d54098115cfd46f1874b0c58c5b49774": {
          "model_module": "@jupyter-widgets/controls",
          "model_name": "ProgressStyleModel",
          "model_module_version": "1.5.0",
          "state": {
            "_model_module": "@jupyter-widgets/controls",
            "_model_module_version": "1.5.0",
            "_model_name": "ProgressStyleModel",
            "_view_count": null,
            "_view_module": "@jupyter-widgets/base",
            "_view_module_version": "1.2.0",
            "_view_name": "StyleView",
            "bar_color": null,
            "description_width": ""
          }
        },
        "fa8c2e9423e44d539b6a5b48b20ce317": {
          "model_module": "@jupyter-widgets/base",
          "model_name": "LayoutModel",
          "model_module_version": "1.2.0",
          "state": {
            "_model_module": "@jupyter-widgets/base",
            "_model_module_version": "1.2.0",
            "_model_name": "LayoutModel",
            "_view_count": null,
            "_view_module": "@jupyter-widgets/base",
            "_view_module_version": "1.2.0",
            "_view_name": "LayoutView",
            "align_content": null,
            "align_items": null,
            "align_self": null,
            "border": null,
            "bottom": null,
            "display": null,
            "flex": null,
            "flex_flow": null,
            "grid_area": null,
            "grid_auto_columns": null,
            "grid_auto_flow": null,
            "grid_auto_rows": null,
            "grid_column": null,
            "grid_gap": null,
            "grid_row": null,
            "grid_template_areas": null,
            "grid_template_columns": null,
            "grid_template_rows": null,
            "height": null,
            "justify_content": null,
            "justify_items": null,
            "left": null,
            "margin": null,
            "max_height": null,
            "max_width": null,
            "min_height": null,
            "min_width": null,
            "object_fit": null,
            "object_position": null,
            "order": null,
            "overflow": null,
            "overflow_x": null,
            "overflow_y": null,
            "padding": null,
            "right": null,
            "top": null,
            "visibility": null,
            "width": null
          }
        },
        "b6b9411385ea4300a21aaf6083348919": {
          "model_module": "@jupyter-widgets/controls",
          "model_name": "DescriptionStyleModel",
          "model_module_version": "1.5.0",
          "state": {
            "_model_module": "@jupyter-widgets/controls",
            "_model_module_version": "1.5.0",
            "_model_name": "DescriptionStyleModel",
            "_view_count": null,
            "_view_module": "@jupyter-widgets/base",
            "_view_module_version": "1.2.0",
            "_view_name": "StyleView",
            "description_width": ""
          }
        },
        "a82583cc689941af9f02f49543facb2e": {
          "model_module": "@jupyter-widgets/controls",
          "model_name": "HBoxModel",
          "model_module_version": "1.5.0",
          "state": {
            "_dom_classes": [],
            "_model_module": "@jupyter-widgets/controls",
            "_model_module_version": "1.5.0",
            "_model_name": "HBoxModel",
            "_view_count": null,
            "_view_module": "@jupyter-widgets/controls",
            "_view_module_version": "1.5.0",
            "_view_name": "HBoxView",
            "box_style": "",
            "children": [
              "IPY_MODEL_c3b7587a9b95427080edf9fe87bf7a7c",
              "IPY_MODEL_1b417487378346a9b21d9242349c5945",
              "IPY_MODEL_11f66e1e428d494c9d949997a81ea566"
            ],
            "layout": "IPY_MODEL_451fa8f06ed24b3c8f110e4287446910"
          }
        },
        "c3b7587a9b95427080edf9fe87bf7a7c": {
          "model_module": "@jupyter-widgets/controls",
          "model_name": "HTMLModel",
          "model_module_version": "1.5.0",
          "state": {
            "_dom_classes": [],
            "_model_module": "@jupyter-widgets/controls",
            "_model_module_version": "1.5.0",
            "_model_name": "HTMLModel",
            "_view_count": null,
            "_view_module": "@jupyter-widgets/controls",
            "_view_module_version": "1.5.0",
            "_view_name": "HTMLView",
            "description": "",
            "description_tooltip": null,
            "layout": "IPY_MODEL_127335d160814037bc523c08704dbce7",
            "placeholder": "​",
            "style": "IPY_MODEL_2a80709884454f109a6cbdbf88c1347f",
            "value": "Downloading: 100%"
          }
        },
        "1b417487378346a9b21d9242349c5945": {
          "model_module": "@jupyter-widgets/controls",
          "model_name": "FloatProgressModel",
          "model_module_version": "1.5.0",
          "state": {
            "_dom_classes": [],
            "_model_module": "@jupyter-widgets/controls",
            "_model_module_version": "1.5.0",
            "_model_name": "FloatProgressModel",
            "_view_count": null,
            "_view_module": "@jupyter-widgets/controls",
            "_view_module_version": "1.5.0",
            "_view_name": "ProgressView",
            "bar_style": "success",
            "description": "",
            "description_tooltip": null,
            "layout": "IPY_MODEL_0e699de743c34d8bb6d1e627acfc97e7",
            "max": 747,
            "min": 0,
            "orientation": "horizontal",
            "style": "IPY_MODEL_69221a8878ed4357838ab85c0fe0185c",
            "value": 747
          }
        },
        "11f66e1e428d494c9d949997a81ea566": {
          "model_module": "@jupyter-widgets/controls",
          "model_name": "HTMLModel",
          "model_module_version": "1.5.0",
          "state": {
            "_dom_classes": [],
            "_model_module": "@jupyter-widgets/controls",
            "_model_module_version": "1.5.0",
            "_model_name": "HTMLModel",
            "_view_count": null,
            "_view_module": "@jupyter-widgets/controls",
            "_view_module_version": "1.5.0",
            "_view_name": "HTMLView",
            "description": "",
            "description_tooltip": null,
            "layout": "IPY_MODEL_cc73198355504b40b24a9681f42caca0",
            "placeholder": "​",
            "style": "IPY_MODEL_2855ad519c904b9c904e8a0602e7e3cd",
            "value": " 747/747 [00:00&lt;00:00, 24.3kB/s]"
          }
        },
        "451fa8f06ed24b3c8f110e4287446910": {
          "model_module": "@jupyter-widgets/base",
          "model_name": "LayoutModel",
          "model_module_version": "1.2.0",
          "state": {
            "_model_module": "@jupyter-widgets/base",
            "_model_module_version": "1.2.0",
            "_model_name": "LayoutModel",
            "_view_count": null,
            "_view_module": "@jupyter-widgets/base",
            "_view_module_version": "1.2.0",
            "_view_name": "LayoutView",
            "align_content": null,
            "align_items": null,
            "align_self": null,
            "border": null,
            "bottom": null,
            "display": null,
            "flex": null,
            "flex_flow": null,
            "grid_area": null,
            "grid_auto_columns": null,
            "grid_auto_flow": null,
            "grid_auto_rows": null,
            "grid_column": null,
            "grid_gap": null,
            "grid_row": null,
            "grid_template_areas": null,
            "grid_template_columns": null,
            "grid_template_rows": null,
            "height": null,
            "justify_content": null,
            "justify_items": null,
            "left": null,
            "margin": null,
            "max_height": null,
            "max_width": null,
            "min_height": null,
            "min_width": null,
            "object_fit": null,
            "object_position": null,
            "order": null,
            "overflow": null,
            "overflow_x": null,
            "overflow_y": null,
            "padding": null,
            "right": null,
            "top": null,
            "visibility": null,
            "width": null
          }
        },
        "127335d160814037bc523c08704dbce7": {
          "model_module": "@jupyter-widgets/base",
          "model_name": "LayoutModel",
          "model_module_version": "1.2.0",
          "state": {
            "_model_module": "@jupyter-widgets/base",
            "_model_module_version": "1.2.0",
            "_model_name": "LayoutModel",
            "_view_count": null,
            "_view_module": "@jupyter-widgets/base",
            "_view_module_version": "1.2.0",
            "_view_name": "LayoutView",
            "align_content": null,
            "align_items": null,
            "align_self": null,
            "border": null,
            "bottom": null,
            "display": null,
            "flex": null,
            "flex_flow": null,
            "grid_area": null,
            "grid_auto_columns": null,
            "grid_auto_flow": null,
            "grid_auto_rows": null,
            "grid_column": null,
            "grid_gap": null,
            "grid_row": null,
            "grid_template_areas": null,
            "grid_template_columns": null,
            "grid_template_rows": null,
            "height": null,
            "justify_content": null,
            "justify_items": null,
            "left": null,
            "margin": null,
            "max_height": null,
            "max_width": null,
            "min_height": null,
            "min_width": null,
            "object_fit": null,
            "object_position": null,
            "order": null,
            "overflow": null,
            "overflow_x": null,
            "overflow_y": null,
            "padding": null,
            "right": null,
            "top": null,
            "visibility": null,
            "width": null
          }
        },
        "2a80709884454f109a6cbdbf88c1347f": {
          "model_module": "@jupyter-widgets/controls",
          "model_name": "DescriptionStyleModel",
          "model_module_version": "1.5.0",
          "state": {
            "_model_module": "@jupyter-widgets/controls",
            "_model_module_version": "1.5.0",
            "_model_name": "DescriptionStyleModel",
            "_view_count": null,
            "_view_module": "@jupyter-widgets/base",
            "_view_module_version": "1.2.0",
            "_view_name": "StyleView",
            "description_width": ""
          }
        },
        "0e699de743c34d8bb6d1e627acfc97e7": {
          "model_module": "@jupyter-widgets/base",
          "model_name": "LayoutModel",
          "model_module_version": "1.2.0",
          "state": {
            "_model_module": "@jupyter-widgets/base",
            "_model_module_version": "1.2.0",
            "_model_name": "LayoutModel",
            "_view_count": null,
            "_view_module": "@jupyter-widgets/base",
            "_view_module_version": "1.2.0",
            "_view_name": "LayoutView",
            "align_content": null,
            "align_items": null,
            "align_self": null,
            "border": null,
            "bottom": null,
            "display": null,
            "flex": null,
            "flex_flow": null,
            "grid_area": null,
            "grid_auto_columns": null,
            "grid_auto_flow": null,
            "grid_auto_rows": null,
            "grid_column": null,
            "grid_gap": null,
            "grid_row": null,
            "grid_template_areas": null,
            "grid_template_columns": null,
            "grid_template_rows": null,
            "height": null,
            "justify_content": null,
            "justify_items": null,
            "left": null,
            "margin": null,
            "max_height": null,
            "max_width": null,
            "min_height": null,
            "min_width": null,
            "object_fit": null,
            "object_position": null,
            "order": null,
            "overflow": null,
            "overflow_x": null,
            "overflow_y": null,
            "padding": null,
            "right": null,
            "top": null,
            "visibility": null,
            "width": null
          }
        },
        "69221a8878ed4357838ab85c0fe0185c": {
          "model_module": "@jupyter-widgets/controls",
          "model_name": "ProgressStyleModel",
          "model_module_version": "1.5.0",
          "state": {
            "_model_module": "@jupyter-widgets/controls",
            "_model_module_version": "1.5.0",
            "_model_name": "ProgressStyleModel",
            "_view_count": null,
            "_view_module": "@jupyter-widgets/base",
            "_view_module_version": "1.2.0",
            "_view_name": "StyleView",
            "bar_color": null,
            "description_width": ""
          }
        },
        "cc73198355504b40b24a9681f42caca0": {
          "model_module": "@jupyter-widgets/base",
          "model_name": "LayoutModel",
          "model_module_version": "1.2.0",
          "state": {
            "_model_module": "@jupyter-widgets/base",
            "_model_module_version": "1.2.0",
            "_model_name": "LayoutModel",
            "_view_count": null,
            "_view_module": "@jupyter-widgets/base",
            "_view_module_version": "1.2.0",
            "_view_name": "LayoutView",
            "align_content": null,
            "align_items": null,
            "align_self": null,
            "border": null,
            "bottom": null,
            "display": null,
            "flex": null,
            "flex_flow": null,
            "grid_area": null,
            "grid_auto_columns": null,
            "grid_auto_flow": null,
            "grid_auto_rows": null,
            "grid_column": null,
            "grid_gap": null,
            "grid_row": null,
            "grid_template_areas": null,
            "grid_template_columns": null,
            "grid_template_rows": null,
            "height": null,
            "justify_content": null,
            "justify_items": null,
            "left": null,
            "margin": null,
            "max_height": null,
            "max_width": null,
            "min_height": null,
            "min_width": null,
            "object_fit": null,
            "object_position": null,
            "order": null,
            "overflow": null,
            "overflow_x": null,
            "overflow_y": null,
            "padding": null,
            "right": null,
            "top": null,
            "visibility": null,
            "width": null
          }
        },
        "2855ad519c904b9c904e8a0602e7e3cd": {
          "model_module": "@jupyter-widgets/controls",
          "model_name": "DescriptionStyleModel",
          "model_module_version": "1.5.0",
          "state": {
            "_model_module": "@jupyter-widgets/controls",
            "_model_module_version": "1.5.0",
            "_model_name": "DescriptionStyleModel",
            "_view_count": null,
            "_view_module": "@jupyter-widgets/base",
            "_view_module_version": "1.2.0",
            "_view_name": "StyleView",
            "description_width": ""
          }
        },
        "243ae456c7f24838a3be0172dd01020e": {
          "model_module": "@jupyter-widgets/controls",
          "model_name": "HBoxModel",
          "model_module_version": "1.5.0",
          "state": {
            "_dom_classes": [],
            "_model_module": "@jupyter-widgets/controls",
            "_model_module_version": "1.5.0",
            "_model_name": "HBoxModel",
            "_view_count": null,
            "_view_module": "@jupyter-widgets/controls",
            "_view_module_version": "1.5.0",
            "_view_name": "HBoxView",
            "box_style": "",
            "children": [
              "IPY_MODEL_c146430135ee4e20ab5c60eca7c46dea",
              "IPY_MODEL_56d11350261b4765a52db3aa89d713dd",
              "IPY_MODEL_7a4a4b5e8199476ba5f8555fca79f3ae"
            ],
            "layout": "IPY_MODEL_4ea38eae18af430584769f04c700190e"
          }
        },
        "c146430135ee4e20ab5c60eca7c46dea": {
          "model_module": "@jupyter-widgets/controls",
          "model_name": "HTMLModel",
          "model_module_version": "1.5.0",
          "state": {
            "_dom_classes": [],
            "_model_module": "@jupyter-widgets/controls",
            "_model_module_version": "1.5.0",
            "_model_name": "HTMLModel",
            "_view_count": null,
            "_view_module": "@jupyter-widgets/controls",
            "_view_module_version": "1.5.0",
            "_view_name": "HTMLView",
            "description": "",
            "description_tooltip": null,
            "layout": "IPY_MODEL_8d66d53a14014cad9cd2dfc6d6069633",
            "placeholder": "​",
            "style": "IPY_MODEL_da3c1fc4eb2443ab87fc426830bced2d",
            "value": "Downloading: 100%"
          }
        },
        "56d11350261b4765a52db3aa89d713dd": {
          "model_module": "@jupyter-widgets/controls",
          "model_name": "FloatProgressModel",
          "model_module_version": "1.5.0",
          "state": {
            "_dom_classes": [],
            "_model_module": "@jupyter-widgets/controls",
            "_model_module_version": "1.5.0",
            "_model_name": "FloatProgressModel",
            "_view_count": null,
            "_view_module": "@jupyter-widgets/controls",
            "_view_module_version": "1.5.0",
            "_view_name": "ProgressView",
            "bar_style": "success",
            "description": "",
            "description_tooltip": null,
            "layout": "IPY_MODEL_b1f85c31f28c48aca4dfe20699e38f83",
            "max": 898822,
            "min": 0,
            "orientation": "horizontal",
            "style": "IPY_MODEL_92f2cf0d5aaa41989fdc77e69f0c24f3",
            "value": 898822
          }
        },
        "7a4a4b5e8199476ba5f8555fca79f3ae": {
          "model_module": "@jupyter-widgets/controls",
          "model_name": "HTMLModel",
          "model_module_version": "1.5.0",
          "state": {
            "_dom_classes": [],
            "_model_module": "@jupyter-widgets/controls",
            "_model_module_version": "1.5.0",
            "_model_name": "HTMLModel",
            "_view_count": null,
            "_view_module": "@jupyter-widgets/controls",
            "_view_module_version": "1.5.0",
            "_view_name": "HTMLView",
            "description": "",
            "description_tooltip": null,
            "layout": "IPY_MODEL_d09cd1c88af3416db6fc74ca30da9cfc",
            "placeholder": "​",
            "style": "IPY_MODEL_1793296a4cbb49429ca3072072bccdff",
            "value": " 899k/899k [00:00&lt;00:00, 7.29MB/s]"
          }
        },
        "4ea38eae18af430584769f04c700190e": {
          "model_module": "@jupyter-widgets/base",
          "model_name": "LayoutModel",
          "model_module_version": "1.2.0",
          "state": {
            "_model_module": "@jupyter-widgets/base",
            "_model_module_version": "1.2.0",
            "_model_name": "LayoutModel",
            "_view_count": null,
            "_view_module": "@jupyter-widgets/base",
            "_view_module_version": "1.2.0",
            "_view_name": "LayoutView",
            "align_content": null,
            "align_items": null,
            "align_self": null,
            "border": null,
            "bottom": null,
            "display": null,
            "flex": null,
            "flex_flow": null,
            "grid_area": null,
            "grid_auto_columns": null,
            "grid_auto_flow": null,
            "grid_auto_rows": null,
            "grid_column": null,
            "grid_gap": null,
            "grid_row": null,
            "grid_template_areas": null,
            "grid_template_columns": null,
            "grid_template_rows": null,
            "height": null,
            "justify_content": null,
            "justify_items": null,
            "left": null,
            "margin": null,
            "max_height": null,
            "max_width": null,
            "min_height": null,
            "min_width": null,
            "object_fit": null,
            "object_position": null,
            "order": null,
            "overflow": null,
            "overflow_x": null,
            "overflow_y": null,
            "padding": null,
            "right": null,
            "top": null,
            "visibility": null,
            "width": null
          }
        },
        "8d66d53a14014cad9cd2dfc6d6069633": {
          "model_module": "@jupyter-widgets/base",
          "model_name": "LayoutModel",
          "model_module_version": "1.2.0",
          "state": {
            "_model_module": "@jupyter-widgets/base",
            "_model_module_version": "1.2.0",
            "_model_name": "LayoutModel",
            "_view_count": null,
            "_view_module": "@jupyter-widgets/base",
            "_view_module_version": "1.2.0",
            "_view_name": "LayoutView",
            "align_content": null,
            "align_items": null,
            "align_self": null,
            "border": null,
            "bottom": null,
            "display": null,
            "flex": null,
            "flex_flow": null,
            "grid_area": null,
            "grid_auto_columns": null,
            "grid_auto_flow": null,
            "grid_auto_rows": null,
            "grid_column": null,
            "grid_gap": null,
            "grid_row": null,
            "grid_template_areas": null,
            "grid_template_columns": null,
            "grid_template_rows": null,
            "height": null,
            "justify_content": null,
            "justify_items": null,
            "left": null,
            "margin": null,
            "max_height": null,
            "max_width": null,
            "min_height": null,
            "min_width": null,
            "object_fit": null,
            "object_position": null,
            "order": null,
            "overflow": null,
            "overflow_x": null,
            "overflow_y": null,
            "padding": null,
            "right": null,
            "top": null,
            "visibility": null,
            "width": null
          }
        },
        "da3c1fc4eb2443ab87fc426830bced2d": {
          "model_module": "@jupyter-widgets/controls",
          "model_name": "DescriptionStyleModel",
          "model_module_version": "1.5.0",
          "state": {
            "_model_module": "@jupyter-widgets/controls",
            "_model_module_version": "1.5.0",
            "_model_name": "DescriptionStyleModel",
            "_view_count": null,
            "_view_module": "@jupyter-widgets/base",
            "_view_module_version": "1.2.0",
            "_view_name": "StyleView",
            "description_width": ""
          }
        },
        "b1f85c31f28c48aca4dfe20699e38f83": {
          "model_module": "@jupyter-widgets/base",
          "model_name": "LayoutModel",
          "model_module_version": "1.2.0",
          "state": {
            "_model_module": "@jupyter-widgets/base",
            "_model_module_version": "1.2.0",
            "_model_name": "LayoutModel",
            "_view_count": null,
            "_view_module": "@jupyter-widgets/base",
            "_view_module_version": "1.2.0",
            "_view_name": "LayoutView",
            "align_content": null,
            "align_items": null,
            "align_self": null,
            "border": null,
            "bottom": null,
            "display": null,
            "flex": null,
            "flex_flow": null,
            "grid_area": null,
            "grid_auto_columns": null,
            "grid_auto_flow": null,
            "grid_auto_rows": null,
            "grid_column": null,
            "grid_gap": null,
            "grid_row": null,
            "grid_template_areas": null,
            "grid_template_columns": null,
            "grid_template_rows": null,
            "height": null,
            "justify_content": null,
            "justify_items": null,
            "left": null,
            "margin": null,
            "max_height": null,
            "max_width": null,
            "min_height": null,
            "min_width": null,
            "object_fit": null,
            "object_position": null,
            "order": null,
            "overflow": null,
            "overflow_x": null,
            "overflow_y": null,
            "padding": null,
            "right": null,
            "top": null,
            "visibility": null,
            "width": null
          }
        },
        "92f2cf0d5aaa41989fdc77e69f0c24f3": {
          "model_module": "@jupyter-widgets/controls",
          "model_name": "ProgressStyleModel",
          "model_module_version": "1.5.0",
          "state": {
            "_model_module": "@jupyter-widgets/controls",
            "_model_module_version": "1.5.0",
            "_model_name": "ProgressStyleModel",
            "_view_count": null,
            "_view_module": "@jupyter-widgets/base",
            "_view_module_version": "1.2.0",
            "_view_name": "StyleView",
            "bar_color": null,
            "description_width": ""
          }
        },
        "d09cd1c88af3416db6fc74ca30da9cfc": {
          "model_module": "@jupyter-widgets/base",
          "model_name": "LayoutModel",
          "model_module_version": "1.2.0",
          "state": {
            "_model_module": "@jupyter-widgets/base",
            "_model_module_version": "1.2.0",
            "_model_name": "LayoutModel",
            "_view_count": null,
            "_view_module": "@jupyter-widgets/base",
            "_view_module_version": "1.2.0",
            "_view_name": "LayoutView",
            "align_content": null,
            "align_items": null,
            "align_self": null,
            "border": null,
            "bottom": null,
            "display": null,
            "flex": null,
            "flex_flow": null,
            "grid_area": null,
            "grid_auto_columns": null,
            "grid_auto_flow": null,
            "grid_auto_rows": null,
            "grid_column": null,
            "grid_gap": null,
            "grid_row": null,
            "grid_template_areas": null,
            "grid_template_columns": null,
            "grid_template_rows": null,
            "height": null,
            "justify_content": null,
            "justify_items": null,
            "left": null,
            "margin": null,
            "max_height": null,
            "max_width": null,
            "min_height": null,
            "min_width": null,
            "object_fit": null,
            "object_position": null,
            "order": null,
            "overflow": null,
            "overflow_x": null,
            "overflow_y": null,
            "padding": null,
            "right": null,
            "top": null,
            "visibility": null,
            "width": null
          }
        },
        "1793296a4cbb49429ca3072072bccdff": {
          "model_module": "@jupyter-widgets/controls",
          "model_name": "DescriptionStyleModel",
          "model_module_version": "1.5.0",
          "state": {
            "_model_module": "@jupyter-widgets/controls",
            "_model_module_version": "1.5.0",
            "_model_name": "DescriptionStyleModel",
            "_view_count": null,
            "_view_module": "@jupyter-widgets/base",
            "_view_module_version": "1.2.0",
            "_view_name": "StyleView",
            "description_width": ""
          }
        },
        "09ecd94250a64f67a9026f125293dab7": {
          "model_module": "@jupyter-widgets/controls",
          "model_name": "HBoxModel",
          "model_module_version": "1.5.0",
          "state": {
            "_dom_classes": [],
            "_model_module": "@jupyter-widgets/controls",
            "_model_module_version": "1.5.0",
            "_model_name": "HBoxModel",
            "_view_count": null,
            "_view_module": "@jupyter-widgets/controls",
            "_view_module_version": "1.5.0",
            "_view_name": "HBoxView",
            "box_style": "",
            "children": [
              "IPY_MODEL_3e6feed3cbc94b5a8edd66d805a22fb1",
              "IPY_MODEL_cd703f49b00b495887cd3e9afe95bd5a",
              "IPY_MODEL_4609f76cc25b4568bc6ee12939f1f636"
            ],
            "layout": "IPY_MODEL_26bcbb2a23ac411ba2deaa18ac737ccc"
          }
        },
        "3e6feed3cbc94b5a8edd66d805a22fb1": {
          "model_module": "@jupyter-widgets/controls",
          "model_name": "HTMLModel",
          "model_module_version": "1.5.0",
          "state": {
            "_dom_classes": [],
            "_model_module": "@jupyter-widgets/controls",
            "_model_module_version": "1.5.0",
            "_model_name": "HTMLModel",
            "_view_count": null,
            "_view_module": "@jupyter-widgets/controls",
            "_view_module_version": "1.5.0",
            "_view_name": "HTMLView",
            "description": "",
            "description_tooltip": null,
            "layout": "IPY_MODEL_6f467c9ebdf54ec088eefb99cd8f4a18",
            "placeholder": "​",
            "style": "IPY_MODEL_d8fad31badc947e49ac270629b5d046e",
            "value": "Downloading: 100%"
          }
        },
        "cd703f49b00b495887cd3e9afe95bd5a": {
          "model_module": "@jupyter-widgets/controls",
          "model_name": "FloatProgressModel",
          "model_module_version": "1.5.0",
          "state": {
            "_dom_classes": [],
            "_model_module": "@jupyter-widgets/controls",
            "_model_module_version": "1.5.0",
            "_model_name": "FloatProgressModel",
            "_view_count": null,
            "_view_module": "@jupyter-widgets/controls",
            "_view_module_version": "1.5.0",
            "_view_name": "ProgressView",
            "bar_style": "success",
            "description": "",
            "description_tooltip": null,
            "layout": "IPY_MODEL_5e935f285a83438d92167496a018f5ac",
            "max": 456318,
            "min": 0,
            "orientation": "horizontal",
            "style": "IPY_MODEL_579564b4501d484abe42eec0602a6e12",
            "value": 456318
          }
        },
        "4609f76cc25b4568bc6ee12939f1f636": {
          "model_module": "@jupyter-widgets/controls",
          "model_name": "HTMLModel",
          "model_module_version": "1.5.0",
          "state": {
            "_dom_classes": [],
            "_model_module": "@jupyter-widgets/controls",
            "_model_module_version": "1.5.0",
            "_model_name": "HTMLModel",
            "_view_count": null,
            "_view_module": "@jupyter-widgets/controls",
            "_view_module_version": "1.5.0",
            "_view_name": "HTMLView",
            "description": "",
            "description_tooltip": null,
            "layout": "IPY_MODEL_e87c557f84a24683814ddf6c602e2b81",
            "placeholder": "​",
            "style": "IPY_MODEL_ffe50543b3f44177adeb361707ba1de8",
            "value": " 456k/456k [00:00&lt;00:00, 2.70MB/s]"
          }
        },
        "26bcbb2a23ac411ba2deaa18ac737ccc": {
          "model_module": "@jupyter-widgets/base",
          "model_name": "LayoutModel",
          "model_module_version": "1.2.0",
          "state": {
            "_model_module": "@jupyter-widgets/base",
            "_model_module_version": "1.2.0",
            "_model_name": "LayoutModel",
            "_view_count": null,
            "_view_module": "@jupyter-widgets/base",
            "_view_module_version": "1.2.0",
            "_view_name": "LayoutView",
            "align_content": null,
            "align_items": null,
            "align_self": null,
            "border": null,
            "bottom": null,
            "display": null,
            "flex": null,
            "flex_flow": null,
            "grid_area": null,
            "grid_auto_columns": null,
            "grid_auto_flow": null,
            "grid_auto_rows": null,
            "grid_column": null,
            "grid_gap": null,
            "grid_row": null,
            "grid_template_areas": null,
            "grid_template_columns": null,
            "grid_template_rows": null,
            "height": null,
            "justify_content": null,
            "justify_items": null,
            "left": null,
            "margin": null,
            "max_height": null,
            "max_width": null,
            "min_height": null,
            "min_width": null,
            "object_fit": null,
            "object_position": null,
            "order": null,
            "overflow": null,
            "overflow_x": null,
            "overflow_y": null,
            "padding": null,
            "right": null,
            "top": null,
            "visibility": null,
            "width": null
          }
        },
        "6f467c9ebdf54ec088eefb99cd8f4a18": {
          "model_module": "@jupyter-widgets/base",
          "model_name": "LayoutModel",
          "model_module_version": "1.2.0",
          "state": {
            "_model_module": "@jupyter-widgets/base",
            "_model_module_version": "1.2.0",
            "_model_name": "LayoutModel",
            "_view_count": null,
            "_view_module": "@jupyter-widgets/base",
            "_view_module_version": "1.2.0",
            "_view_name": "LayoutView",
            "align_content": null,
            "align_items": null,
            "align_self": null,
            "border": null,
            "bottom": null,
            "display": null,
            "flex": null,
            "flex_flow": null,
            "grid_area": null,
            "grid_auto_columns": null,
            "grid_auto_flow": null,
            "grid_auto_rows": null,
            "grid_column": null,
            "grid_gap": null,
            "grid_row": null,
            "grid_template_areas": null,
            "grid_template_columns": null,
            "grid_template_rows": null,
            "height": null,
            "justify_content": null,
            "justify_items": null,
            "left": null,
            "margin": null,
            "max_height": null,
            "max_width": null,
            "min_height": null,
            "min_width": null,
            "object_fit": null,
            "object_position": null,
            "order": null,
            "overflow": null,
            "overflow_x": null,
            "overflow_y": null,
            "padding": null,
            "right": null,
            "top": null,
            "visibility": null,
            "width": null
          }
        },
        "d8fad31badc947e49ac270629b5d046e": {
          "model_module": "@jupyter-widgets/controls",
          "model_name": "DescriptionStyleModel",
          "model_module_version": "1.5.0",
          "state": {
            "_model_module": "@jupyter-widgets/controls",
            "_model_module_version": "1.5.0",
            "_model_name": "DescriptionStyleModel",
            "_view_count": null,
            "_view_module": "@jupyter-widgets/base",
            "_view_module_version": "1.2.0",
            "_view_name": "StyleView",
            "description_width": ""
          }
        },
        "5e935f285a83438d92167496a018f5ac": {
          "model_module": "@jupyter-widgets/base",
          "model_name": "LayoutModel",
          "model_module_version": "1.2.0",
          "state": {
            "_model_module": "@jupyter-widgets/base",
            "_model_module_version": "1.2.0",
            "_model_name": "LayoutModel",
            "_view_count": null,
            "_view_module": "@jupyter-widgets/base",
            "_view_module_version": "1.2.0",
            "_view_name": "LayoutView",
            "align_content": null,
            "align_items": null,
            "align_self": null,
            "border": null,
            "bottom": null,
            "display": null,
            "flex": null,
            "flex_flow": null,
            "grid_area": null,
            "grid_auto_columns": null,
            "grid_auto_flow": null,
            "grid_auto_rows": null,
            "grid_column": null,
            "grid_gap": null,
            "grid_row": null,
            "grid_template_areas": null,
            "grid_template_columns": null,
            "grid_template_rows": null,
            "height": null,
            "justify_content": null,
            "justify_items": null,
            "left": null,
            "margin": null,
            "max_height": null,
            "max_width": null,
            "min_height": null,
            "min_width": null,
            "object_fit": null,
            "object_position": null,
            "order": null,
            "overflow": null,
            "overflow_x": null,
            "overflow_y": null,
            "padding": null,
            "right": null,
            "top": null,
            "visibility": null,
            "width": null
          }
        },
        "579564b4501d484abe42eec0602a6e12": {
          "model_module": "@jupyter-widgets/controls",
          "model_name": "ProgressStyleModel",
          "model_module_version": "1.5.0",
          "state": {
            "_model_module": "@jupyter-widgets/controls",
            "_model_module_version": "1.5.0",
            "_model_name": "ProgressStyleModel",
            "_view_count": null,
            "_view_module": "@jupyter-widgets/base",
            "_view_module_version": "1.2.0",
            "_view_name": "StyleView",
            "bar_color": null,
            "description_width": ""
          }
        },
        "e87c557f84a24683814ddf6c602e2b81": {
          "model_module": "@jupyter-widgets/base",
          "model_name": "LayoutModel",
          "model_module_version": "1.2.0",
          "state": {
            "_model_module": "@jupyter-widgets/base",
            "_model_module_version": "1.2.0",
            "_model_name": "LayoutModel",
            "_view_count": null,
            "_view_module": "@jupyter-widgets/base",
            "_view_module_version": "1.2.0",
            "_view_name": "LayoutView",
            "align_content": null,
            "align_items": null,
            "align_self": null,
            "border": null,
            "bottom": null,
            "display": null,
            "flex": null,
            "flex_flow": null,
            "grid_area": null,
            "grid_auto_columns": null,
            "grid_auto_flow": null,
            "grid_auto_rows": null,
            "grid_column": null,
            "grid_gap": null,
            "grid_row": null,
            "grid_template_areas": null,
            "grid_template_columns": null,
            "grid_template_rows": null,
            "height": null,
            "justify_content": null,
            "justify_items": null,
            "left": null,
            "margin": null,
            "max_height": null,
            "max_width": null,
            "min_height": null,
            "min_width": null,
            "object_fit": null,
            "object_position": null,
            "order": null,
            "overflow": null,
            "overflow_x": null,
            "overflow_y": null,
            "padding": null,
            "right": null,
            "top": null,
            "visibility": null,
            "width": null
          }
        },
        "ffe50543b3f44177adeb361707ba1de8": {
          "model_module": "@jupyter-widgets/controls",
          "model_name": "DescriptionStyleModel",
          "model_module_version": "1.5.0",
          "state": {
            "_model_module": "@jupyter-widgets/controls",
            "_model_module_version": "1.5.0",
            "_model_name": "DescriptionStyleModel",
            "_view_count": null,
            "_view_module": "@jupyter-widgets/base",
            "_view_module_version": "1.2.0",
            "_view_name": "StyleView",
            "description_width": ""
          }
        },
        "5e02b4c673cf4696b37ece9a9896c694": {
          "model_module": "@jupyter-widgets/controls",
          "model_name": "HBoxModel",
          "model_module_version": "1.5.0",
          "state": {
            "_dom_classes": [],
            "_model_module": "@jupyter-widgets/controls",
            "_model_module_version": "1.5.0",
            "_model_name": "HBoxModel",
            "_view_count": null,
            "_view_module": "@jupyter-widgets/controls",
            "_view_module_version": "1.5.0",
            "_view_name": "HBoxView",
            "box_style": "",
            "children": [
              "IPY_MODEL_a4557c4f0125475abd727585f2318172",
              "IPY_MODEL_c52005d0986e4ce28f9ba3e421996aed",
              "IPY_MODEL_e91a261dc8bf4712819ccfea6c41dd4b"
            ],
            "layout": "IPY_MODEL_9f4727dafbf747adb4276153f3e5bfa3"
          }
        },
        "a4557c4f0125475abd727585f2318172": {
          "model_module": "@jupyter-widgets/controls",
          "model_name": "HTMLModel",
          "model_module_version": "1.5.0",
          "state": {
            "_dom_classes": [],
            "_model_module": "@jupyter-widgets/controls",
            "_model_module_version": "1.5.0",
            "_model_name": "HTMLModel",
            "_view_count": null,
            "_view_module": "@jupyter-widgets/controls",
            "_view_module_version": "1.5.0",
            "_view_name": "HTMLView",
            "description": "",
            "description_tooltip": null,
            "layout": "IPY_MODEL_160cce73e7d449b1839f490f260c87a6",
            "placeholder": "​",
            "style": "IPY_MODEL_f582c087057244a9845c34fc76edd54a",
            "value": "Downloading: 100%"
          }
        },
        "c52005d0986e4ce28f9ba3e421996aed": {
          "model_module": "@jupyter-widgets/controls",
          "model_name": "FloatProgressModel",
          "model_module_version": "1.5.0",
          "state": {
            "_dom_classes": [],
            "_model_module": "@jupyter-widgets/controls",
            "_model_module_version": "1.5.0",
            "_model_name": "FloatProgressModel",
            "_view_count": null,
            "_view_module": "@jupyter-widgets/controls",
            "_view_module_version": "1.5.0",
            "_view_name": "ProgressView",
            "bar_style": "success",
            "description": "",
            "description_tooltip": null,
            "layout": "IPY_MODEL_98807aebc79540e08f7b393af62d9d72",
            "max": 150,
            "min": 0,
            "orientation": "horizontal",
            "style": "IPY_MODEL_4b0170876a6e4b5d9c3248243d5ac494",
            "value": 150
          }
        },
        "e91a261dc8bf4712819ccfea6c41dd4b": {
          "model_module": "@jupyter-widgets/controls",
          "model_name": "HTMLModel",
          "model_module_version": "1.5.0",
          "state": {
            "_dom_classes": [],
            "_model_module": "@jupyter-widgets/controls",
            "_model_module_version": "1.5.0",
            "_model_name": "HTMLModel",
            "_view_count": null,
            "_view_module": "@jupyter-widgets/controls",
            "_view_module_version": "1.5.0",
            "_view_name": "HTMLView",
            "description": "",
            "description_tooltip": null,
            "layout": "IPY_MODEL_b89ee661c67b471fad01ffa80e0e843e",
            "placeholder": "​",
            "style": "IPY_MODEL_7268886a83bc48eb8dc1b3a5e6cc0eb0",
            "value": " 150/150 [00:00&lt;00:00, 3.44kB/s]"
          }
        },
        "9f4727dafbf747adb4276153f3e5bfa3": {
          "model_module": "@jupyter-widgets/base",
          "model_name": "LayoutModel",
          "model_module_version": "1.2.0",
          "state": {
            "_model_module": "@jupyter-widgets/base",
            "_model_module_version": "1.2.0",
            "_model_name": "LayoutModel",
            "_view_count": null,
            "_view_module": "@jupyter-widgets/base",
            "_view_module_version": "1.2.0",
            "_view_name": "LayoutView",
            "align_content": null,
            "align_items": null,
            "align_self": null,
            "border": null,
            "bottom": null,
            "display": null,
            "flex": null,
            "flex_flow": null,
            "grid_area": null,
            "grid_auto_columns": null,
            "grid_auto_flow": null,
            "grid_auto_rows": null,
            "grid_column": null,
            "grid_gap": null,
            "grid_row": null,
            "grid_template_areas": null,
            "grid_template_columns": null,
            "grid_template_rows": null,
            "height": null,
            "justify_content": null,
            "justify_items": null,
            "left": null,
            "margin": null,
            "max_height": null,
            "max_width": null,
            "min_height": null,
            "min_width": null,
            "object_fit": null,
            "object_position": null,
            "order": null,
            "overflow": null,
            "overflow_x": null,
            "overflow_y": null,
            "padding": null,
            "right": null,
            "top": null,
            "visibility": null,
            "width": null
          }
        },
        "160cce73e7d449b1839f490f260c87a6": {
          "model_module": "@jupyter-widgets/base",
          "model_name": "LayoutModel",
          "model_module_version": "1.2.0",
          "state": {
            "_model_module": "@jupyter-widgets/base",
            "_model_module_version": "1.2.0",
            "_model_name": "LayoutModel",
            "_view_count": null,
            "_view_module": "@jupyter-widgets/base",
            "_view_module_version": "1.2.0",
            "_view_name": "LayoutView",
            "align_content": null,
            "align_items": null,
            "align_self": null,
            "border": null,
            "bottom": null,
            "display": null,
            "flex": null,
            "flex_flow": null,
            "grid_area": null,
            "grid_auto_columns": null,
            "grid_auto_flow": null,
            "grid_auto_rows": null,
            "grid_column": null,
            "grid_gap": null,
            "grid_row": null,
            "grid_template_areas": null,
            "grid_template_columns": null,
            "grid_template_rows": null,
            "height": null,
            "justify_content": null,
            "justify_items": null,
            "left": null,
            "margin": null,
            "max_height": null,
            "max_width": null,
            "min_height": null,
            "min_width": null,
            "object_fit": null,
            "object_position": null,
            "order": null,
            "overflow": null,
            "overflow_x": null,
            "overflow_y": null,
            "padding": null,
            "right": null,
            "top": null,
            "visibility": null,
            "width": null
          }
        },
        "f582c087057244a9845c34fc76edd54a": {
          "model_module": "@jupyter-widgets/controls",
          "model_name": "DescriptionStyleModel",
          "model_module_version": "1.5.0",
          "state": {
            "_model_module": "@jupyter-widgets/controls",
            "_model_module_version": "1.5.0",
            "_model_name": "DescriptionStyleModel",
            "_view_count": null,
            "_view_module": "@jupyter-widgets/base",
            "_view_module_version": "1.2.0",
            "_view_name": "StyleView",
            "description_width": ""
          }
        },
        "98807aebc79540e08f7b393af62d9d72": {
          "model_module": "@jupyter-widgets/base",
          "model_name": "LayoutModel",
          "model_module_version": "1.2.0",
          "state": {
            "_model_module": "@jupyter-widgets/base",
            "_model_module_version": "1.2.0",
            "_model_name": "LayoutModel",
            "_view_count": null,
            "_view_module": "@jupyter-widgets/base",
            "_view_module_version": "1.2.0",
            "_view_name": "LayoutView",
            "align_content": null,
            "align_items": null,
            "align_self": null,
            "border": null,
            "bottom": null,
            "display": null,
            "flex": null,
            "flex_flow": null,
            "grid_area": null,
            "grid_auto_columns": null,
            "grid_auto_flow": null,
            "grid_auto_rows": null,
            "grid_column": null,
            "grid_gap": null,
            "grid_row": null,
            "grid_template_areas": null,
            "grid_template_columns": null,
            "grid_template_rows": null,
            "height": null,
            "justify_content": null,
            "justify_items": null,
            "left": null,
            "margin": null,
            "max_height": null,
            "max_width": null,
            "min_height": null,
            "min_width": null,
            "object_fit": null,
            "object_position": null,
            "order": null,
            "overflow": null,
            "overflow_x": null,
            "overflow_y": null,
            "padding": null,
            "right": null,
            "top": null,
            "visibility": null,
            "width": null
          }
        },
        "4b0170876a6e4b5d9c3248243d5ac494": {
          "model_module": "@jupyter-widgets/controls",
          "model_name": "ProgressStyleModel",
          "model_module_version": "1.5.0",
          "state": {
            "_model_module": "@jupyter-widgets/controls",
            "_model_module_version": "1.5.0",
            "_model_name": "ProgressStyleModel",
            "_view_count": null,
            "_view_module": "@jupyter-widgets/base",
            "_view_module_version": "1.2.0",
            "_view_name": "StyleView",
            "bar_color": null,
            "description_width": ""
          }
        },
        "b89ee661c67b471fad01ffa80e0e843e": {
          "model_module": "@jupyter-widgets/base",
          "model_name": "LayoutModel",
          "model_module_version": "1.2.0",
          "state": {
            "_model_module": "@jupyter-widgets/base",
            "_model_module_version": "1.2.0",
            "_model_name": "LayoutModel",
            "_view_count": null,
            "_view_module": "@jupyter-widgets/base",
            "_view_module_version": "1.2.0",
            "_view_name": "LayoutView",
            "align_content": null,
            "align_items": null,
            "align_self": null,
            "border": null,
            "bottom": null,
            "display": null,
            "flex": null,
            "flex_flow": null,
            "grid_area": null,
            "grid_auto_columns": null,
            "grid_auto_flow": null,
            "grid_auto_rows": null,
            "grid_column": null,
            "grid_gap": null,
            "grid_row": null,
            "grid_template_areas": null,
            "grid_template_columns": null,
            "grid_template_rows": null,
            "height": null,
            "justify_content": null,
            "justify_items": null,
            "left": null,
            "margin": null,
            "max_height": null,
            "max_width": null,
            "min_height": null,
            "min_width": null,
            "object_fit": null,
            "object_position": null,
            "order": null,
            "overflow": null,
            "overflow_x": null,
            "overflow_y": null,
            "padding": null,
            "right": null,
            "top": null,
            "visibility": null,
            "width": null
          }
        },
        "7268886a83bc48eb8dc1b3a5e6cc0eb0": {
          "model_module": "@jupyter-widgets/controls",
          "model_name": "DescriptionStyleModel",
          "model_module_version": "1.5.0",
          "state": {
            "_model_module": "@jupyter-widgets/controls",
            "_model_module_version": "1.5.0",
            "_model_name": "DescriptionStyleModel",
            "_view_count": null,
            "_view_module": "@jupyter-widgets/base",
            "_view_module_version": "1.2.0",
            "_view_name": "StyleView",
            "description_width": ""
          }
        },
        "d6aaae5f9be94e23ab86b7d690f8b883": {
          "model_module": "@jupyter-widgets/controls",
          "model_name": "HBoxModel",
          "model_module_version": "1.5.0",
          "state": {
            "_dom_classes": [],
            "_model_module": "@jupyter-widgets/controls",
            "_model_module_version": "1.5.0",
            "_model_name": "HBoxModel",
            "_view_count": null,
            "_view_module": "@jupyter-widgets/controls",
            "_view_module_version": "1.5.0",
            "_view_name": "HBoxView",
            "box_style": "",
            "children": [
              "IPY_MODEL_1b64417d3e5643b1ba99fdbf4b94b05e",
              "IPY_MODEL_08fd42a6142446bbb5dc5a80966a05a2",
              "IPY_MODEL_ac49ae5c56c0484ca26d81b625effc9b"
            ],
            "layout": "IPY_MODEL_515d1c31d35840648e34c1b8b901b8f3"
          }
        },
        "1b64417d3e5643b1ba99fdbf4b94b05e": {
          "model_module": "@jupyter-widgets/controls",
          "model_name": "HTMLModel",
          "model_module_version": "1.5.0",
          "state": {
            "_dom_classes": [],
            "_model_module": "@jupyter-widgets/controls",
            "_model_module_version": "1.5.0",
            "_model_name": "HTMLModel",
            "_view_count": null,
            "_view_module": "@jupyter-widgets/controls",
            "_view_module_version": "1.5.0",
            "_view_name": "HTMLView",
            "description": "",
            "description_tooltip": null,
            "layout": "IPY_MODEL_66e132f346a34f4fa332132aaede5615",
            "placeholder": "​",
            "style": "IPY_MODEL_3575688a8de345158452965ff8643ec3",
            "value": "Downloading: 100%"
          }
        },
        "08fd42a6142446bbb5dc5a80966a05a2": {
          "model_module": "@jupyter-widgets/controls",
          "model_name": "FloatProgressModel",
          "model_module_version": "1.5.0",
          "state": {
            "_dom_classes": [],
            "_model_module": "@jupyter-widgets/controls",
            "_model_module_version": "1.5.0",
            "_model_name": "FloatProgressModel",
            "_view_count": null,
            "_view_module": "@jupyter-widgets/controls",
            "_view_module_version": "1.5.0",
            "_view_name": "ProgressView",
            "bar_style": "success",
            "description": "",
            "description_tooltip": null,
            "layout": "IPY_MODEL_3be3074e13e34af59c52dbe636a5884b",
            "max": 498679497,
            "min": 0,
            "orientation": "horizontal",
            "style": "IPY_MODEL_892f47f4f59048619b1a799606935d84",
            "value": 498679497
          }
        },
        "ac49ae5c56c0484ca26d81b625effc9b": {
          "model_module": "@jupyter-widgets/controls",
          "model_name": "HTMLModel",
          "model_module_version": "1.5.0",
          "state": {
            "_dom_classes": [],
            "_model_module": "@jupyter-widgets/controls",
            "_model_module_version": "1.5.0",
            "_model_name": "HTMLModel",
            "_view_count": null,
            "_view_module": "@jupyter-widgets/controls",
            "_view_module_version": "1.5.0",
            "_view_name": "HTMLView",
            "description": "",
            "description_tooltip": null,
            "layout": "IPY_MODEL_eb9733150f7d4474b8bf88d14508b020",
            "placeholder": "​",
            "style": "IPY_MODEL_704d559cdeb94ee0867dd3c8dda93bdd",
            "value": " 499M/499M [00:16&lt;00:00, 28.8MB/s]"
          }
        },
        "515d1c31d35840648e34c1b8b901b8f3": {
          "model_module": "@jupyter-widgets/base",
          "model_name": "LayoutModel",
          "model_module_version": "1.2.0",
          "state": {
            "_model_module": "@jupyter-widgets/base",
            "_model_module_version": "1.2.0",
            "_model_name": "LayoutModel",
            "_view_count": null,
            "_view_module": "@jupyter-widgets/base",
            "_view_module_version": "1.2.0",
            "_view_name": "LayoutView",
            "align_content": null,
            "align_items": null,
            "align_self": null,
            "border": null,
            "bottom": null,
            "display": null,
            "flex": null,
            "flex_flow": null,
            "grid_area": null,
            "grid_auto_columns": null,
            "grid_auto_flow": null,
            "grid_auto_rows": null,
            "grid_column": null,
            "grid_gap": null,
            "grid_row": null,
            "grid_template_areas": null,
            "grid_template_columns": null,
            "grid_template_rows": null,
            "height": null,
            "justify_content": null,
            "justify_items": null,
            "left": null,
            "margin": null,
            "max_height": null,
            "max_width": null,
            "min_height": null,
            "min_width": null,
            "object_fit": null,
            "object_position": null,
            "order": null,
            "overflow": null,
            "overflow_x": null,
            "overflow_y": null,
            "padding": null,
            "right": null,
            "top": null,
            "visibility": null,
            "width": null
          }
        },
        "66e132f346a34f4fa332132aaede5615": {
          "model_module": "@jupyter-widgets/base",
          "model_name": "LayoutModel",
          "model_module_version": "1.2.0",
          "state": {
            "_model_module": "@jupyter-widgets/base",
            "_model_module_version": "1.2.0",
            "_model_name": "LayoutModel",
            "_view_count": null,
            "_view_module": "@jupyter-widgets/base",
            "_view_module_version": "1.2.0",
            "_view_name": "LayoutView",
            "align_content": null,
            "align_items": null,
            "align_self": null,
            "border": null,
            "bottom": null,
            "display": null,
            "flex": null,
            "flex_flow": null,
            "grid_area": null,
            "grid_auto_columns": null,
            "grid_auto_flow": null,
            "grid_auto_rows": null,
            "grid_column": null,
            "grid_gap": null,
            "grid_row": null,
            "grid_template_areas": null,
            "grid_template_columns": null,
            "grid_template_rows": null,
            "height": null,
            "justify_content": null,
            "justify_items": null,
            "left": null,
            "margin": null,
            "max_height": null,
            "max_width": null,
            "min_height": null,
            "min_width": null,
            "object_fit": null,
            "object_position": null,
            "order": null,
            "overflow": null,
            "overflow_x": null,
            "overflow_y": null,
            "padding": null,
            "right": null,
            "top": null,
            "visibility": null,
            "width": null
          }
        },
        "3575688a8de345158452965ff8643ec3": {
          "model_module": "@jupyter-widgets/controls",
          "model_name": "DescriptionStyleModel",
          "model_module_version": "1.5.0",
          "state": {
            "_model_module": "@jupyter-widgets/controls",
            "_model_module_version": "1.5.0",
            "_model_name": "DescriptionStyleModel",
            "_view_count": null,
            "_view_module": "@jupyter-widgets/base",
            "_view_module_version": "1.2.0",
            "_view_name": "StyleView",
            "description_width": ""
          }
        },
        "3be3074e13e34af59c52dbe636a5884b": {
          "model_module": "@jupyter-widgets/base",
          "model_name": "LayoutModel",
          "model_module_version": "1.2.0",
          "state": {
            "_model_module": "@jupyter-widgets/base",
            "_model_module_version": "1.2.0",
            "_model_name": "LayoutModel",
            "_view_count": null,
            "_view_module": "@jupyter-widgets/base",
            "_view_module_version": "1.2.0",
            "_view_name": "LayoutView",
            "align_content": null,
            "align_items": null,
            "align_self": null,
            "border": null,
            "bottom": null,
            "display": null,
            "flex": null,
            "flex_flow": null,
            "grid_area": null,
            "grid_auto_columns": null,
            "grid_auto_flow": null,
            "grid_auto_rows": null,
            "grid_column": null,
            "grid_gap": null,
            "grid_row": null,
            "grid_template_areas": null,
            "grid_template_columns": null,
            "grid_template_rows": null,
            "height": null,
            "justify_content": null,
            "justify_items": null,
            "left": null,
            "margin": null,
            "max_height": null,
            "max_width": null,
            "min_height": null,
            "min_width": null,
            "object_fit": null,
            "object_position": null,
            "order": null,
            "overflow": null,
            "overflow_x": null,
            "overflow_y": null,
            "padding": null,
            "right": null,
            "top": null,
            "visibility": null,
            "width": null
          }
        },
        "892f47f4f59048619b1a799606935d84": {
          "model_module": "@jupyter-widgets/controls",
          "model_name": "ProgressStyleModel",
          "model_module_version": "1.5.0",
          "state": {
            "_model_module": "@jupyter-widgets/controls",
            "_model_module_version": "1.5.0",
            "_model_name": "ProgressStyleModel",
            "_view_count": null,
            "_view_module": "@jupyter-widgets/base",
            "_view_module_version": "1.2.0",
            "_view_name": "StyleView",
            "bar_color": null,
            "description_width": ""
          }
        },
        "eb9733150f7d4474b8bf88d14508b020": {
          "model_module": "@jupyter-widgets/base",
          "model_name": "LayoutModel",
          "model_module_version": "1.2.0",
          "state": {
            "_model_module": "@jupyter-widgets/base",
            "_model_module_version": "1.2.0",
            "_model_name": "LayoutModel",
            "_view_count": null,
            "_view_module": "@jupyter-widgets/base",
            "_view_module_version": "1.2.0",
            "_view_name": "LayoutView",
            "align_content": null,
            "align_items": null,
            "align_self": null,
            "border": null,
            "bottom": null,
            "display": null,
            "flex": null,
            "flex_flow": null,
            "grid_area": null,
            "grid_auto_columns": null,
            "grid_auto_flow": null,
            "grid_auto_rows": null,
            "grid_column": null,
            "grid_gap": null,
            "grid_row": null,
            "grid_template_areas": null,
            "grid_template_columns": null,
            "grid_template_rows": null,
            "height": null,
            "justify_content": null,
            "justify_items": null,
            "left": null,
            "margin": null,
            "max_height": null,
            "max_width": null,
            "min_height": null,
            "min_width": null,
            "object_fit": null,
            "object_position": null,
            "order": null,
            "overflow": null,
            "overflow_x": null,
            "overflow_y": null,
            "padding": null,
            "right": null,
            "top": null,
            "visibility": null,
            "width": null
          }
        },
        "704d559cdeb94ee0867dd3c8dda93bdd": {
          "model_module": "@jupyter-widgets/controls",
          "model_name": "DescriptionStyleModel",
          "model_module_version": "1.5.0",
          "state": {
            "_model_module": "@jupyter-widgets/controls",
            "_model_module_version": "1.5.0",
            "_model_name": "DescriptionStyleModel",
            "_view_count": null,
            "_view_module": "@jupyter-widgets/base",
            "_view_module_version": "1.2.0",
            "_view_name": "StyleView",
            "description_width": ""
          }
        },
        "47c0950db43046829b61b67fc2475343": {
          "model_module": "@jupyter-widgets/controls",
          "model_name": "HBoxModel",
          "model_module_version": "1.5.0",
          "state": {
            "_dom_classes": [],
            "_model_module": "@jupyter-widgets/controls",
            "_model_module_version": "1.5.0",
            "_model_name": "HBoxModel",
            "_view_count": null,
            "_view_module": "@jupyter-widgets/controls",
            "_view_module_version": "1.5.0",
            "_view_name": "HBoxView",
            "box_style": "",
            "children": [
              "IPY_MODEL_1f9f49eb65ec4671b81703fcb9ee83fd",
              "IPY_MODEL_8acd728f99234c5d841a2ce8a3b36046",
              "IPY_MODEL_82238f772ef24cd3afc4c1353a131b73"
            ],
            "layout": "IPY_MODEL_4b60271259aa4c47b7a2d3aeb6918e84"
          }
        },
        "1f9f49eb65ec4671b81703fcb9ee83fd": {
          "model_module": "@jupyter-widgets/controls",
          "model_name": "HTMLModel",
          "model_module_version": "1.5.0",
          "state": {
            "_dom_classes": [],
            "_model_module": "@jupyter-widgets/controls",
            "_model_module_version": "1.5.0",
            "_model_name": "HTMLModel",
            "_view_count": null,
            "_view_module": "@jupyter-widgets/controls",
            "_view_module_version": "1.5.0",
            "_view_name": "HTMLView",
            "description": "",
            "description_tooltip": null,
            "layout": "IPY_MODEL_033173b3e3514655b3bf5f053ed32d8a",
            "placeholder": "​",
            "style": "IPY_MODEL_2de4f6d29257460f9bcb68c58527e7fb",
            "value": ""
          }
        },
        "8acd728f99234c5d841a2ce8a3b36046": {
          "model_module": "@jupyter-widgets/controls",
          "model_name": "FloatProgressModel",
          "model_module_version": "1.5.0",
          "state": {
            "_dom_classes": [],
            "_model_module": "@jupyter-widgets/controls",
            "_model_module_version": "1.5.0",
            "_model_name": "FloatProgressModel",
            "_view_count": null,
            "_view_module": "@jupyter-widgets/controls",
            "_view_module_version": "1.5.0",
            "_view_name": "ProgressView",
            "bar_style": "success",
            "description": "",
            "description_tooltip": null,
            "layout": "IPY_MODEL_1406e44c0e204e5794c05e27535d28ef",
            "max": 1,
            "min": 0,
            "orientation": "horizontal",
            "style": "IPY_MODEL_91240995b6954ba7b87a33e066415484",
            "value": 1
          }
        },
        "82238f772ef24cd3afc4c1353a131b73": {
          "model_module": "@jupyter-widgets/controls",
          "model_name": "HTMLModel",
          "model_module_version": "1.5.0",
          "state": {
            "_dom_classes": [],
            "_model_module": "@jupyter-widgets/controls",
            "_model_module_version": "1.5.0",
            "_model_name": "HTMLModel",
            "_view_count": null,
            "_view_module": "@jupyter-widgets/controls",
            "_view_module_version": "1.5.0",
            "_view_name": "HTMLView",
            "description": "",
            "description_tooltip": null,
            "layout": "IPY_MODEL_086343148cdd433c8f2e912ab2a6aa8f",
            "placeholder": "​",
            "style": "IPY_MODEL_c6a79cd7722447fead165b60e5dd3529",
            "value": " 500/? [01:18&lt;00:00,  6.91it/s]"
          }
        },
        "4b60271259aa4c47b7a2d3aeb6918e84": {
          "model_module": "@jupyter-widgets/base",
          "model_name": "LayoutModel",
          "model_module_version": "1.2.0",
          "state": {
            "_model_module": "@jupyter-widgets/base",
            "_model_module_version": "1.2.0",
            "_model_name": "LayoutModel",
            "_view_count": null,
            "_view_module": "@jupyter-widgets/base",
            "_view_module_version": "1.2.0",
            "_view_name": "LayoutView",
            "align_content": null,
            "align_items": null,
            "align_self": null,
            "border": null,
            "bottom": null,
            "display": null,
            "flex": null,
            "flex_flow": null,
            "grid_area": null,
            "grid_auto_columns": null,
            "grid_auto_flow": null,
            "grid_auto_rows": null,
            "grid_column": null,
            "grid_gap": null,
            "grid_row": null,
            "grid_template_areas": null,
            "grid_template_columns": null,
            "grid_template_rows": null,
            "height": null,
            "justify_content": null,
            "justify_items": null,
            "left": null,
            "margin": null,
            "max_height": null,
            "max_width": null,
            "min_height": null,
            "min_width": null,
            "object_fit": null,
            "object_position": null,
            "order": null,
            "overflow": null,
            "overflow_x": null,
            "overflow_y": null,
            "padding": null,
            "right": null,
            "top": null,
            "visibility": null,
            "width": null
          }
        },
        "033173b3e3514655b3bf5f053ed32d8a": {
          "model_module": "@jupyter-widgets/base",
          "model_name": "LayoutModel",
          "model_module_version": "1.2.0",
          "state": {
            "_model_module": "@jupyter-widgets/base",
            "_model_module_version": "1.2.0",
            "_model_name": "LayoutModel",
            "_view_count": null,
            "_view_module": "@jupyter-widgets/base",
            "_view_module_version": "1.2.0",
            "_view_name": "LayoutView",
            "align_content": null,
            "align_items": null,
            "align_self": null,
            "border": null,
            "bottom": null,
            "display": null,
            "flex": null,
            "flex_flow": null,
            "grid_area": null,
            "grid_auto_columns": null,
            "grid_auto_flow": null,
            "grid_auto_rows": null,
            "grid_column": null,
            "grid_gap": null,
            "grid_row": null,
            "grid_template_areas": null,
            "grid_template_columns": null,
            "grid_template_rows": null,
            "height": null,
            "justify_content": null,
            "justify_items": null,
            "left": null,
            "margin": null,
            "max_height": null,
            "max_width": null,
            "min_height": null,
            "min_width": null,
            "object_fit": null,
            "object_position": null,
            "order": null,
            "overflow": null,
            "overflow_x": null,
            "overflow_y": null,
            "padding": null,
            "right": null,
            "top": null,
            "visibility": null,
            "width": null
          }
        },
        "2de4f6d29257460f9bcb68c58527e7fb": {
          "model_module": "@jupyter-widgets/controls",
          "model_name": "DescriptionStyleModel",
          "model_module_version": "1.5.0",
          "state": {
            "_model_module": "@jupyter-widgets/controls",
            "_model_module_version": "1.5.0",
            "_model_name": "DescriptionStyleModel",
            "_view_count": null,
            "_view_module": "@jupyter-widgets/base",
            "_view_module_version": "1.2.0",
            "_view_name": "StyleView",
            "description_width": ""
          }
        },
        "1406e44c0e204e5794c05e27535d28ef": {
          "model_module": "@jupyter-widgets/base",
          "model_name": "LayoutModel",
          "model_module_version": "1.2.0",
          "state": {
            "_model_module": "@jupyter-widgets/base",
            "_model_module_version": "1.2.0",
            "_model_name": "LayoutModel",
            "_view_count": null,
            "_view_module": "@jupyter-widgets/base",
            "_view_module_version": "1.2.0",
            "_view_name": "LayoutView",
            "align_content": null,
            "align_items": null,
            "align_self": null,
            "border": null,
            "bottom": null,
            "display": null,
            "flex": null,
            "flex_flow": null,
            "grid_area": null,
            "grid_auto_columns": null,
            "grid_auto_flow": null,
            "grid_auto_rows": null,
            "grid_column": null,
            "grid_gap": null,
            "grid_row": null,
            "grid_template_areas": null,
            "grid_template_columns": null,
            "grid_template_rows": null,
            "height": null,
            "justify_content": null,
            "justify_items": null,
            "left": null,
            "margin": null,
            "max_height": null,
            "max_width": null,
            "min_height": null,
            "min_width": null,
            "object_fit": null,
            "object_position": null,
            "order": null,
            "overflow": null,
            "overflow_x": null,
            "overflow_y": null,
            "padding": null,
            "right": null,
            "top": null,
            "visibility": null,
            "width": "20px"
          }
        },
        "91240995b6954ba7b87a33e066415484": {
          "model_module": "@jupyter-widgets/controls",
          "model_name": "ProgressStyleModel",
          "model_module_version": "1.5.0",
          "state": {
            "_model_module": "@jupyter-widgets/controls",
            "_model_module_version": "1.5.0",
            "_model_name": "ProgressStyleModel",
            "_view_count": null,
            "_view_module": "@jupyter-widgets/base",
            "_view_module_version": "1.2.0",
            "_view_name": "StyleView",
            "bar_color": null,
            "description_width": ""
          }
        },
        "086343148cdd433c8f2e912ab2a6aa8f": {
          "model_module": "@jupyter-widgets/base",
          "model_name": "LayoutModel",
          "model_module_version": "1.2.0",
          "state": {
            "_model_module": "@jupyter-widgets/base",
            "_model_module_version": "1.2.0",
            "_model_name": "LayoutModel",
            "_view_count": null,
            "_view_module": "@jupyter-widgets/base",
            "_view_module_version": "1.2.0",
            "_view_name": "LayoutView",
            "align_content": null,
            "align_items": null,
            "align_self": null,
            "border": null,
            "bottom": null,
            "display": null,
            "flex": null,
            "flex_flow": null,
            "grid_area": null,
            "grid_auto_columns": null,
            "grid_auto_flow": null,
            "grid_auto_rows": null,
            "grid_column": null,
            "grid_gap": null,
            "grid_row": null,
            "grid_template_areas": null,
            "grid_template_columns": null,
            "grid_template_rows": null,
            "height": null,
            "justify_content": null,
            "justify_items": null,
            "left": null,
            "margin": null,
            "max_height": null,
            "max_width": null,
            "min_height": null,
            "min_width": null,
            "object_fit": null,
            "object_position": null,
            "order": null,
            "overflow": null,
            "overflow_x": null,
            "overflow_y": null,
            "padding": null,
            "right": null,
            "top": null,
            "visibility": null,
            "width": null
          }
        },
        "c6a79cd7722447fead165b60e5dd3529": {
          "model_module": "@jupyter-widgets/controls",
          "model_name": "DescriptionStyleModel",
          "model_module_version": "1.5.0",
          "state": {
            "_model_module": "@jupyter-widgets/controls",
            "_model_module_version": "1.5.0",
            "_model_name": "DescriptionStyleModel",
            "_view_count": null,
            "_view_module": "@jupyter-widgets/base",
            "_view_module_version": "1.2.0",
            "_view_name": "StyleView",
            "description_width": ""
          }
        }
      }
    }
  },
  "cells": [
    {
      "cell_type": "markdown",
      "metadata": {
        "id": "view-in-github",
        "colab_type": "text"
      },
      "source": [
        "<a href=\"https://colab.research.google.com/github/Suraez/tensorflow-hands_on/blob/main/NLP/twitter_sentiment_analysis.ipynb\" target=\"_parent\"><img src=\"https://colab.research.google.com/assets/colab-badge.svg\" alt=\"Open In Colab\"/></a>"
      ]
    },
    {
      "cell_type": "code",
      "execution_count": 1,
      "metadata": {
        "colab": {
          "base_uri": "https://localhost:8080/"
        },
        "id": "JtX28fkFkzXI",
        "outputId": "53fe716b-bd25-4751-d9f4-b98a03a4c03e"
      },
      "outputs": [
        {
          "output_type": "stream",
          "name": "stdout",
          "text": [
            "Looking in indexes: https://pypi.org/simple, https://us-python.pkg.dev/colab-wheels/public/simple/\n",
            "Collecting opendatasets\n",
            "  Downloading opendatasets-0.1.22-py3-none-any.whl (15 kB)\n",
            "Requirement already satisfied: tqdm in /usr/local/lib/python3.8/dist-packages (from opendatasets) (4.64.1)\n",
            "Requirement already satisfied: click in /usr/local/lib/python3.8/dist-packages (from opendatasets) (7.1.2)\n",
            "Requirement already satisfied: kaggle in /usr/local/lib/python3.8/dist-packages (from opendatasets) (1.5.12)\n",
            "Requirement already satisfied: six>=1.10 in /usr/local/lib/python3.8/dist-packages (from kaggle->opendatasets) (1.15.0)\n",
            "Requirement already satisfied: requests in /usr/local/lib/python3.8/dist-packages (from kaggle->opendatasets) (2.25.1)\n",
            "Requirement already satisfied: urllib3 in /usr/local/lib/python3.8/dist-packages (from kaggle->opendatasets) (1.24.3)\n",
            "Requirement already satisfied: python-slugify in /usr/local/lib/python3.8/dist-packages (from kaggle->opendatasets) (7.0.0)\n",
            "Requirement already satisfied: certifi in /usr/local/lib/python3.8/dist-packages (from kaggle->opendatasets) (2022.12.7)\n",
            "Requirement already satisfied: python-dateutil in /usr/local/lib/python3.8/dist-packages (from kaggle->opendatasets) (2.8.2)\n",
            "Requirement already satisfied: text-unidecode>=1.3 in /usr/local/lib/python3.8/dist-packages (from python-slugify->kaggle->opendatasets) (1.3)\n",
            "Requirement already satisfied: idna<3,>=2.5 in /usr/local/lib/python3.8/dist-packages (from requests->kaggle->opendatasets) (2.10)\n",
            "Requirement already satisfied: chardet<5,>=3.0.2 in /usr/local/lib/python3.8/dist-packages (from requests->kaggle->opendatasets) (4.0.0)\n",
            "Installing collected packages: opendatasets\n",
            "Successfully installed opendatasets-0.1.22\n"
          ]
        }
      ],
      "source": [
        "!pip install opendatasets"
      ]
    },
    {
      "cell_type": "code",
      "source": [
        "import opendatasets as od\n",
        "od.download('https://www.kaggle.com/datasets/cosmos98/twitter-and-reddit-sentimental-analysis-dataset')"
      ],
      "metadata": {
        "colab": {
          "base_uri": "https://localhost:8080/"
        },
        "id": "BWFEEp2rlS38",
        "outputId": "fe2f5836-1937-4b47-9bd7-30aeeab0f063"
      },
      "execution_count": 2,
      "outputs": [
        {
          "output_type": "stream",
          "name": "stdout",
          "text": [
            "Please provide your Kaggle credentials to download this dataset. Learn more: http://bit.ly/kaggle-creds\n",
            "Your Kaggle username: surajkumarojha\n",
            "Your Kaggle Key: ··········\n",
            "Downloading twitter-and-reddit-sentimental-analysis-dataset.zip to ./twitter-and-reddit-sentimental-analysis-dataset\n"
          ]
        },
        {
          "output_type": "stream",
          "name": "stderr",
          "text": [
            "100%|██████████| 10.0M/10.0M [00:00<00:00, 68.0MB/s]"
          ]
        },
        {
          "output_type": "stream",
          "name": "stdout",
          "text": [
            "\n"
          ]
        },
        {
          "output_type": "stream",
          "name": "stderr",
          "text": [
            "\n"
          ]
        }
      ]
    },
    {
      "cell_type": "code",
      "source": [
        "import pandas as pd\n",
        "df = pd.read_csv('/content/twitter-and-reddit-sentimental-analysis-dataset/Twitter_Data.csv')"
      ],
      "metadata": {
        "id": "fGlk4otSlndj"
      },
      "execution_count": 3,
      "outputs": []
    },
    {
      "cell_type": "code",
      "source": [
        "df.columns"
      ],
      "metadata": {
        "colab": {
          "base_uri": "https://localhost:8080/"
        },
        "id": "h92GK73An7vT",
        "outputId": "60bd2428-014f-46b2-c1b8-06f16975d942"
      },
      "execution_count": 4,
      "outputs": [
        {
          "output_type": "execute_result",
          "data": {
            "text/plain": [
              "Index(['clean_text', 'category'], dtype='object')"
            ]
          },
          "metadata": {},
          "execution_count": 4
        }
      ]
    },
    {
      "cell_type": "code",
      "source": [
        "df.shape"
      ],
      "metadata": {
        "colab": {
          "base_uri": "https://localhost:8080/"
        },
        "id": "FUhb8akVoA2q",
        "outputId": "209e9a41-0c74-4b5d-c94b-47a61d3ad148"
      },
      "execution_count": 5,
      "outputs": [
        {
          "output_type": "execute_result",
          "data": {
            "text/plain": [
              "(162980, 2)"
            ]
          },
          "metadata": {},
          "execution_count": 5
        }
      ]
    },
    {
      "cell_type": "code",
      "source": [
        "df = df.head(500)"
      ],
      "metadata": {
        "id": "qmjQGRpYoOhr"
      },
      "execution_count": 6,
      "outputs": []
    },
    {
      "cell_type": "code",
      "source": [
        "df.shape"
      ],
      "metadata": {
        "colab": {
          "base_uri": "https://localhost:8080/"
        },
        "id": "iOxs8Rqhqfhd",
        "outputId": "c31985f8-b8f7-4b83-d19b-62e16af79152"
      },
      "execution_count": 7,
      "outputs": [
        {
          "output_type": "execute_result",
          "data": {
            "text/plain": [
              "(500, 2)"
            ]
          },
          "metadata": {},
          "execution_count": 7
        }
      ]
    },
    {
      "cell_type": "code",
      "source": [
        "df.index"
      ],
      "metadata": {
        "colab": {
          "base_uri": "https://localhost:8080/"
        },
        "id": "UPUEiEDP02pI",
        "outputId": "27b79208-cb16-4180-cbbb-2835c91f6f82"
      },
      "execution_count": 8,
      "outputs": [
        {
          "output_type": "execute_result",
          "data": {
            "text/plain": [
              "RangeIndex(start=0, stop=500, step=1)"
            ]
          },
          "metadata": {},
          "execution_count": 8
        }
      ]
    },
    {
      "cell_type": "code",
      "source": [
        "df.head()"
      ],
      "metadata": {
        "colab": {
          "base_uri": "https://localhost:8080/",
          "height": 206
        },
        "id": "NHNfPCh6sQIb",
        "outputId": "b9605eb6-55f3-418d-f03d-d8c1ecde4550"
      },
      "execution_count": 9,
      "outputs": [
        {
          "output_type": "execute_result",
          "data": {
            "text/plain": [
              "                                          clean_text  category\n",
              "0  when modi promised “minimum government maximum...      -1.0\n",
              "1  talk all the nonsense and continue all the dra...       0.0\n",
              "2  what did just say vote for modi  welcome bjp t...       1.0\n",
              "3  asking his supporters prefix chowkidar their n...       1.0\n",
              "4  answer who among these the most powerful world...       1.0"
            ],
            "text/html": [
              "\n",
              "  <div id=\"df-789cf63e-c4a7-477f-9cac-3255a43a073d\">\n",
              "    <div class=\"colab-df-container\">\n",
              "      <div>\n",
              "<style scoped>\n",
              "    .dataframe tbody tr th:only-of-type {\n",
              "        vertical-align: middle;\n",
              "    }\n",
              "\n",
              "    .dataframe tbody tr th {\n",
              "        vertical-align: top;\n",
              "    }\n",
              "\n",
              "    .dataframe thead th {\n",
              "        text-align: right;\n",
              "    }\n",
              "</style>\n",
              "<table border=\"1\" class=\"dataframe\">\n",
              "  <thead>\n",
              "    <tr style=\"text-align: right;\">\n",
              "      <th></th>\n",
              "      <th>clean_text</th>\n",
              "      <th>category</th>\n",
              "    </tr>\n",
              "  </thead>\n",
              "  <tbody>\n",
              "    <tr>\n",
              "      <th>0</th>\n",
              "      <td>when modi promised “minimum government maximum...</td>\n",
              "      <td>-1.0</td>\n",
              "    </tr>\n",
              "    <tr>\n",
              "      <th>1</th>\n",
              "      <td>talk all the nonsense and continue all the dra...</td>\n",
              "      <td>0.0</td>\n",
              "    </tr>\n",
              "    <tr>\n",
              "      <th>2</th>\n",
              "      <td>what did just say vote for modi  welcome bjp t...</td>\n",
              "      <td>1.0</td>\n",
              "    </tr>\n",
              "    <tr>\n",
              "      <th>3</th>\n",
              "      <td>asking his supporters prefix chowkidar their n...</td>\n",
              "      <td>1.0</td>\n",
              "    </tr>\n",
              "    <tr>\n",
              "      <th>4</th>\n",
              "      <td>answer who among these the most powerful world...</td>\n",
              "      <td>1.0</td>\n",
              "    </tr>\n",
              "  </tbody>\n",
              "</table>\n",
              "</div>\n",
              "      <button class=\"colab-df-convert\" onclick=\"convertToInteractive('df-789cf63e-c4a7-477f-9cac-3255a43a073d')\"\n",
              "              title=\"Convert this dataframe to an interactive table.\"\n",
              "              style=\"display:none;\">\n",
              "        \n",
              "  <svg xmlns=\"http://www.w3.org/2000/svg\" height=\"24px\"viewBox=\"0 0 24 24\"\n",
              "       width=\"24px\">\n",
              "    <path d=\"M0 0h24v24H0V0z\" fill=\"none\"/>\n",
              "    <path d=\"M18.56 5.44l.94 2.06.94-2.06 2.06-.94-2.06-.94-.94-2.06-.94 2.06-2.06.94zm-11 1L8.5 8.5l.94-2.06 2.06-.94-2.06-.94L8.5 2.5l-.94 2.06-2.06.94zm10 10l.94 2.06.94-2.06 2.06-.94-2.06-.94-.94-2.06-.94 2.06-2.06.94z\"/><path d=\"M17.41 7.96l-1.37-1.37c-.4-.4-.92-.59-1.43-.59-.52 0-1.04.2-1.43.59L10.3 9.45l-7.72 7.72c-.78.78-.78 2.05 0 2.83L4 21.41c.39.39.9.59 1.41.59.51 0 1.02-.2 1.41-.59l7.78-7.78 2.81-2.81c.8-.78.8-2.07 0-2.86zM5.41 20L4 18.59l7.72-7.72 1.47 1.35L5.41 20z\"/>\n",
              "  </svg>\n",
              "      </button>\n",
              "      \n",
              "  <style>\n",
              "    .colab-df-container {\n",
              "      display:flex;\n",
              "      flex-wrap:wrap;\n",
              "      gap: 12px;\n",
              "    }\n",
              "\n",
              "    .colab-df-convert {\n",
              "      background-color: #E8F0FE;\n",
              "      border: none;\n",
              "      border-radius: 50%;\n",
              "      cursor: pointer;\n",
              "      display: none;\n",
              "      fill: #1967D2;\n",
              "      height: 32px;\n",
              "      padding: 0 0 0 0;\n",
              "      width: 32px;\n",
              "    }\n",
              "\n",
              "    .colab-df-convert:hover {\n",
              "      background-color: #E2EBFA;\n",
              "      box-shadow: 0px 1px 2px rgba(60, 64, 67, 0.3), 0px 1px 3px 1px rgba(60, 64, 67, 0.15);\n",
              "      fill: #174EA6;\n",
              "    }\n",
              "\n",
              "    [theme=dark] .colab-df-convert {\n",
              "      background-color: #3B4455;\n",
              "      fill: #D2E3FC;\n",
              "    }\n",
              "\n",
              "    [theme=dark] .colab-df-convert:hover {\n",
              "      background-color: #434B5C;\n",
              "      box-shadow: 0px 1px 3px 1px rgba(0, 0, 0, 0.15);\n",
              "      filter: drop-shadow(0px 1px 2px rgba(0, 0, 0, 0.3));\n",
              "      fill: #FFFFFF;\n",
              "    }\n",
              "  </style>\n",
              "\n",
              "      <script>\n",
              "        const buttonEl =\n",
              "          document.querySelector('#df-789cf63e-c4a7-477f-9cac-3255a43a073d button.colab-df-convert');\n",
              "        buttonEl.style.display =\n",
              "          google.colab.kernel.accessAllowed ? 'block' : 'none';\n",
              "\n",
              "        async function convertToInteractive(key) {\n",
              "          const element = document.querySelector('#df-789cf63e-c4a7-477f-9cac-3255a43a073d');\n",
              "          const dataTable =\n",
              "            await google.colab.kernel.invokeFunction('convertToInteractive',\n",
              "                                                     [key], {});\n",
              "          if (!dataTable) return;\n",
              "\n",
              "          const docLinkHtml = 'Like what you see? Visit the ' +\n",
              "            '<a target=\"_blank\" href=https://colab.research.google.com/notebooks/data_table.ipynb>data table notebook</a>'\n",
              "            + ' to learn more about interactive tables.';\n",
              "          element.innerHTML = '';\n",
              "          dataTable['output_type'] = 'display_data';\n",
              "          await google.colab.output.renderOutput(dataTable, element);\n",
              "          const docLink = document.createElement('div');\n",
              "          docLink.innerHTML = docLinkHtml;\n",
              "          element.appendChild(docLink);\n",
              "        }\n",
              "      </script>\n",
              "    </div>\n",
              "  </div>\n",
              "  "
            ]
          },
          "metadata": {},
          "execution_count": 9
        }
      ]
    },
    {
      "cell_type": "code",
      "source": [
        "for i, row in df.iterrows():\n",
        "  print(row['clean_text'])"
      ],
      "metadata": {
        "id": "HX0NFDzsqgD4",
        "colab": {
          "base_uri": "https://localhost:8080/"
        },
        "outputId": "3727d864-1443-4dfe-cdc9-43c7c00c069e"
      },
      "execution_count": 10,
      "outputs": [
        {
          "output_type": "stream",
          "name": "stdout",
          "text": [
            "when modi promised “minimum government maximum governance” expected him begin the difficult job reforming the state why does take years get justice state should and not business and should exit psus and temples\n",
            "talk all the nonsense and continue all the drama will vote for modi \n",
            "what did just say vote for modi  welcome bjp told you rahul the main campaigner for modi think modi should just relax\n",
            "asking his supporters prefix chowkidar their names modi did great service now there confusion what read what not now crustal clear what will crass filthy nonsensical see how most abuses are coming from chowkidars\n",
            "answer who among these the most powerful world leader today trump putin modi may \n",
            "kiya tho refresh maarkefir comment karo \n",
            "surat women perform yagna seeks divine grace for narendra modi become again\n",
            "\n",
            "this comes from cabinet which has scholars like modi smriti and hema time introspect\n",
            "with upcoming election india saga going important pair look current modi leads govt elected with deal brexit combination this weekly looks juicy bears imho \n",
            "gandhi was gay does modi  \n",
            "things like demonetisation gst goods and services tax…the upper castes would sort either view favourably say that need give this more time other castes like dalits the muslims were more against because that’ just not modi’ constituency2\n",
            "hope tuthukudi people would prefer honest well behaved nationalist courageous likly minister modi cabinet vote benifit thuthukudi \n",
            "calm waters wheres the modi wave \n",
            "one vote can make all the difference anil kapoor answers modis election 2019 clarion call extends support his vote kar campaign \n",
            "one vote can make all the difference anil kapoor answers modis election 2019 clarion call extends support his campaign \n",
            "vote such party and leadershipwho can take fast and firm action none other than narendra damodardas modi and bjp party \n",
            "vote modi who has not created jobs\n",
            "through our vote ensure govt need and deserve anupam kher responds modis appeal for the 2019 elections \n",
            "dont play with the words was talking about the modi swamy relation guru saying what good and chowkidar protecting the good mind you tweeted dark side terrorism there any brighter side you better know there any\n",
            "\n",
            "didn’ write chowkidar does mean ’ anti modi try visit the plz not all who haven’ used are anti \n",
            "was the one who recently said that people who vote against modi are anti national that put gen hooda all congress supporters and those jawans who not support modi anti national what great things did you hear about him\n",
            "with firm belief the leadership shri narendra modi bjp entering into politics given form file nomination for the khammam parliamentary seat proceeding khammam today \n",
            "crush jaws those who shoutmodimodi says jds mla this inciting murder\n",
            "sultanpur uttar pradesh loksabha candidate select pawan kumar pandey actually public want given vote modi but your current condidate not popular district your candidate bsp candidate sonbhadra singh\n",
            "thiugh nehru not alive but still alive heart modi for every failure nehru responsible \n",
            "\n",
            "development has become mass movement under modi govt with economic social and political empowerment life one and all has witnessed positive paradigm shift this new india\n",
            "has already taken notice and ordered probe now time for modi take notice muslim family being harassed beaten recently extremist hindus and was suggested leave india move pakistan\n",
            "was waiting for this modi will also talk about varanasi\n",
            "according yogi imran masood kin azhar masood according this logic nirav modi lalit modi and narendra modi are brothers from the same mother\n",
            "agree but only during the tenure modiganga rejuvenation works have started working\n",
            "the three codes modi cracked give india huge foreign policy jumpstart via \n",
            "through our vote ensure govt need and deserve anupam kher responds modis vote kar appeal for the 2019 elections \n",
            "modi govts slashing indias education budget clear indicator that they dont care for indias future\n",
            "congress president shri the other hand has ensured the increase the budget gdp\n",
            "this the future india deserves \n",
            "being born religion where female deities worshipped its misogynistic sadistic tradition and totally against point isits man made tradition and not written one not religious lunatic support own religion its repressive\n",
            "how such people are being made amazedn fear that frustation him may not result vote against sir waste ministerdisgrace entire modi cabinet \n",
            "only modi \n",
            "check out latest article premier archery league via \n",
            "india second most optimistic globally about executive job growth shows the survey indias senior executives said that they are optimistic about the growth the number job roles this year \n",
            "people wish your vision india and least interested about your personal enmity with modi others its your personal problem handle this personally and dont expect nation will join your dirty fight with others tell why vote \n",
            "modi for eternal what wrong dear sirji perfectly fine with indian people\n",
            "impressive godrej tata complimenting our hoping gets second term \n",
            "our maid saying this rahul keeps saying modi kalla yet goes and hugs him and winks magand idu bekagittu\n",
            "please vote for modi congress trying divide india\n",
            "yes good job highly insensitivearrogant incompetent ploar needs defeated any costnobody knows why made such arrogant person minister gave tickethe out touch with grounddespite 3months upsc protests nvr met \n",
            "before 2014 hindustan has seen the worst for hindus own maj hindu rashtra who thrashed the rascal faces these anti indian politiciansantinationals urban naxals wait watch after modis win pakistan mein bhi hindu hona garv baat hogi✌\n",
            "higher voting turnout directly proportional bjp victory wonder modi has launched campaigns like dont sit home ensure everyone your friends family relatives votes its now never for \n",
            "modi govt has done remarkable job making corruption free india ultimate success shall achieved when corrupt are jailed modi govts vision corruptionfree india ensuring that all those who looted the country are now facing the law\n",
            "via namo app\n",
            "use this beg for campaign \n",
            "with welfare delivery gst ibc and feo place modi can exit psus 2nd term and use that money appoint more judges police forensic labs and fasttrack delivery justice education and healthcare citizens and invest defence india well\n",
            "this the new india modi trying build with these leaders his party why have live with these deplorable characters \n",
            "overpromise and underdelivery – that pithy summary the economic outcome the last five years under approach the general election ौीाोै\n",
            "\n",
            "not just healing touch india need surgery remove the cancer spread modi and rss\n",
            "farmers’ welfare about 474 farmers get second installment from next month the centre announced the 75000crore scheme \n",
            "mistry man not then why drag modi the nri followers this the man wrong action should taken against him for spreading hatred please don’ have agenda condemning criminal activities sir fyi please\n",
            "think you forgot dollar india handled exceptionally well and one the diplomatic shrewdness and achievement why you always undermine modi government you are always prone criticise even without considering other aspects\n",
            "entrepreneurs are rising india after modi govt created system for them took care their tax concerns and created infra for them incubate well never happened congress you guys just want power sit and shit its simple for you\n",
            "nothing else its modi phobia\n",
            "itna fark  \n",
            "once again modi government modi govts efforts last years governance reforms have been institutionalise honesty way that every system and institution designed inculcate well inspire honesty\n",
            "all are with you sir namo again jai hind jai modi\n",
            "muje puri bharat janta par vishwas hai sir aap hamre prime minister honge for our future our country future you must our prime minister again and again bjp\n",
            "anchor doing canvas against modi not fit for journalism\n",
            "slams makers biopic for deliberately using name the credit \n",
            "will these channels say modi also scared contests from two seats even propoganda needs little decency\n",
            "\n",
            "this new india this indias century because has the yuva shakti take great heights modi govt stands firmly with them\n",
            "via namo app\n",
            "100 sure sir will inform all family and friends give record numbers vote modi sir and bjp thanks\n",
            "you will loose your existance election rafel corruption free and scam free all nation know the nature except narendra modi and bjp all party scammer aap nautanki baj\n",
            "‘concierge’ for super rich makes unusual sight nirav modis hearing via \n",
            "’ confused who said that intellectuals should decide modi’ policies the question was which intellectuals sided with modi and similarly there’ those who’ disagree with his policies too where’ the question deciding anything\n",
            "asked learn from how treat minority well does want what did minor \n",
            "for new india can vote for shri narendra modi \n",
            "\n",
            "modi govts years are over just cheating people promises has impacted lot things from the economy the country brotherhood the nation \n",
            "what your logic sir\n",
            "could you please throw some light the logic behind your tweet that bjpnda will lose modi fights from bengaluru south\n",
            "not modi then who from opposition opposition leaders intent clear but dont understand why they are failing their attempt why not vote for modi they are not telling people what they will when come into power\n",
            "modi great his opponents generally are selfish idiots who keep attacking his governance skill modi doing great for 3040 yrs you tell what will you give oppo know after years modi rule that can wonders this stupid world created dishonest\n",
            "can pit more pictures and videos hindu extremist crime just years but use coz ppl are taken over storm modi and rss terror\n",
            "vote kar narendra modi appeals everyone during tweetstorm \n",
            "modi mother elected more khans would killed \n",
            "last time you paid loan some entrepreneurs named vijay maalya and nirav modi whose number this time please check next list\n",
            "rahul doesnt make false promises like modi has always delivered whatever has been promised you may check his track record you can count him \n",
            "kitna jalte tum modi your tweet shows your jealousy towards our great prime minister modi \n",
            "centre state govts working together make india tbfree 2025 \n",
            "where ever rgis going through out the length breadth the country such the reception for him masses india just love him modi all other leaders bjp are just match\n",
            "mad sandip singh have some sense javed akhtar could have called narendra modi producer sandip ssingh credit row entertainment news the indian express \n",
            "thanks modi porn sites are banned\n",
            "did modi eat beef biryani and sleep asaduddin owaisi \n",
            "voted for modi last time but never again economy screwed hate ideology being propagated need not rahul but any one other than modi the next few weeks will tell there way bjp will get majority the propagandas only social media\n",
            "congress fed biryani terrorists modi government fed them bullets and bombs yogi adityanath \n",
            "open your eyes not see any critic modi cong exculding these mongers there vast indai like called bharat modis concern security praise worthy but his autocratic norm denying each and every allegation like kimjong its painful sorrowful too regards\n",
            "requesting all stop using services they are giving favor big people like vijay malya nivav modi and taking money from all like nonscene charges\n",
            "this face doesn’ haunt you condemn the abduction girls but they’ alive and wel also recorded message still our personally ordered action unlike modi who treats muslims just vote bank\n",
            "sharam karodesh ghotale bech khaega tumhara just because modi youth have taken interest political issues youth are better judge the right and wrong \n",
            "dont forget petrol prices have risen ₹ modi government when gulf prices were going down ाेशबचा \n",
            "thought petta was the most antibjp movie recent times  \n",
            "election live blog met sapna choudhary yesterday want her campaigning for manoj tiwari\n",
            "\n",
            "superbly summarizedjai hind vande mataramagain modi sarkar \n",
            "country prospers when the women the country are leading the forefront are supported every endeavour their lives modi govt focussed policies where women have been enabled with the power empower themselves and the nation\n",
            "via namo app\n",
            "sabbash mera vote for peppermit abvp\n",
            "yogi adityanath hold 100 rallies seek votes for narendra modi amit shah \n",
            "from the very beginningmodi doing wada faramoshi you dont believe take example used say giving lakhs every indian and after years governance failed fulfill his promise \n",
            "modi politics hate modiji loves india modiji want make new india corruption free terror free india hate not nature modiji yes modiji hates only enemies our country terrorists destroying terrorists camp hatedont defame our humane kind pure honest\n",
            "why limited here are other prefixes for twitter that perhaps more accurately capture the state the citizens \n",
            "yogi adityanath takes dig congress saharanpur candidate imran masood ‘saharanpur also has the soninlaw azhar masood people have decide they want person who speaks the language masood azhar modi’ protégé who treading the path development \n",
            "every bank company head chowkidhar protect the institution fear modi chowkidar tsunami making all the opposition frenzy had the bank chowkidar performed duty well then mallaya nirav modi wouldnt have lootedsonia looted bcoz mms was weak chowkidar\n",
            "people india are fed the incompetency modi govt their blatant misuse power rampant corruption misgovernance and overt lies have damaged the country\n",
            "modi government against corruption mob worried protect their loot will send behind bars comes the dreams looters including kejriwal \n",
            "according nomination papers irani who destroyed career and life remember modi made her education minister via feeds \n",
            "modi left his year old wife and returned her rss walay sab gay hain \n",
            "shi kha yadav who can forget modi contest from seats 2014\n",
            "mere bhai mai bhi 2010 graduate hucongress kon rojgaar faila rakha thabhai chor hai only bjp only modi for strong nation\n",
            "modi came power because five yrs ago the youth india were takenin his promise create jobsyr fast forward five yrs the present modi has his name lost jobs 45yrhigh unemployment \n",
            "not think like that the dream once again the modi government will come\n",
            "whoa has any other actor made such strong supportive statement for modi \n",
            "dont judge modi and his band fake chowkidhars who are bloodthirsty and hate mongers they have talibanized the indian mindsets \n",
            "brahminnon brahmin may baad karna chahiyeour focuss should getting modi elected again\n",
            "other wise antihindu guys will keep persecuting hindus even india\n",
            "anyway even know the caste varda bhai but now donnot focus caste\n",
            "vote kar narendra modi appeals everyone during tweetstorm via \n",
            "vote kar appeals everyone during tweetstorm via namo app \n",
            "agree with you was unrequired was kinda uncomfortable for her too she must thinking this was unexpected idk what say has shown enough solidarity now they should get back their normal lives  wish someone makes such offer narendra modi lol\n",
            "funny after dowing two planes endian air chief was replaced and after detection every endian sub near pakistani waters admiral replaced \n",
            "modi should look mirror and look for replacement becoming our agent like adnan sami destroying endia from within \n",
            "modi move forward are with you\n",
            "why this election looking like modi versus nothing swarajya \n",
            "you are with modi you are with india you are against modi you are anti india yes agree idea who this gentleman but speaks with conviction and clarity \n",
            "ppl pakistan should never trust anyone who’ hand covered with blood muslims modi that person\n",
            "only this the solution fight with modi wave \n",
            "the first term prime minister won promise but the second term will have won performance not even narendra modi exception this\n",
            "hey have already pledged support for modi you also believe him use this link pledge your vote \n",
            "the name throwing out modi rule the task independent communist assertion abandoned will lead liquidation the movement\n",
            "used bjp money visit japan singapore usa for yrs and left bjp when modi asked how tdp spend bjp moneyexp details yrs political experience use increased pension dwacra yuvanestam schemes just before elections win votes\n",
            "only modi this time\n",
            "next song sung \n",
            "hurrah welcome for chinook multi role helicopter really proud modi for right steps make strong nation urge people walk matching disciplined steps like fauji with modi for development and flying indian tiranga all our planets\n",
            "kunal kamra pretentious chutiya modi did more work the last five years than the braincells you have lost since your birth while smoking weed\n",
            "only narendra modiji vote kar narendra modi appeals everyone during tweetstorm via \n",
            "cow please fight elections for graffiti mocking modi appears bjp fails find candidates bengal \n",
            "shabana azmi takes makers modi biopic says javed akhtar’ name put ‘deliberately mislead public’ \n",
            "proud our priminister modi\n",
            "what about halala whr whole family fucks poor woman den physically and mentally handicap kids are born out due genetic depression dont worry abt progress through time think abt religion still 7th century mindset\n",
            "achhe din vikas black money jobs the only thing found post2014 new india ➡ modi lies \n",
            "when will see your tweet for justice for you are blind fear modi rss bjp\n",
            "will see more such attacks hindus modi supporters \n",
            "are rajput and will not vote for modi the cheapest india\n",
            "modi once again  \n",
            "also home nirav modi vijay malaya etc etc \n",
            "this the only chance history independent india propel into economy due mainly reforms time the dynasty ruled were just now yrs lets reach for the stars \n",
            "rahul wise enough deny the absolute majority modi nda make aap cong deal and that’ the best for both the country kejriwal allow modi swee delhi with then finished for next delhi assembly too\n",
            "vote for modi only \n",
            "thats modi magic ghochu\n",
            "modi lotus bjp symble become soil every comman men voters reach every hoouses booths voters victims armed forces fmly for poll19 \n",
            "weak state capacity exacerbated excessive accountability because the nation always election mode fair modi did champion simultaneous elections but couldn’ get the opposition’ support comments needed what gurcharan das says here\n",
            "nan\n",
            "why not ask them vote for modern india modi why let even single vote waste make nda stronger centre nota\n",
            "modi will endup mad manlike hitler mussolini pinochet nero stalin\n",
            "obc pass general log pass rrb rpf constable cut off 2019 anusaryr modi hatao\n",
            "modi teli obc because his upbringing and mindset can chowkidar had there been his kids they too would have become chowkidar gatekeeper\n",
            "vote kar narendra modi appeals everyone during tweetstorm via namo app \n",
            "politickle29 aisaa hai stages ोै ा aspiration kuch you bhi karna hai\n",
            "inspiration exampull from modi\n",
            "respiration  becomes lifebreath like modis jeevanshailee way life hindooizhm\n",
            "dear modi please through uploa ded link posted doordarshan india youtube about holi celebration from santiniketan\n",
            "\n",
            "voting for non bjp parties would take country into forever underdeveloped these corrupt would forever spoil future next gen vote for modi alone \n",
            "sapna chaudhary dancer but sonia gandhi was not bar dancer she was working bar maid per research done her which means she was waitress she was more like modi modi chaiwala she was daruwali\n",
            "malnutrition india and constituencies among worst affected mallikarjun kharge’ gulbarga fared worst malnutrition indicators among highprofile constituencies thiruvananthapuram best \n",
            "seems delirious can understand summer hai oopar election bhi modi will act against lynchers  saal kahan the bhaisaab \n",
            "your called comparison modi with imran clearly displays the quality raajdarbaree ness you\n",
            "india needs leader like rahul gandhi not liar like narendra modi \n",
            "where your hunainty when mulsim are being killed india kashmir now your humanity awaken our gov have taken action already dont worry its not modi sarkar\n",
            "ahead global target centre and the state governments are working together make india tbfree 2025 asserts modi \n",
            "even after having share seats delhi assembly fears and look for option tie modi fear clearly seen \n",
            "wah super but simple convey general public about achievements thanks modi saab\n",
            "now its turn just care about your country your minorities pakistan not modis india \n",
            "documents reveal modi and javadekars war indias environment\n",
            "controversial amendments environmental laws and procedures were sought \n",
            "everyone known even you not known how speak politicals line innocents life hunting objections the world topmost popular may known you modi like kids help fillful normals heart \n",
            "door door campaign karyakartas bardowali mondal ward favour our canditate @ pratima bhoumik bar phir modi sarkar bjp zindabad \n",
            "all chor thug scamsters corrupts trying stop modi resume their business corruption\n",
            "but what chowkidar chor\n",
            "and everyone say modi hai mumkinhai\n",
            "\n",
            "not alone evks once asked what amma and modi were doing hotel for mins didnt even have respect for their age this due the arrogance that comes from knowing the media under their control and they will never scrutinised like others\n",
            "tshirt problem the writing modi there thing called election campaign which every party does their own way \n",
            "bjp receipt for disaster there one combined opposition candidate against the chowkidaar tadipar party they will back their task selling tea gali good throw bjp out noway they can win opposition parties aap congress maya akhilesh mamta bjd combine out modi\n",
            "congress time what modi has says now also same thing destroyed indian institution same congress point both are using \n",
            "floor leader akbaruddin owaisi ive seen twitter chowkidar narendra modihe should also mention chowkidar his aadhaar card passportwant not chaiwalapakodewalaif modi \n",
            "“cow please fight elections for ” graffiti mocking modi appears bjp fails find candidates bengal \n",
            "all nationalists support modi\n",
            "vote for educated decent leaders dont for corrupt criminals yaar you always speak against \n",
            "why are you hell bent manoj tiwari just her photos came with priyanka dont you have enough candidates celebrities for campaigning reel life celebrity mentality strange modi jis developmental work his team efforts are more than enough bjp might not need sapna\n",
            "are baap baap every one tell gandhi family rich modi family rich\n",
            "sorry doc people didnt buy his dream but the convenient avenue offered lynchers castiest and religious bigots dont think indians dream for their imagination they are already above someone caste hierarchy and thats all they want \n",
            "yawnn tell this drunkard then that modi also guarding her mother brother herself and her husband\n",
            "like your way thinking but really just simple that women have rights because there are female deities\n",
            "‘this election fight for the soul india’ \n",
            "with modi all his drawbacks atleast know what are for but with rahul mahaghatbandhan are surely for maha mess\n",
            "analysis indian air chief accepted defeat still weak not capable responding defending modi jis corruption rafale makng strong case for purchasng rafale free tea for pilots india need have tea pakistan cost mig21\n",
            "have all these qualities modi and more strong leadership\n",
            "study reveals modi engaged sachin tendulkar and amitabh bachchan twitter increase visiblity \n",
            "our narendra modi ordered indian air force take action within days pulbama attack after permission what were done indian air force see here \n",
            "man bharun aal also without modi \n",
            "song \n",
            "chowkidhar only for rich men did you see any chowkidhar gaurding poor house but you can find chowkidhar nirav modi house lalit modi house mallaya house\n",
            "for rafale landmodi needed contract will scrapped and awa see euro\n",
            "trying prove your loyalty modi seems indian muslims have been trying that well don’ seem make any difference though still getting beaten their own homes and asked pakistan keep trying though may get lucky \n",
            "modi urges noted personalities spread voter awareness \n",
            "only rahul gandhis politics love can defeat the modi politics hate its time vote for love over hate \n",
            "youth will vote for modi all friends are youths\n",
            "all will vote for modi\n",
            "travesty modi’ crook facts can’ suppressedreality comes out speak for itself \n",
            "final days modi government adani project jharkhand becomes indias first power sector sez via \n",
            "reason for demonetization primarily detection black money stoppage terrorism after failure changed reason digital india even that failed too now curious see what modijaitley cooks after failure merger decision \n",
            "modi for behtar life crooks \n",
            "can promise what can delivered epf pension universal health care nationalisation primary education drinking water comprehensive panindia solid waste management policy please dont tell what modi didnt tell what you can \n",
            "prior modi govt took over poor people didnt access toilet crores women used cook lighting wood crore poor were left out banking sector18000 villages didnt electricity modi govt changed all this crores poor including muslims have benefitted\n",
            "years ago our beloved took oath take all the corrupted ministers and make india great guess what just did now all the anti indians are jealous and scared because going reelected soon modi will always win the best\n",
            "isn’ modi’ majoritarian hate based politics and his obsession with hindu nationalism that divides our plural nation enough reason determine your vote \n",
            "under modi there such thing cabinet system governance just barks orders and thats \n",
            "sir think more than name yogi seems reminded his utterences like doing boti boti modi\n",
            "this type language definitely terrorist \n",
            "modi govt’ efforts bear fruits malnutrition india down years \n",
            "sir wat did till now act strongly toi read just told the officials this thing should not happen agn this acting strong according warning action gvin our lessons modi ensures ryt action ryt time\n",
            "takes look whether the leaders bjp and congress will venture south how crony capitalism still thrives and meet candidate who promising households ten litres brandy every month via \n",
            "dear thanks for the appreciation\n",
            "definitely win the 2019 election serve the nation congress free \n",
            "why picked chairman the devious aadhaar isnt his babyhe was just the face given upa2 during its term for aadhaar poised for return now chairing committee formed during modi govt with report due shortly after the next govt \n",
            "ा िु ी ीं ै look our faces don’ you see the courage and grit face our father modi \n",
            "sir you should also ask whether these were really made refer abp viral sach whether modi promise crore jobs per year \n",
            "vote for modi \n",
            "yes want again modi sarkar\n",
            "such ppl the reasonour and his family face filthy words from opposition sensitive time elections they must shut their mouth work more public grievances but inko fark kye padta hai gaali dain bhukte modi\n",
            "centre state govts working together make india tbfree 2025 narendra modi\n",
            "\n",
            "final days modi government adani project jharkhand becomes indias first power sector sez this will help adani save billion annually excellent story \n",
            "one the comment from hardcore modi bhakt when shared postcard editor was arrested for sharing fake news now know why postcard editor was arrested becuz was speaking the truth was proindia liers how long will your lie sustain truth out the open\n",
            "report card how modi has fared leader govt and political leader ⚡jai bhagwan goyal \n",
            "has come new meanings nationalism hindu and supporter modi and antinational who doesnt praise the govt initiatives\n",
            "luv this its awesomemodi chai rocks\n",
            "maybe could because hes educated and could more responsible for the people india and will understand the youngsters more which the modi doesnt seems\n",
            "master stroke well done prime minister narendra modi worlds biggest electric car manufacturer confirms well enter india 2019 stated and reconfirmed elon musk ceo founder tesla motors the following oneofthebiggest …\n",
            "east west modi best\n",
            "and will made write about how muslim women are empowered wearing hijab burqa nikah halala child marriage and how gods job please the husband modi hatred making them lose the larger perspective\n",
            "every thing looks good tweet for modi except the hashtag\n",
            "when someone asks random question economy schemesyojanas adaniambani modi dhruv tatti \n",
            "share the optimism ratan tata agree modi the leader need for taking india forward this critical juncture take pride being indian first resonates with most citizens jai hind\n",
            "let tell you north karnataka out constituencies will dominated bjpgulbarga central karnataka davangere shivamogga chitradurga and ballary will clean sweep for bjp considering modi wave and dominance lingayat community\n",
            "ghanta better bring some good leaders are fed with bjp but when see rahul gandhi then think modi much better choice\n",
            "demon calls narendra modi demon the definitely more than just human being demi god\n",
            "modi govts slashing indias education budget clear indicator that they dont care for indias future\n",
            "congress president shri the other hand has ensured the increase the budget gdp\n",
            "this the future india deserves\n",
            "think hindus should back off and let them suffer for their own miseries they live dieget rapedshould not our problem unless someone asks for help when they are quite with such repressive actsy should hindus bother about them let them rot say\n",
            "professors and researchers from jnu bhu launch academics for namo campaign support modi\n",
            "\n",
            "why just ten there 100 reasons vote for modi and bjp party where every leader equally contributed and commited build new india better india and modi’ team invincbleit’ countrys fortune have leader like modiit’ country wil win modi wins\n",
            "narendra modi more brainy than all the drswamys the world put together modi also dharmic and has humane heart something one wishes swamy shall have someday the line that divides chanakya and shakuni dharma modi chanakya and chowkidar but drswamy\n",
            "let state govt handle law and order why drag modi resolve street fights \n",
            "per affidavits 2004 chowkidar smriti was graduate then 2017 she become just 12th grade pass may given back avoid over qualification what chowkidar modis education now degree entire political science still with him given back \n",
            "indias rank the world happiness index out 159 countries the modi years\n",
            "2013 rank 111\n",
            "2014 rank 118\n",
            "2017 rank 122\n",
            "2018 rank 133\n",
            "2019 rank 140 \n",
            "are already calling all modis thief scamster\n",
            "yes nincompoop just nazi bjp politicising balakot raids test have stopped terror raids our citizens maam how educated person like nirmala live with gross brazen corruption lynchings your party cadre lies from modi shah every day \n",
            "rozi roti sawaal hai modiji his blood his dna shud read modichalisa now  meanwhile rajdeep shud also take the cases strongly which bjp rss men killed and love jihad that happens down south  show some class journalism rajjo\n",
            "the big five the media companies that the modi government must scrutinise fulfill its promise ending crony capitalism \n",
            "knew earlier itself  they had taken this photo from modis rally \n",
            "secondly refer thee boom fact check website know whether modi promise putting lakh everyone’ account \n",
            "dear son manak much good role media making modi hero for his honesty honest person not chormahachor\n",
            "ofcourse mein bhi choukidaar apne desh have proud first choukidaar narendra modi\n",
            "letter friend who happens modi supporter via \n",
            "also tharoor can add additional challenge clause self satisfaction rat against lion\n",
            "that modi must win more votes than tharoor the ward where tharoor residing 2014 was kejri with similar challenge and kejri lost varanasi modi for lakhs votes\n",
            "after jordan india the worlds most intolerant country you ever feel any shame shushma and modi  \n",
            "still looking you produce some autocratic monger norm that really hampered india how turned kimjong hitler wake dear this india what most powerful politician nehru most daring indira and most seat winner rajiv dare not most hated modi will \n",
            "also chowkidar our torchbearer chowkidar modi \n",
            "can’ distinguish between bagga and modi these days both are selling shirts\n",
            "seems have more confidence modi than usual bhakts \n",
            "will good for nation modi becomes forever\n",
            "there are two possibilities here\n",
            "1as you said managing\n",
            "2no substantial evidences against got bail\n",
            "even the first case got bail when are togetherso can manage its very clear choice urs \n",
            "the country needs this fascist modi cant allowed continue loot indians need govt under that will work for common man\n",
            "india prime ministerconfirm modi exchanged greetings with imran congress abp news \n",
            "surgical strike credit goes modi\n",
            "nirbhaya case handling credit goes delhi police and the blame for the rape goes sheila dixit upa gets credit either for faster police action nor does get any credit for having silently worked heal the wounds\n",
            "\n",
            "congress has always attempted empower people giving right information work food education modi ruthlessly snatched away these rights \n",
            "good read \n",
            "friends dont waste time tts can convince more neutral voters vote for bjpmodi the same time instead\n",
            "hating modi should declared kind disease disabilityif the way has contributed recently the nation and still doingdoes not incite even bit love respect your heart for himthere something terribly wrong with you biological level\n",
            "\n",
            "news breaks\n",
            "film maker modi biopic accused sexually exploited minority metabhi modiji life inspired hua hai jab 36gun milate hain\n",
            "tabhi koi biopic likhane film banane sochta hai modiji did earlier his chelafilm maker now following same path\n",
            "ratan tata lavishes praise modi says will deliver new india \n",
            "shabana azmi takes makers modi biopic says javed akhtar’ name put ‘deliberately mislead public’ bollywood \n",
            "modi for \n",
            "dont want pappu run our nation want leader like modi ✌️\n",
            "wish modi too wins with land sliding victory india\n",
            "renee  absolutely right about ndtv everything truth which have written about also like zee news coz whatever shows shows fact wont false say ndtv antimodi chennai  jai hind jai bharat \n",
            "shameful national conference leader calls narendra modi quotterroristquot all those who have links with hafeez sayeed and pakistan will call terrorist\n",
            "youtube video you might like modi and bangladeshi jointly unveil several projects bangladesh\n",
            "across the aisle want managers not just watchmen the indian express via \n",
            "very safe for choors called chowkidars promises chor chowkidar jaitely\n",
            "now fears chori wherever you want including rafal alibaba modi with his choors are always guide protect you\n",
            "inturn all deliver modi share chant modi chalisa\n",
            "apke yar modi message our people celebrate pakistan day believe time begin comprehensive dialogue with india address resolve all issues esp the central issue kashmir forge new relationship based peace prosperity for all our people\n",
            "haha congress going gaga over this after looting from air land east west land currency they are accusing bjp looting template this the change modi brought \n",
            "bjps election rally modi west meerut march \n",
            "the insolvency and bankruptcy code the second most important economic reform the writes here’ why didn’ take the top spot \n",
            "asshole bahujan radical marxist grow brain knowunderstand that congress bjp represent the same fucking caste oppressors that your ilk wasnt dalitbahujanadivasis who have ruled this country for the past years and ask chowkidar modi \n",
            "growth story indian economy during modi regime reflects serious concerns gst collections below the estimated target investment fell year low last quarter unemployment rate year high indias rank down 140 happiness index report \n",
            "compete with modi you and like minded people built aap now kicked out from that party whats your opinion about that\n",
            "bjps chanakya work this very ruthless attitude the modishah duo ❤\n",
            "thats the truth but not the whole truth the whole truth even bjp has been working cong agenda via their mole the party and tons molebureaucrats that modi didnt fire day despite repeated warnings from swamy bjpaap are just shorter spellings congress\n",
            "incompatible with life patients struggle with modi governments policy nutrition \n",
            "bjp now furious bcs your design reap big electoral dividend out pulwama bursted off due failure modi smartness imran nvr exptd that will retaliate the day light abi captive that’ war expected happens don’ make war for elections\n",
            "agree with arun kumarsushil modi and nitish harmful for swarn\n",
            "congratulations madam hope win biggest margin and make next govt stronger\n",
            "modi for greater india our vote goes modi\n",
            "must little more vocal ram mandir art 370 etc voting bjp with heavy heart for want better alternative\n",
            "ratan tata lavishes praise narendra modi says will deliver new india \n",
            "rajasthan governor kalyan singh aligarh 23rd march all are bjp workers and want the bjp emerge victorious want that once again modi should become the important for the country \n",
            "and kindly dont compare modi jee butcher gujrat and imran khan\n",
            "cji ban elecation and paper currency when there was independence only years lease signed fake queens victoria and elizabeth and her mafia govt fake pms nehru fake chaiwal modi and amit shah scams nuclear and rafale and demonetisation looted wwi mahabharat \n",
            "modi sleeps with his mother\n",
            "icing the cake\n",
            "varanasi loksabha seat against modi aap gives congress congress gives gives bsp bsp candidate joins bjp  too much fun \n",
            "rahul gandhi life goals are simple become india\n",
            "⬇️\n",
            "grow potatoes grabbed land\n",
            "⬇️\n",
            "make gold modi jealous  \n",
            "appeals everyone during tweetstorm via namo app \n",
            "are cleaning the defecation four generation from nehru rahul how can visible fast this senseless lady speaks our forefathers has led best their life and this generation suffering because modi\n",
            "this guy truely something else \n",
            "the star campaigner myth bjp lost more than assembly constituencies where narendra modi campaigned during recent 5state polls \n",
            "under modi and bjp its hindunationalist india sweetiepie \n",
            "unprecedented agrarian crisis\n",
            "record farmers suicide last years\n",
            "destroying autonomy each and every institutions india\n",
            "destroying independence india media news channels\n",
            "some the achievement modi govt\n",
            "thatvis during upa ruling these modishah duo are not letting the delhi police their job instead duo has ordered harassing opposition and college students\n",
            "just like fake gandhi’ fake modi’ will there\n",
            "rajasthan governor kalyan singh aligarh 23rd march all are bjp workers and want the bjp emerge victorious want that once again modi should become the important for the country\n",
            "\n",
            "congress party and its desire make powerful only nehrugandhi family put brake india development modi govt has disengaged the brake now\n",
            "india  uae  relationship has been great success story government vision leadership sheikh mohammed bin zayed prime minister modi slowly but surely taking shape \n",
            "inc doing better with modishah the helm bjp not poaching experienced inc leaders fill their own lacunae  far dynasty word concerned have hard look within bjp for bail despite powerful yrs bjp could only manage much  \n",
            "still hybernatingur frnd nirav modi got arrested ths modiji india kya bahar bhi haath dalakar kar dabochenge true national eader modijia bimbo profession reality read sum news will definitey give competition dumbnes\n",
            "friday had expressed shock over his name being mentioned credits the film \n",
            "one vote can make all the difference answers modis election 2019 clarion call extends support his campaign via namo app \n",
            "one other thing the campaign will now start well get feel for the whole thing soon modi the campaign trail formidable opponent but think bjps messaging has multipronged cant just modi the messiah messaging\n",
            "narendra modi urges noted personalities spread voter awareness \n",
            "she has asked three questions from modi and her questions are valid you could kindly answer them small vides minute but important\n",
            "\n",
            "bharat where even the leave for his term just like his records \n",
            "prime minister narendra modi has urged voters across the country turn large numbers vote the upcoming lok sabha elections series tweets modi said \n",
            "anyone better than modi when nehruji expired said there was alternative but shastiji proved was the best ever everybody including modi dispensible\n",
            "dont think you bought anything why whining elections are the card let people decide whether they want buy from modi not and dont blame evms 23rd may eci has clearly said yhat elections will held using evms dont vote you dont trust evm\n",
            "will not wear heart while vote this timechances heart failure\n",
            "support with leader honble prime minister narendra modi for new india \n",
            "modi bjp indians never played any victim card the called lsl who choose fool people the name journalism liberalism play this card see digested when called intolerant you all still talking butcher called cattel class\n",
            "idiot ever heard the russian sukhoi mki the best jet iaf has its fleet currently built indigenously hal for our air force farzi deshbhakts like you wont even hesitate shit our own company defend your baap modi pathetic\n",
            "and imran masood who want chop modi liberals grace \n",
            "through our vote ensure govt need and deserve responds modis appeal for the 2019 elections via namo app \n",
            "this shows how this government wrecking the environment \n",
            "this time blind faith modi… absolute hate for congress milind deora elections news the indian express \n",
            "some times for political mileage leaders but good signal from modi jee how any body object pakistans birth day congratulation not given from india then you can scold\n",
            "and also need modi for minimum years fix many pending issues\n",
            "women are powerful nature wat hinduism states have every right choose our partners dress etc women has respected man should taught have self control ardhanaariswara avatar states how wife should treated and where she belongs\n",
            "chowkidar jibe modi \n",
            "know under modi rule everybody become crorepati just check bjp leaders income for them arrived then why they concern about rahul alone\n",
            "while busy articulating the way ahead for the nation way alleviate farmers woes unemployment improving funding for health and education modi busy selling tshirts twitter his sidekick busy selling bigotry fake nationalism looks good\n",
            "jingoism cong mediaval think tank few armchair politico that party made runing prospect electoral fiasco they made sure modi full power this time best wishes the kamdaar chowkidaar sir\n",
            "read the truth behind how modi selling off indias last remaining precious forests two days ago bhakts chor chowkidar were abusing for sharing this story its time wake and raise our voice save this goldmine biodiversity \n",
            "lol who gonna marry her hippopotamus every unmarried men become hitler and modi unmarrieddivorced women become feminists with agenda destroy everyones peaceful life get life miss marvi \n",
            "modi the countryhe worked chaiwala not chowkidarbut thanks the corrupt fraudulent activities etc had take the avatar\n",
            "while the modi busy dismantling our democracy congress president rahul gandhi has done everything his power fight for the rights every citizen uphold our democratic spirit \n",
            "congress will simplify the gabbar singh tax implemented modi government implement actual single slab gst benefit the medium and small businesses which have been destroyed gabbar singh tax \n",
            "that’ why will bring modi back\n",
            "for chair that power chandrababu can any extent that how grabbed power and telgu desam party from ntramarao his father law who what modi for him just think yar \n",
            "rajasthan governor kalyan singh aligarh 23rd march all are bjp workers and want the bjp emerge victorious want that once again modi should become the important for the country\n",
            "sourace ani\n",
            "centre state govts working together make india tbfree 2025 via namo app \n",
            "thanks for your tweet but even then you can’ beat modi @ hustings\n",
            "promise delivery modi came power with the promise ‘achche din’ but over the last five years has only overpromised and underdelivered \n",
            "will give modi whistle and cap wants chowkidar akbaruddin owaisi \n",
            "feku narendra modi shaheed bhagat singh shaheed diwas tribute via our pms knowledge history \n",
            "havent read your answer yet but sure its trump modi even leader can darpok who cant even sign the setu file gathering dust his desk for last years even leader now will read your answer  \n",
            "india needs enemy they will reelect modi pakistan one cannot even imagine man who was accused killing people end being \n",
            "modi the countryhe worked chaiwala not chowkidarbut thanks the corrupt fraudulent activities etc had take the avatar \n",
            "logic word will defy them foreverusa was economically militarily scientifically superior most the nations 2016 but when fool said make america great again percent fools agreed that without counter questionthese modi clans are similar\n",
            "want modi sir prime minister for long time now proved that including him too many people are against modi sir his thinking proved that thinking only for himself and his benefit\n",
            "cant chowkidar brahmin subramanian swamy \n",
            "trend nothing but fooling people with hope for votes had congress atleast has vision something for this country rahul gandhi and his partymen would not have been after modi their only agenda \n",
            "his apprehension his real gut feeling stemmed from ground realities its for sure modi will india for long years come\n",
            "congress years wasnt able complete one rafale deal bjp its years has already completed the rafale deal delivery rafales will start sept 2019 has already started proceedings for another fighter jet deal but congress will say that modi has hacked evms \n",
            "dirty politics start and doo whatever can too against modi papu raffles raffles fail chokdar chor chor chor chor chor machyee soor aur abb apne ristdaar mare hai 300 proof chayee \n",
            "chowkidar hee chor hain baap chor beta bada chor aur unke gujju dost maa tukdo kharidne jurrat bhi kartein hain sab chor hain aaj bjp kal nahi high time the junta realises what bjp upto one more time modi and will only have remains ाेशबचा \n",
            "transformation indian railways under modiji governmenta step step information \n",
            "jds mla asks people slap those seeking votes for modi \n",
            "and hope hindustan will over take all other countries the field scientific technology coming days possible modi there for another 1015 yrs jai hind \n",
            "have two options this elections choose from\n",
            "… lotus\n",
            "… lootus nice lines seen banner bangalore want india modified agar majburi naam mahatma gandhi hai majbuti naam narendra modi hai modi for vision rahul for division\n",
            "why need modi lead bjp government again 2019 jammu and kashmir police says baramula now free from local terrorists years vote for new india namo again  \n",
            "those who themselves dont know how many fathers they have mother has idea who her kids are start and end their careers making puncture think the same way about others\n",
            "waise amit modi kaun hai\n",
            "naya aya hai kya maidan mein\n",
            "boycott congress for behter india want modi\n",
            "modi had promised congres free hindustan was holding government states three states voted opposition mere lies now penance they had doubted honest man will mandate modiji heavily wash off thier sin had not modi met this promise \n",
            "you think was modi behind that accident\n",
            "rajasthan governor 23rd march all are bjp workers and want the bjp emerge victorious want that once again modi should become the important for the country \n",
            "will come india after announcing his resignation today are getting new nirav modi the process\n",
            "modi haters will definitely say dubbing acha kiya \n",
            "since 201516 inc insisted with single standard rate capped \n",
            "but arrogant modi sarkar destroyed msmes for yrs with the worlds most complicated with rates 1000 modifications\n",
            "\n",
            "she piggybacked modi wave one knew who she was politically 2014 there’ way she winning 2019 especially when whole bjp nosediving bihar rahul will regain his 25lac majority ‘\n",
            "lost hopes job pak tvanchor after 23may wen modi will resume second tym fear vanishing lyk thapar into oblivion whatever anti modi jobs doing since 2002 but this croc tears wont work patriots india everybody knows who wat\n",
            "found the article \n",
            "fyi late kuldip nayar writes his book titled leaders and icons\n",
            "from jinnah modi that indira gandhi was insistent cremating shastri allahabd but lalita shstri threatened fast onto death was not buried raj ghat with jai jawan jai kisan inscription\n",
            "intentions clearly not correct javed akhtar ‘modi’ credit \n",
            "pappu kejri mamata look modi has bought over microsoft you must arrange for morcha protest \n",
            "unemployment rate years high\n",
            "male labor force shrinked since 2014\n",
            "due fear being exposed modi didnt dare publish employment report mudra scheme till date\n",
            "gawar bhakt jali also your stupid bio says counter fake news and propaganda lmao what narendra modi biopic not propaganda lol\n",
            "that also means even congress comes power you cannot say congress did great job 20192024 because lot things started and proceeded modi govt please dont forget this future\n",
            "has stolen 15k and given nirav modi\n",
            "such shame that you recover your personal loss cheating your customers fraud bank\n",
            "please not open any accounts with these thieves\n",
            "pnb the worst bank india\n",
            "shame\n",
            "sharad pawar slams modi government for failing job promise via \n",
            "rajasthan governor kalyan singh aligarh 23rd march all are bjp workers and want the bjp emerge victorious want that once again modi should become the \n",
            "lol neeha its jus like giving our head butchered those who are not even humans\n",
            "like you modi \n",
            "unambiguous analysis rafael why are and pil champ after modi government \n",
            "modi wasnt there ambedkars timebesides learn your own historyignorance blissambedkar came the constituent assemblyvia west bengal aided mondal\n",
            "thanks anu sharma will vote and make sure people know are motivated vote for modi \n",
            "more than billion muslims are not one individual just like all hindus are not genocider modi\n",
            "modi govt came power late may 2014 sanjay jhaji admitting and accepting the fact that last two years upa govt were bad that people lost jobs\n",
            "boss you have expressed your views several times over the past few months with heavy heartbut vote with the same heart jara heart halka karo\n",
            "five years ago people voted for modi they will now wear namo tshirts and vote for him again \n",
            "many brahmins have become chowkidhars \n",
            "modi got vote nda alliance partner got vote way contest when your vote crosses then you can get massive gain seats that’ how your sidjiwon 2015\n",
            "you can through the subject female dietyit shows how dominant females areso point rights when already are dominant rest the misogynistic crap cooked chauvinistic males \n",
            "our toi prestitute pork much pigs owaisi himself publish the same news \n",
            "this shows that modi lie hatred itna hai political parties pakistan mil jaenge\n",
            "person who can beat modi modi himself just need play old videos \n",
            "renowned lyricist not happy with the clarificationclick here know why  \n",
            "journalists writers and bureaucrats given lakhmonth write against modi through cambridge analytica via \n",
            "know that and thats enough already simple question was regarding her donning hijaab and playing azan parliament and media channels modi didnt came into picture anywhere this but bash modi whenever possible because thats the trend\n",
            "please vote which below made your life miserable under modi govt \n",
            "one vote can make all the difference answers modis election 2019 clarion call extends support his campaign \n",
            "lies modi exposed with facts\n",
            "congress walo baar cunao mei pata lag jayega what modi request you wait and enjoy the moment \n",
            "going that analogy all modi’ are chacha bhatija then second thought “they actually are”  \n",
            "worlds biggest electric car manufacturer confirms will enter india 2019 ceo founder tesla motors confirmed this today\n",
            "will one the biggest make india success for modi \n",
            "why cant write one single tweet without blaming modi\n",
            "did construct waterway day dreaming according these arrogant bjp ministers india had infrastructure before 2014 everything created modiare fools trust these guys \n",
            "tongue wagging owaisis’ bash modi that loafers not lawyers when dog wags ’ tail for love loyalty freedom expression has restrictions legal action taken maintain decorum without fear mercy such people party must banned\n",
            "and mrs koppalatota for namo again walk for namo again@ park mathikere bangalore last saturday many people were joining our team showed their enthusiasm for narendra modi our prime minister again \n",
            "grace congress pays cost for not having coalition congress bhai yeh modi met thopana \n",
            "stop comparing bigot mass murderer modi with someone like imran khan\n",
            "modi urges noted personalities spread voter awareness via namo app \n",
            "and that would modi seriously\n",
            "saw your speech today modi could not see rdxyes cant see because not connected satellite while mobile conected with satelite\n",
            "narendra modi’ decadeold decision now fructifies into japanese township gujarat firstpost \n",
            "does this happen islam\n",
            "yes and its always modi funny guy\n",
            "she right modi keeping watch these rich and corrupt family and their followers\n",
            "what happened after modi took off his mic during karan thapar’ famous via \n",
            "final days modi government adani project jharkhand becomes indias first power sector sez the decision will save the company billion annually clean energy cess alone \n",
            "modi urges noted personalities spread voter awareness times india via \n",
            "modi real other fake\n",
            "\n",
            "true but hve also reaffirmed voting allegience each time\n",
            "very true sir thats why they are against modi sir alliance created for scams and corruption\n",
            "one vote can make all the difference anil kapoor answers modis election 2019 clarion call extends support his vote kar campaign via namo app \n",
            "sushma swaraj recounts narendra modi govts successes last years says voters will judge based commitment firstpost \n",
            "just years modinomics has made airlines bankrupt thats modi touch\n",
            "raghuram rajan sent list high profile bank fraudsters modi early months his office and thereafter some reminders but modi failed act and why narendra modis campaign sheer hypocrisy \n",
            "ratan tata lavishes praise says will deliver \n",
            "through our vote ensure govt need and deserve anupam kher responds modis vote kar appeal for the 2019 elections via namo app \n",
            "thanks much for endorsing the best qualities modi  \n",
            "tag this fast growing youtuber cared abt this country thatacc him modi destroying democracyhe blind folded other politicians looks good bad bad good\n",
            "sarcasm\n",
            "dnt turn pakistan into india like situation where millions muslims got killed terrorist modi\n",
            "since modi came power why always feel that rahul gandhi always mute mean just cant hear him \n",
            "vapas lana hai\n",
            "desh agey badana hai\n",
            "vote for modi vote for developement\n",
            "its right each and every citizen \n",
            "governor kalyan singh aligarh 23rd march all are workers and want the bjp emerge victorious want that once again modi should become the important for the country \n",
            "after going thru all the comedy speeches shri rahul gandhii have come conclusion that his competitor not modi its rakhi sawant self obsessed cannot compare with kapil sharma far better comedian the shri rahul gandhi\n",
            "centre state govts working together make india tbfree 2025 narendra modi via namo app \n",
            "modi govt hindus are behaving wildly\n",
            "cant criticize anyone enemy country with pulling narendra modis name \n",
            "from the sanitation campaign run modi\n",
            "affected jai bhagwan goyal shahdara and the north eastern\n",
            "launched cleanliness campaign several places delhi\n",
            "poor kejriwal himself predicts modi rule till eternity getting nightmares which sees modi sitting diamond studded golden throne and crying and begging front him after awakening sees himself begging front shiela dikshit\n",
            "and even print this seriously whats this election modi entire opposition whats their agenda only defeat modi there noone saying anything about nation for \n",
            "new post added mumbai press official site producer sandip ssingh turns singer for narendra modi biopic \n",
            "can you kindly elaborate the dharma friendly actions modi like rte hunar haat letting ganga tyagis die ayodhya delay etc\n",
            "copy cat just like pakistan miadad did tried copy srikant reversed shot got out the same congress copying modi \n",
            "ayyo again you show your immaturity you are made for pappu modi not running away from varanasi \n",
            "why shud convince mat bhaai vote modi will convert mote voters same time namo than convincing opportunist what say sir\n",
            "see the language chowkidar who are tweeting bhi sab you are bjp problem support modi amit sha but dont use bad laughing the culture rss\n",
            "dont live denial under modi economy doldrums and jobless growth making the nation edgy agrarian crisis has worsened national security under question after massive intelligence failure pulwama attack embrace change with \n",
            "hahahaits like happy with modis leadershipur only worry now will remain forever you want him defeatedhow dumb reason really iit just iti has done well ppl will definitely keep him forever\n",
            "must read \n",
            "you ppl deserve bjp modi alway negative for nonsense things about opposition shouting master stroke for every idiotic idea bjp does ‍♂️\n",
            "that modi should not the utmost importance here\n",
            "ाेशबचा\n",
            "modi’ village electrification among world’ biggest successes this year says this report \n",
            "balakot why doesn’ the govt release death toll why proof bhakt antinational how dare you question the army asking proof saale chale pakistan didn’ ask for proof when imran khan said received modi’ pak day bhakt mute \n",
            "demo was black money caught modi did inspite rbi warnings bhakt atleast had the guts then why don’ you elect babu bajrangi had the guts admit stabbing the womb pregnant muslim broad daylight bhakt mute \n",
            "airstrikes bhakt modi says ‘had rafale been there the results would’ been different’ true wah modiji wah isn’ that insulting heroes like abhinandan doesn’ that mean the govt has failed this time bhakt you antinational bhaago chale pakistan \n",
            "soon new elected this rascal racist extremist murderer should behind the bars modi selected worst \n",
            "for modi for locket chatterjee lokshava \n",
            "hoshiyar zardari bilawal baghawat sazish bilawal bhutto via remember asif ali zardari shiite nonmuslim and his blood can never patriot pakistan modis attack maybe invitation zardar and nawaz sharif\n",
            "whats with bollywood and congress why are they promoting mediocrity the forefront common people deserve something better dont \n",
            " never vote for modi\n",
            "want see our country becoming superpower thn just vote for only strong govt political will can make our country superpower modi his political will power that will take our country lot forward isliye india \n",
            "congress needs alliance counter modi’ reliance\n",
            "modi govt met disinvestment target only because one public sector company bought another \n",
            "varanasi loksabha seat against modi aap gives congress congress gives gives bsp bsp candidate joins bjp  too much fun \n",
            "pledge your first vote for modi \n",
            "look any one says that modi perfect not but course better than having pappu prime minister even congress presented any othe intelligent candidate would have understand even they presented tharoor having murder case would have understan\n",
            "modi sir please help \n",
            "modi never declared chowkidar for pulwama\n",
            "theft dataexpert data fudginggdp unemployment including design templates fake degree certificates only declared chowkidar for bjp funds collected thru electoral bonds\n",
            "youre hindu nationalist how can you not punish modi this\n",
            "\n",
            "voters will choose wisely and reject modi who put vikas reverse gear with his disastrous demonetisation and badly executed gst india needs gst reform and experienced best bet \n",
            "congress rule enables chaiwalanow chowkidar they didnt allow hatredrss grow how cud modi become the way mind has shrunk there many things that congress has made today all using including the independence\n",
            "calls modi demon den must know pisach\n",
            "due automation and artificial intelligence further job will decrease for sure irrespective any govt\n",
            "modi focus start will bring more job and self employment\n",
            "adani upadhyay later middle man who introduced adani modi long back \n",
            "defeat modi else will prime minister for ever arvind kejriwal india news times india \n",
            "anti trying use facts and logic sway the masses are way off base because the electoral base swayed and hatred minorities \n",
            "these parties are experts looting exploiting modi remembers ram manohar lohia target mahamilawat via namo app \n",
            "that good the people india nationalists want modi forever elections are waste money and leads more corruption and violence opposition\n",
            "why modi’ chowkidar campaign nonstarter \n",
            "gujrat model failure and modi lied \n",
            "that your ego because you are not ready accept the failures modi\n",
            "kay bola hoga know modimodimodi will tell one story there was gang chor there act was they visit market and one them chori and pass the iteam next and the first chor only shouting chor chor chor chor papu are like that\n",
            "shatrughan sinha was far bigger public figure than you are siddiqui bigots and their support not required bjp rant rant and rant much you can wont make any difference modi cant defeated\n",
            "modi cheerleaders can help him sell tshits caps \n",
            "modi while preparing manifesto include some relief for tax payers high way toll tax current situation for tax payers like double taxation\n",
            "salman khan good actor\n",
            "great jokehe relation with acting like modis relation with usmuslims\n",
            "this hindutva terrorism enjoys the tacit support the modi government overwhelming majority antimuslim lynchings have occurred since 2014 with many attackers acquittedbrutality aginst muslim families india \n",
            "subbu with you swamy right thinks has right order get work done from chowkidar let modi his blind bhakts put pakodawala chaiwala jamadaar its their wish exercise our freedom appointed chowkidar can sack him too \n",
            "some ppl gone crazy after modi came \n",
            "why modi have not held single press conference why can’ speak and answer the questions why only false speeches public conference this not what looking forward our prime minister  \n",
            "again agenda only defeat bjp could have told them about development agenda health care there are many issues but they only have one defeat modi\n",
            "drswamys timesnow last year debate nearly million views the modis 2017 timesnow interview has million views\n"
          ]
        }
      ]
    },
    {
      "cell_type": "code",
      "source": [
        "import nltk\n",
        "import matplotlib.pyplot as plt\n",
        "import seaborn as sns\n",
        "import tqdm"
      ],
      "metadata": {
        "id": "kAt-Pdx3qn4P"
      },
      "execution_count": 11,
      "outputs": []
    },
    {
      "cell_type": "code",
      "source": [
        "sentimentStats = {\n",
        "    'pos': 0,\n",
        "    'neu': 0,\n",
        "    'neg': 0\n",
        "}\n",
        "\n",
        "for i, row in df.iterrows():\n",
        "  if row['category'] == 1.0:\n",
        "    sentimentStats['pos'] += 1\n",
        "  elif row['category'] == 0.0:\n",
        "    sentimentStats['neu'] += 1\n",
        "  else:\n",
        "    sentimentStats['neg'] += 1\n",
        "\n",
        "sentimentStats\n"
      ],
      "metadata": {
        "colab": {
          "base_uri": "https://localhost:8080/"
        },
        "id": "3lTNircnq4I4",
        "outputId": "10ef87f3-c2ef-4f2b-9dcf-6b19742a5655"
      },
      "execution_count": 12,
      "outputs": [
        {
          "output_type": "execute_result",
          "data": {
            "text/plain": [
              "{'pos': 209, 'neu': 188, 'neg': 103}"
            ]
          },
          "metadata": {},
          "execution_count": 12
        }
      ]
    },
    {
      "cell_type": "code",
      "source": [
        "df['category'].value_counts()"
      ],
      "metadata": {
        "colab": {
          "base_uri": "https://localhost:8080/"
        },
        "id": "Wjg_XYRCscvY",
        "outputId": "73581248-e8ba-4341-c84e-8e4a71efcbf2"
      },
      "execution_count": 13,
      "outputs": [
        {
          "output_type": "execute_result",
          "data": {
            "text/plain": [
              " 1.0    209\n",
              " 0.0    188\n",
              "-1.0    103\n",
              "Name: category, dtype: int64"
            ]
          },
          "metadata": {},
          "execution_count": 13
        }
      ]
    },
    {
      "cell_type": "code",
      "source": [
        "df['category'].value_counts().plot(kind='bar', title=\"Count of Positive, Negative and Neutral\")\n",
        "plt.show() # removes weird title at the top and opens the figure in the current window"
      ],
      "metadata": {
        "colab": {
          "base_uri": "https://localhost:8080/",
          "height": 291
        },
        "id": "qqOG_7CNsl_m",
        "outputId": "c3f355ac-0f39-4051-87c2-90cce4c9f97c"
      },
      "execution_count": 14,
      "outputs": [
        {
          "output_type": "display_data",
          "data": {
            "text/plain": [
              "<Figure size 432x288 with 1 Axes>"
            ],
            "image/png": "[encoded data removed]"
          },
          "metadata": {
            "needs_background": "light"
          }
        }
      ]
    },
    {
      "cell_type": "code",
      "source": [
        "df.iloc[10]['clean_text']"
      ],
      "metadata": {
        "colab": {
          "base_uri": "https://localhost:8080/",
          "height": 53
        },
        "id": "P9rr9ChTsp0V",
        "outputId": "fbc7ddad-07dd-4ae9-e596-0de0fe6aa0f8"
      },
      "execution_count": 15,
      "outputs": [
        {
          "output_type": "execute_result",
          "data": {
            "text/plain": [
              "'things like demonetisation gst goods and services tax…the upper castes would sort either view favourably say that need give this more time other castes like dalits the muslims were more against because that’ just not modi’ constituency2'"
            ],
            "application/vnd.google.colaboratory.intrinsic+json": {
              "type": "string"
            }
          },
          "metadata": {},
          "execution_count": 15
        }
      ]
    },
    {
      "cell_type": "code",
      "source": [
        "nltk.download('punkt')\n",
        "nltk.download('averaged_perceptron_tagger')\n",
        "nltk.download('maxent_ne_chunker')\n",
        "nltk.download('words')\n",
        "nltk.download('vader_lexicon')"
      ],
      "metadata": {
        "colab": {
          "base_uri": "https://localhost:8080/"
        },
        "id": "BYtzWZHvvSbc",
        "outputId": "0fb514a0-dd82-41bf-e309-499f026f2202"
      },
      "execution_count": 16,
      "outputs": [
        {
          "output_type": "stream",
          "name": "stderr",
          "text": [
            "[nltk_data] Downloading package punkt to /root/nltk_data...\n",
            "[nltk_data]   Unzipping tokenizers/punkt.zip.\n",
            "[nltk_data] Downloading package averaged_perceptron_tagger to\n",
            "[nltk_data]     /root/nltk_data...\n",
            "[nltk_data]   Unzipping taggers/averaged_perceptron_tagger.zip.\n",
            "[nltk_data] Downloading package maxent_ne_chunker to\n",
            "[nltk_data]     /root/nltk_data...\n",
            "[nltk_data]   Unzipping chunkers/maxent_ne_chunker.zip.\n",
            "[nltk_data] Downloading package words to /root/nltk_data...\n",
            "[nltk_data]   Unzipping corpora/words.zip.\n",
            "[nltk_data] Downloading package vader_lexicon to /root/nltk_data...\n"
          ]
        },
        {
          "output_type": "execute_result",
          "data": {
            "text/plain": [
              "True"
            ]
          },
          "metadata": {},
          "execution_count": 16
        }
      ]
    },
    {
      "cell_type": "code",
      "source": [
        "tokens = nltk.word_tokenize(df.iloc[1]['clean_text'])"
      ],
      "metadata": {
        "id": "gJkd55vgvBfR"
      },
      "execution_count": 17,
      "outputs": []
    },
    {
      "cell_type": "code",
      "source": [
        "taggedSentence = nltk.pos_tag(tokens)"
      ],
      "metadata": {
        "id": "J2tc9FNqvV9Z"
      },
      "execution_count": 18,
      "outputs": []
    },
    {
      "cell_type": "code",
      "source": [
        "!pip install svgling"
      ],
      "metadata": {
        "colab": {
          "base_uri": "https://localhost:8080/"
        },
        "id": "ka1U_7h_wPc1",
        "outputId": "e0204719-40c6-4cac-f8df-380b14350906"
      },
      "execution_count": 19,
      "outputs": [
        {
          "output_type": "stream",
          "name": "stdout",
          "text": [
            "Looking in indexes: https://pypi.org/simple, https://us-python.pkg.dev/colab-wheels/public/simple/\n",
            "Collecting svgling\n",
            "  Downloading svgling-0.3.1-py3-none-any.whl (21 kB)\n",
            "Collecting svgwrite\n",
            "  Downloading svgwrite-1.4.3-py3-none-any.whl (67 kB)\n",
            "\u001b[2K     \u001b[90m━━━━━━━━━━━━━━━━━━━━━━━━━━━━━━━━━━━━━━━━\u001b[0m \u001b[32m67.1/67.1 KB\u001b[0m \u001b[31m4.6 MB/s\u001b[0m eta \u001b[36m0:00:00\u001b[0m\n",
            "\u001b[?25hInstalling collected packages: svgwrite, svgling\n",
            "Successfully installed svgling-0.3.1 svgwrite-1.4.3\n"
          ]
        }
      ]
    },
    {
      "cell_type": "code",
      "source": [
        "chunked_text = nltk.chunk.ne_chunk(taggedSentence)\n",
        "chunked_text"
      ],
      "metadata": {
        "colab": {
          "base_uri": "https://localhost:8080/",
          "height": 141
        },
        "id": "8O_hGcUBveGY",
        "outputId": "bc9b6477-90fd-4af5-bb87-3de1913f7724"
      },
      "execution_count": 20,
      "outputs": [
        {
          "output_type": "execute_result",
          "data": {
            "text/plain": [
              "Tree('S', [('talk', 'NN'), ('all', 'PDT'), ('the', 'DT'), ('nonsense', 'NN'), ('and', 'CC'), ('continue', 'VB'), ('all', 'PDT'), ('the', 'DT'), ('drama', 'NN'), ('will', 'MD'), ('vote', 'VB'), ('for', 'IN'), ('modi', 'NN')])"
            ],
            "image/svg+xml": "<svg baseProfile=\"full\" height=\"120px\" preserveAspectRatio=\"xMidYMid meet\" style=\"font-family: times, serif; font-weight:normal; font-style: normal; font-size: 16px;\" version=\"1.1\" viewBox=\"0,0,648.0,120.0\" width=\"648px\" xmlns=\"http://www.w3.org/2000/svg\" xmlns:ev=\"http://www.w3.org/2001/xml-events\" xmlns:xlink=\"http://www.w3.org/1999/xlink\"><defs /><svg width=\"100%\" x=\"0\" y=\"0em\"><defs /><text text-anchor=\"middle\" x=\"50%\" y=\"1em\">S</text></svg><svg width=\"7.40741%\" x=\"0%\" y=\"3em\"><defs /><svg width=\"100%\" x=\"0\" y=\"0em\"><defs /><text text-anchor=\"middle\" x=\"50%\" y=\"1em\">talk</text></svg><svg width=\"100%\" x=\"0%\" y=\"3em\"><defs /><svg width=\"100%\" x=\"0\" y=\"0em\"><defs /><text text-anchor=\"middle\" x=\"50%\" y=\"1em\">NN</text></svg></svg><line stroke=\"black\" x1=\"50%\" x2=\"50%\" y1=\"1.2em\" y2=\"3em\" /></svg><line stroke=\"black\" x1=\"50%\" x2=\"3.7037%\" y1=\"1.2em\" y2=\"3em\" /><svg width=\"6.17284%\" x=\"7.40741%\" y=\"3em\"><defs /><svg width=\"100%\" x=\"0\" y=\"0em\"><defs /><text text-anchor=\"middle\" x=\"50%\" y=\"1em\">all</text></svg><svg width=\"100%\" x=\"0%\" y=\"3em\"><defs /><svg width=\"100%\" x=\"0\" y=\"0em\"><defs /><text text-anchor=\"middle\" x=\"50%\" y=\"1em\">PDT</text></svg></svg><line stroke=\"black\" x1=\"50%\" x2=\"50%\" y1=\"1.2em\" y2=\"3em\" /></svg><line stroke=\"black\" x1=\"50%\" x2=\"10.4938%\" y1=\"1.2em\" y2=\"3em\" /><svg width=\"6.17284%\" x=\"13.5802%\" y=\"3em\"><defs /><svg width=\"100%\" x=\"0\" y=\"0em\"><defs /><text text-anchor=\"middle\" x=\"50%\" y=\"1em\">the</text></svg><svg width=\"100%\" x=\"0%\" y=\"3em\"><defs /><svg width=\"100%\" x=\"0\" y=\"0em\"><defs /><text text-anchor=\"middle\" x=\"50%\" y=\"1em\">DT</text></svg></svg><line stroke=\"black\" x1=\"50%\" x2=\"50%\" y1=\"1.2em\" y2=\"3em\" /></svg><line stroke=\"black\" x1=\"50%\" x2=\"16.6667%\" y1=\"1.2em\" y2=\"3em\" /><svg width=\"12.3457%\" x=\"19.7531%\" y=\"3em\"><defs /><svg width=\"100%\" x=\"0\" y=\"0em\"><defs /><text text-anchor=\"middle\" x=\"50%\" y=\"1em\">nonsense</text></svg><svg width=\"100%\" x=\"0%\" y=\"3em\"><defs /><svg width=\"100%\" x=\"0\" y=\"0em\"><defs /><text text-anchor=\"middle\" x=\"50%\" y=\"1em\">NN</text></svg></svg><line stroke=\"black\" x1=\"50%\" x2=\"50%\" y1=\"1.2em\" y2=\"3em\" /></svg><line stroke=\"black\" x1=\"50%\" x2=\"25.9259%\" y1=\"1.2em\" y2=\"3em\" /><svg width=\"6.17284%\" x=\"32.0988%\" y=\"3em\"><defs /><svg width=\"100%\" x=\"0\" y=\"0em\"><defs /><text text-anchor=\"middle\" x=\"50%\" y=\"1em\">and</text></svg><svg width=\"100%\" x=\"0%\" y=\"3em\"><defs /><svg width=\"100%\" x=\"0\" y=\"0em\"><defs /><text text-anchor=\"middle\" x=\"50%\" y=\"1em\">CC</text></svg></svg><line stroke=\"black\" x1=\"50%\" x2=\"50%\" y1=\"1.2em\" y2=\"3em\" /></svg><line stroke=\"black\" x1=\"50%\" x2=\"35.1852%\" y1=\"1.2em\" y2=\"3em\" /><svg width=\"12.3457%\" x=\"38.2716%\" y=\"3em\"><defs /><svg width=\"100%\" x=\"0\" y=\"0em\"><defs /><text text-anchor=\"middle\" x=\"50%\" y=\"1em\">continue</text></svg><svg width=\"100%\" x=\"0%\" y=\"3em\"><defs /><svg width=\"100%\" x=\"0\" y=\"0em\"><defs /><text text-anchor=\"middle\" x=\"50%\" y=\"1em\">VB</text></svg></svg><line stroke=\"black\" x1=\"50%\" x2=\"50%\" y1=\"1.2em\" y2=\"3em\" /></svg><line stroke=\"black\" x1=\"50%\" x2=\"44.4444%\" y1=\"1.2em\" y2=\"3em\" /><svg width=\"6.17284%\" x=\"50.6173%\" y=\"3em\"><defs /><svg width=\"100%\" x=\"0\" y=\"0em\"><defs /><text text-anchor=\"middle\" x=\"50%\" y=\"1em\">all</text></svg><svg width=\"100%\" x=\"0%\" y=\"3em\"><defs /><svg width=\"100%\" x=\"0\" y=\"0em\"><defs /><text text-anchor=\"middle\" x=\"50%\" y=\"1em\">PDT</text></svg></svg><line stroke=\"black\" x1=\"50%\" x2=\"50%\" y1=\"1.2em\" y2=\"3em\" /></svg><line stroke=\"black\" x1=\"50%\" x2=\"53.7037%\" y1=\"1.2em\" y2=\"3em\" /><svg width=\"6.17284%\" x=\"56.7901%\" y=\"3em\"><defs /><svg width=\"100%\" x=\"0\" y=\"0em\"><defs /><text text-anchor=\"middle\" x=\"50%\" y=\"1em\">the</text></svg><svg width=\"100%\" x=\"0%\" y=\"3em\"><defs /><svg width=\"100%\" x=\"0\" y=\"0em\"><defs /><text text-anchor=\"middle\" x=\"50%\" y=\"1em\">DT</text></svg></svg><line stroke=\"black\" x1=\"50%\" x2=\"50%\" y1=\"1.2em\" y2=\"3em\" /></svg><line stroke=\"black\" x1=\"50%\" x2=\"59.8765%\" y1=\"1.2em\" y2=\"3em\" /><svg width=\"8.64198%\" x=\"62.963%\" y=\"3em\"><defs /><svg width=\"100%\" x=\"0\" y=\"0em\"><defs /><text text-anchor=\"middle\" x=\"50%\" y=\"1em\">drama</text></svg><svg width=\"100%\" x=\"0%\" y=\"3em\"><defs /><svg width=\"100%\" x=\"0\" y=\"0em\"><defs /><text text-anchor=\"middle\" x=\"50%\" y=\"1em\">NN</text></svg></svg><line stroke=\"black\" x1=\"50%\" x2=\"50%\" y1=\"1.2em\" y2=\"3em\" /></svg><line stroke=\"black\" x1=\"50%\" x2=\"67.284%\" y1=\"1.2em\" y2=\"3em\" /><svg width=\"7.40741%\" x=\"71.6049%\" y=\"3em\"><defs /><svg width=\"100%\" x=\"0\" y=\"0em\"><defs /><text text-anchor=\"middle\" x=\"50%\" y=\"1em\">will</text></svg><svg width=\"100%\" x=\"0%\" y=\"3em\"><defs /><svg width=\"100%\" x=\"0\" y=\"0em\"><defs /><text text-anchor=\"middle\" x=\"50%\" y=\"1em\">MD</text></svg></svg><line stroke=\"black\" x1=\"50%\" x2=\"50%\" y1=\"1.2em\" y2=\"3em\" /></svg><line stroke=\"black\" x1=\"50%\" x2=\"75.3086%\" y1=\"1.2em\" y2=\"3em\" /><svg width=\"7.40741%\" x=\"79.0123%\" y=\"3em\"><defs /><svg width=\"100%\" x=\"0\" y=\"0em\"><defs /><text text-anchor=\"middle\" x=\"50%\" y=\"1em\">vote</text></svg><svg width=\"100%\" x=\"0%\" y=\"3em\"><defs /><svg width=\"100%\" x=\"0\" y=\"0em\"><defs /><text text-anchor=\"middle\" x=\"50%\" y=\"1em\">VB</text></svg></svg><line stroke=\"black\" x1=\"50%\" x2=\"50%\" y1=\"1.2em\" y2=\"3em\" /></svg><line stroke=\"black\" x1=\"50%\" x2=\"82.716%\" y1=\"1.2em\" y2=\"3em\" /><svg width=\"6.17284%\" x=\"86.4198%\" y=\"3em\"><defs /><svg width=\"100%\" x=\"0\" y=\"0em\"><defs /><text text-anchor=\"middle\" x=\"50%\" y=\"1em\">for</text></svg><svg width=\"100%\" x=\"0%\" y=\"3em\"><defs /><svg width=\"100%\" x=\"0\" y=\"0em\"><defs /><text text-anchor=\"middle\" x=\"50%\" y=\"1em\">IN</text></svg></svg><line stroke=\"black\" x1=\"50%\" x2=\"50%\" y1=\"1.2em\" y2=\"3em\" /></svg><line stroke=\"black\" x1=\"50%\" x2=\"89.5062%\" y1=\"1.2em\" y2=\"3em\" /><svg width=\"7.40741%\" x=\"92.5926%\" y=\"3em\"><defs /><svg width=\"100%\" x=\"0\" y=\"0em\"><defs /><text text-anchor=\"middle\" x=\"50%\" y=\"1em\">modi</text></svg><svg width=\"100%\" x=\"0%\" y=\"3em\"><defs /><svg width=\"100%\" x=\"0\" y=\"0em\"><defs /><text text-anchor=\"middle\" x=\"50%\" y=\"1em\">NN</text></svg></svg><line stroke=\"black\" x1=\"50%\" x2=\"50%\" y1=\"1.2em\" y2=\"3em\" /></svg><line stroke=\"black\" x1=\"50%\" x2=\"96.2963%\" y1=\"1.2em\" y2=\"3em\" /></svg>"
          },
          "metadata": {},
          "execution_count": 20
        }
      ]
    },
    {
      "cell_type": "code",
      "source": [
        "from nltk.sentiment.vader import SentimentIntensityAnalyzer\n",
        "from tqdm.notebook import tqdm"
      ],
      "metadata": {
        "id": "C2vSjc2Lvstn"
      },
      "execution_count": 21,
      "outputs": []
    },
    {
      "cell_type": "code",
      "source": [
        "sia = SentimentIntensityAnalyzer()\n",
        "sentence = df['clean_text'][10]\n",
        "sia.polarity_scores(sentence)"
      ],
      "metadata": {
        "colab": {
          "base_uri": "https://localhost:8080/"
        },
        "id": "Eg266wjzw7SO",
        "outputId": "61140355-3c55-45c4-9f2a-fe588e48967b"
      },
      "execution_count": 22,
      "outputs": [
        {
          "output_type": "execute_result",
          "data": {
            "text/plain": [
              "{'neg': 0.0, 'neu': 0.875, 'pos': 0.125, 'compound': 0.6124}"
            ]
          },
          "metadata": {},
          "execution_count": 22
        }
      ]
    },
    {
      "cell_type": "code",
      "source": [
        "sentimentDict = sia.polarity_scores(sentence)\n",
        "sentiment = max(sentimentDict, key=sentimentDict.get)\n",
        "sentiment"
      ],
      "metadata": {
        "colab": {
          "base_uri": "https://localhost:8080/",
          "height": 35
        },
        "id": "v0niTkdvxJMq",
        "outputId": "adc1bafa-b04b-4ce2-fe07-103b60f8f605"
      },
      "execution_count": 23,
      "outputs": [
        {
          "output_type": "execute_result",
          "data": {
            "text/plain": [
              "'neu'"
            ],
            "application/vnd.google.colaboratory.intrinsic+json": {
              "type": "string"
            }
          },
          "metadata": {},
          "execution_count": 23
        }
      ]
    },
    {
      "cell_type": "code",
      "source": [
        "sentence = df['clean_text'][0]\n",
        "sentimentDict = sia.polarity_scores(sentence)\n",
        "print(sentimentDict)\n",
        "sentiment = max(sentimentDict, key=sentimentDict.get)\n",
        "print(sentiment)"
      ],
      "metadata": {
        "colab": {
          "base_uri": "https://localhost:8080/"
        },
        "id": "HwCclcUW0Gaa",
        "outputId": "fc462102-c679-4935-a9e8-87eb1417a7d3"
      },
      "execution_count": 24,
      "outputs": [
        {
          "output_type": "stream",
          "name": "stdout",
          "text": [
            "{'neg': 0.065, 'neu': 0.781, 'pos': 0.154, 'compound': 0.5267}\n",
            "neu\n"
          ]
        }
      ]
    },
    {
      "cell_type": "code",
      "source": [
        "sentimentCompare = []\n",
        "sentimentMapDict = {\n",
        "    'pos': 1.0,\n",
        "    'neu': 0.0,\n",
        "    'neg': -1.0\n",
        "}\n",
        "index = 0\n",
        "for i, row in tqdm(df.iterrows()):\n",
        "  try:\n",
        "    sentimentCompareDict = {}\n",
        "    sentence = row['clean_text']\n",
        "    sentimentDict = sia.polarity_scores(sentence)\n",
        "    sentimentDict.pop('compound')\n",
        "    sentiment = max(sentimentDict, key=sentimentDict.get)\n",
        "    sentimentCompareDict['Id'] = index\n",
        "    sentimentCompareDict['vader'] = sentimentMapDict[sentiment]\n",
        "    sentimentCompareDict['original'] = row['category']\n",
        "    sentimentCompare.append(sentimentCompareDict)\n",
        "    index += 1\n",
        "  except Exception:\n",
        "    print(\"error occured for id\", index)\n",
        "\n"
      ],
      "metadata": {
        "colab": {
          "base_uri": "https://localhost:8080/",
          "height": 66,
          "referenced_widgets": [
            "c5d622b0011545fba6337e8e220d7923",
            "dacd10843bf84826ae3b02b6de04bb2f",
            "3a5df3b3c6ec4000b9bf4f7e773ec060",
            "6a34f425dbd44d02a26bd310dc8c5f4b",
            "e058d30b96d440eba873a800db8b1aaa",
            "b2430cc656a247c28b7358b842146d3a",
            "79b691fd631543aeb0db3dc2d3f86272",
            "528d23b209734ebfab81a4743fc093f0",
            "d54098115cfd46f1874b0c58c5b49774",
            "fa8c2e9423e44d539b6a5b48b20ce317",
            "b6b9411385ea4300a21aaf6083348919"
          ]
        },
        "id": "1gfR5xga0PLH",
        "outputId": "e8c2ff1d-fcf0-4ec9-8805-a48d751b10ff"
      },
      "execution_count": 25,
      "outputs": [
        {
          "output_type": "display_data",
          "data": {
            "text/plain": [
              "0it [00:00, ?it/s]"
            ],
            "application/vnd.jupyter.widget-view+json": {
              "version_major": 2,
              "version_minor": 0,
              "model_id": "c5d622b0011545fba6337e8e220d7923"
            }
          },
          "metadata": {}
        },
        {
          "output_type": "stream",
          "name": "stdout",
          "text": [
            "error occured for id 148\n"
          ]
        }
      ]
    },
    {
      "cell_type": "code",
      "source": [
        "sentimentCompare"
      ],
      "metadata": {
        "colab": {
          "base_uri": "https://localhost:8080/"
        },
        "id": "6uBO7_Fy1UIP",
        "outputId": "8f66cc0c-c595-44e3-f037-4e4c4e42c17f"
      },
      "execution_count": 26,
      "outputs": [
        {
          "output_type": "execute_result",
          "data": {
            "text/plain": [
              "[{'Id': 0, 'vader': 0.0, 'original': -1.0},\n",
              " {'Id': 1, 'vader': 0.0, 'original': 0.0},\n",
              " {'Id': 2, 'vader': 0.0, 'original': 1.0},\n",
              " {'Id': 3, 'vader': 0.0, 'original': 1.0},\n",
              " {'Id': 4, 'vader': 0.0, 'original': 1.0},\n",
              " {'Id': 5, 'vader': 0.0, 'original': 0.0},\n",
              " {'Id': 6, 'vader': 0.0, 'original': 0.0},\n",
              " {'Id': 7, 'vader': 0.0, 'original': 0.0},\n",
              " {'Id': 8, 'vader': 0.0, 'original': 1.0},\n",
              " {'Id': 9, 'vader': 0.0, 'original': 1.0},\n",
              " {'Id': 10, 'vader': 0.0, 'original': 1.0},\n",
              " {'Id': 11, 'vader': 0.0, 'original': 1.0},\n",
              " {'Id': 12, 'vader': 0.0, 'original': 1.0},\n",
              " {'Id': 13, 'vader': 0.0, 'original': 0.0},\n",
              " {'Id': 14, 'vader': 0.0, 'original': 0.0},\n",
              " {'Id': 15, 'vader': 0.0, 'original': -1.0},\n",
              " {'Id': 16, 'vader': 0.0, 'original': 0.0},\n",
              " {'Id': 17, 'vader': 0.0, 'original': 0.0},\n",
              " {'Id': 18, 'vader': 0.0, 'original': 1.0},\n",
              " {'Id': 19, 'vader': 0.0, 'original': -1.0},\n",
              " {'Id': 20, 'vader': 0.0, 'original': 1.0},\n",
              " {'Id': 21, 'vader': 0.0, 'original': -1.0},\n",
              " {'Id': 22, 'vader': 0.0, 'original': 0.0},\n",
              " {'Id': 23, 'vader': 0.0, 'original': -1.0},\n",
              " {'Id': 24, 'vader': 0.0, 'original': -1.0},\n",
              " {'Id': 25, 'vader': 0.0, 'original': 1.0},\n",
              " {'Id': 26, 'vader': 0.0, 'original': 0.0},\n",
              " {'Id': 27, 'vader': 0.0, 'original': 0.0},\n",
              " {'Id': 28, 'vader': 0.0, 'original': 0.0},\n",
              " {'Id': 29, 'vader': 0.0, 'original': 0.0},\n",
              " {'Id': 30, 'vader': 0.0, 'original': 1.0},\n",
              " {'Id': 31, 'vader': 0.0, 'original': 0.0},\n",
              " {'Id': 32, 'vader': 0.0, 'original': -1.0},\n",
              " {'Id': 33, 'vader': 0.0, 'original': 1.0},\n",
              " {'Id': 34, 'vader': 0.0, 'original': -1.0},\n",
              " {'Id': 35, 'vader': 0.0, 'original': 0.0},\n",
              " {'Id': 36, 'vader': 0.0, 'original': 1.0},\n",
              " {'Id': 37, 'vader': 0.0, 'original': 1.0},\n",
              " {'Id': 38, 'vader': 0.0, 'original': -1.0},\n",
              " {'Id': 39, 'vader': 1.0, 'original': -1.0},\n",
              " {'Id': 40, 'vader': 1.0, 'original': 1.0},\n",
              " {'Id': 41, 'vader': 0.0, 'original': 0.0},\n",
              " {'Id': 42, 'vader': 0.0, 'original': 0.0},\n",
              " {'Id': 43, 'vader': 0.0, 'original': 1.0},\n",
              " {'Id': 44, 'vader': 0.0, 'original': 1.0},\n",
              " {'Id': 45, 'vader': 0.0, 'original': 1.0},\n",
              " {'Id': 46, 'vader': 0.0, 'original': 1.0},\n",
              " {'Id': 47, 'vader': 0.0, 'original': 0.0},\n",
              " {'Id': 48, 'vader': 0.0, 'original': 1.0},\n",
              " {'Id': 49, 'vader': 0.0, 'original': -1.0},\n",
              " {'Id': 50, 'vader': 0.0, 'original': 1.0},\n",
              " {'Id': 51, 'vader': 0.0, 'original': 0.0},\n",
              " {'Id': 52, 'vader': 0.0, 'original': 0.0},\n",
              " {'Id': 53, 'vader': 0.0, 'original': -1.0},\n",
              " {'Id': 54, 'vader': 0.0, 'original': 1.0},\n",
              " {'Id': 55, 'vader': 0.0, 'original': -1.0},\n",
              " {'Id': 56, 'vader': 0.0, 'original': 0.0},\n",
              " {'Id': 57, 'vader': 0.0, 'original': 0.0},\n",
              " {'Id': 58, 'vader': 0.0, 'original': 0.0},\n",
              " {'Id': 59, 'vader': 0.0, 'original': 0.0},\n",
              " {'Id': 60, 'vader': 0.0, 'original': -1.0},\n",
              " {'Id': 61, 'vader': 0.0, 'original': 0.0},\n",
              " {'Id': 62, 'vader': 0.0, 'original': -1.0},\n",
              " {'Id': 63, 'vader': 0.0, 'original': 1.0},\n",
              " {'Id': 64, 'vader': 0.0, 'original': 1.0},\n",
              " {'Id': 65, 'vader': 0.0, 'original': 1.0},\n",
              " {'Id': 66, 'vader': 0.0, 'original': 1.0},\n",
              " {'Id': 67, 'vader': 0.0, 'original': -1.0},\n",
              " {'Id': 68, 'vader': 0.0, 'original': -1.0},\n",
              " {'Id': 69, 'vader': 0.0, 'original': 1.0},\n",
              " {'Id': 70, 'vader': 0.0, 'original': 0.0},\n",
              " {'Id': 71, 'vader': 0.0, 'original': 0.0},\n",
              " {'Id': 72, 'vader': 0.0, 'original': 1.0},\n",
              " {'Id': 73, 'vader': 0.0, 'original': -1.0},\n",
              " {'Id': 74, 'vader': 0.0, 'original': 1.0},\n",
              " {'Id': 75, 'vader': 0.0, 'original': 0.0},\n",
              " {'Id': 76, 'vader': 0.0, 'original': 1.0},\n",
              " {'Id': 77, 'vader': 0.0, 'original': 0.0},\n",
              " {'Id': 78, 'vader': 0.0, 'original': -1.0},\n",
              " {'Id': 79, 'vader': 0.0, 'original': 1.0},\n",
              " {'Id': 80, 'vader': 0.0, 'original': 0.0},\n",
              " {'Id': 81, 'vader': 0.0, 'original': 1.0},\n",
              " {'Id': 82, 'vader': 0.0, 'original': -1.0},\n",
              " {'Id': 83, 'vader': 0.0, 'original': 1.0},\n",
              " {'Id': 84, 'vader': 0.0, 'original': 0.0},\n",
              " {'Id': 85, 'vader': 0.0, 'original': -1.0},\n",
              " {'Id': 86, 'vader': 0.0, 'original': 0.0},\n",
              " {'Id': 87, 'vader': 0.0, 'original': -1.0},\n",
              " {'Id': 88, 'vader': 0.0, 'original': 0.0},\n",
              " {'Id': 89, 'vader': 0.0, 'original': 1.0},\n",
              " {'Id': 90, 'vader': 0.0, 'original': 1.0},\n",
              " {'Id': 91, 'vader': 0.0, 'original': -1.0},\n",
              " {'Id': 92, 'vader': 0.0, 'original': 1.0},\n",
              " {'Id': 93, 'vader': 0.0, 'original': 1.0},\n",
              " {'Id': 94, 'vader': 0.0, 'original': 1.0},\n",
              " {'Id': 95, 'vader': 0.0, 'original': 0.0},\n",
              " {'Id': 96, 'vader': 0.0, 'original': 0.0},\n",
              " {'Id': 97, 'vader': 0.0, 'original': 0.0},\n",
              " {'Id': 98, 'vader': 0.0, 'original': -1.0},\n",
              " {'Id': 99, 'vader': -1.0, 'original': 1.0},\n",
              " {'Id': 100, 'vader': 0.0, 'original': 1.0},\n",
              " {'Id': 101, 'vader': 0.0, 'original': 0.0},\n",
              " {'Id': 102, 'vader': 0.0, 'original': -1.0},\n",
              " {'Id': 103, 'vader': 0.0, 'original': -1.0},\n",
              " {'Id': 104, 'vader': 0.0, 'original': -1.0},\n",
              " {'Id': 105, 'vader': 0.0, 'original': 0.0},\n",
              " {'Id': 106, 'vader': 0.0, 'original': 1.0},\n",
              " {'Id': 107, 'vader': 0.0, 'original': 0.0},\n",
              " {'Id': 108, 'vader': 0.0, 'original': -1.0},\n",
              " {'Id': 109, 'vader': 0.0, 'original': 1.0},\n",
              " {'Id': 110, 'vader': 0.0, 'original': 0.0},\n",
              " {'Id': 111, 'vader': 0.0, 'original': 1.0},\n",
              " {'Id': 112, 'vader': 0.0, 'original': -1.0},\n",
              " {'Id': 113, 'vader': 0.0, 'original': 1.0},\n",
              " {'Id': 114, 'vader': 0.0, 'original': 0.0},\n",
              " {'Id': 115, 'vader': 0.0, 'original': 0.0},\n",
              " {'Id': 116, 'vader': 0.0, 'original': 1.0},\n",
              " {'Id': 117, 'vader': 0.0, 'original': 1.0},\n",
              " {'Id': 118, 'vader': 0.0, 'original': 0.0},\n",
              " {'Id': 119, 'vader': 0.0, 'original': 0.0},\n",
              " {'Id': 120, 'vader': 0.0, 'original': 0.0},\n",
              " {'Id': 121, 'vader': 0.0, 'original': 0.0},\n",
              " {'Id': 122, 'vader': 0.0, 'original': 0.0},\n",
              " {'Id': 123, 'vader': 0.0, 'original': 1.0},\n",
              " {'Id': 124, 'vader': 0.0, 'original': 0.0},\n",
              " {'Id': 125, 'vader': 0.0, 'original': 0.0},\n",
              " {'Id': 126, 'vader': 0.0, 'original': 1.0},\n",
              " {'Id': 127, 'vader': 0.0, 'original': 0.0},\n",
              " {'Id': 128, 'vader': 0.0, 'original': 0.0},\n",
              " {'Id': 129, 'vader': 0.0, 'original': 1.0},\n",
              " {'Id': 130, 'vader': 0.0, 'original': 1.0},\n",
              " {'Id': 131, 'vader': 0.0, 'original': 0.0},\n",
              " {'Id': 132, 'vader': 0.0, 'original': -1.0},\n",
              " {'Id': 133, 'vader': 0.0, 'original': 0.0},\n",
              " {'Id': 134, 'vader': 1.0, 'original': 1.0},\n",
              " {'Id': 135, 'vader': 0.0, 'original': -1.0},\n",
              " {'Id': 136, 'vader': 0.0, 'original': -1.0},\n",
              " {'Id': 137, 'vader': 0.0, 'original': -1.0},\n",
              " {'Id': 138, 'vader': 0.0, 'original': 1.0},\n",
              " {'Id': 139, 'vader': 0.0, 'original': 0.0},\n",
              " {'Id': 140, 'vader': 0.0, 'original': 0.0},\n",
              " {'Id': 141, 'vader': 0.0, 'original': 0.0},\n",
              " {'Id': 142, 'vader': 0.0, 'original': 1.0},\n",
              " {'Id': 143, 'vader': 0.0, 'original': 1.0},\n",
              " {'Id': 144, 'vader': 0.0, 'original': 0.0},\n",
              " {'Id': 145, 'vader': 0.0, 'original': 1.0},\n",
              " {'Id': 146, 'vader': 0.0, 'original': 0.0},\n",
              " {'Id': 147, 'vader': 0.0, 'original': 1.0},\n",
              " {'Id': 148, 'vader': 0.0, 'original': -1.0},\n",
              " {'Id': 149, 'vader': 0.0, 'original': -1.0},\n",
              " {'Id': 150, 'vader': 0.0, 'original': 1.0},\n",
              " {'Id': 151, 'vader': 0.0, 'original': 0.0},\n",
              " {'Id': 152, 'vader': 0.0, 'original': 0.0},\n",
              " {'Id': 153, 'vader': 0.0, 'original': 0.0},\n",
              " {'Id': 154, 'vader': 0.0, 'original': 0.0},\n",
              " {'Id': 155, 'vader': 0.0, 'original': -1.0},\n",
              " {'Id': 156, 'vader': 0.0, 'original': 1.0},\n",
              " {'Id': 157, 'vader': 0.0, 'original': -1.0},\n",
              " {'Id': 158, 'vader': 0.0, 'original': 0.0},\n",
              " {'Id': 159, 'vader': 0.0, 'original': 1.0},\n",
              " {'Id': 160, 'vader': 0.0, 'original': 0.0},\n",
              " {'Id': 161, 'vader': 0.0, 'original': -1.0},\n",
              " {'Id': 162, 'vader': 0.0, 'original': 0.0},\n",
              " {'Id': 163, 'vader': 0.0, 'original': 1.0},\n",
              " {'Id': 164, 'vader': 0.0, 'original': 1.0},\n",
              " {'Id': 165, 'vader': 0.0, 'original': 0.0},\n",
              " {'Id': 166, 'vader': 0.0, 'original': 1.0},\n",
              " {'Id': 167, 'vader': 0.0, 'original': 1.0},\n",
              " {'Id': 168, 'vader': 0.0, 'original': 0.0},\n",
              " {'Id': 169, 'vader': 0.0, 'original': 0.0},\n",
              " {'Id': 170, 'vader': 0.0, 'original': 0.0},\n",
              " {'Id': 171, 'vader': 0.0, 'original': -1.0},\n",
              " {'Id': 172, 'vader': 0.0, 'original': 1.0},\n",
              " {'Id': 173, 'vader': 0.0, 'original': 1.0},\n",
              " {'Id': 174, 'vader': 0.0, 'original': 0.0},\n",
              " {'Id': 175, 'vader': 0.0, 'original': 0.0},\n",
              " {'Id': 176, 'vader': 0.0, 'original': -1.0},\n",
              " {'Id': 177, 'vader': 0.0, 'original': 0.0},\n",
              " {'Id': 178, 'vader': 0.0, 'original': -1.0},\n",
              " {'Id': 179, 'vader': 0.0, 'original': 1.0},\n",
              " {'Id': 180, 'vader': 0.0, 'original': 1.0},\n",
              " {'Id': 181, 'vader': 0.0, 'original': -1.0},\n",
              " {'Id': 182, 'vader': 0.0, 'original': 0.0},\n",
              " {'Id': 183, 'vader': 0.0, 'original': 1.0},\n",
              " {'Id': 184, 'vader': 0.0, 'original': 0.0},\n",
              " {'Id': 185, 'vader': 0.0, 'original': 1.0},\n",
              " {'Id': 186, 'vader': 0.0, 'original': 1.0},\n",
              " {'Id': 187, 'vader': 0.0, 'original': 1.0},\n",
              " {'Id': 188, 'vader': 0.0, 'original': 0.0},\n",
              " {'Id': 189, 'vader': 0.0, 'original': 1.0},\n",
              " {'Id': 190, 'vader': 0.0, 'original': 0.0},\n",
              " {'Id': 191, 'vader': 0.0, 'original': 0.0},\n",
              " {'Id': 192, 'vader': 0.0, 'original': -1.0},\n",
              " {'Id': 193, 'vader': 0.0, 'original': 0.0},\n",
              " {'Id': 194, 'vader': 0.0, 'original': 1.0},\n",
              " {'Id': 195, 'vader': 0.0, 'original': 0.0},\n",
              " {'Id': 196, 'vader': 0.0, 'original': -1.0},\n",
              " {'Id': 197, 'vader': 0.0, 'original': 0.0},\n",
              " {'Id': 198, 'vader': 0.0, 'original': 0.0},\n",
              " {'Id': 199, 'vader': 0.0, 'original': 1.0},\n",
              " {'Id': 200, 'vader': 0.0, 'original': -1.0},\n",
              " {'Id': 201, 'vader': 0.0, 'original': 0.0},\n",
              " {'Id': 202, 'vader': 0.0, 'original': 1.0},\n",
              " {'Id': 203, 'vader': 0.0, 'original': -1.0},\n",
              " {'Id': 204, 'vader': 0.0, 'original': 1.0},\n",
              " {'Id': 205, 'vader': 0.0, 'original': -1.0},\n",
              " {'Id': 206, 'vader': 0.0, 'original': 0.0},\n",
              " {'Id': 207, 'vader': 0.0, 'original': 1.0},\n",
              " {'Id': 208, 'vader': 0.0, 'original': -1.0},\n",
              " {'Id': 209, 'vader': 0.0, 'original': 1.0},\n",
              " {'Id': 210, 'vader': 0.0, 'original': 1.0},\n",
              " {'Id': 211, 'vader': 1.0, 'original': 1.0},\n",
              " {'Id': 212, 'vader': 0.0, 'original': -1.0},\n",
              " {'Id': 213, 'vader': 0.0, 'original': 0.0},\n",
              " {'Id': 214, 'vader': 0.0, 'original': 1.0},\n",
              " {'Id': 215, 'vader': 0.0, 'original': 0.0},\n",
              " {'Id': 216, 'vader': 1.0, 'original': 0.0},\n",
              " {'Id': 217, 'vader': 0.0, 'original': -1.0},\n",
              " {'Id': 218, 'vader': 0.0, 'original': 0.0},\n",
              " {'Id': 219, 'vader': 0.0, 'original': 1.0},\n",
              " {'Id': 220, 'vader': 0.0, 'original': -1.0},\n",
              " {'Id': 221, 'vader': 0.0, 'original': 0.0},\n",
              " {'Id': 222, 'vader': 0.0, 'original': 1.0},\n",
              " {'Id': 223, 'vader': 0.0, 'original': 0.0},\n",
              " {'Id': 224, 'vader': 0.0, 'original': 1.0},\n",
              " {'Id': 225, 'vader': 0.0, 'original': 0.0},\n",
              " {'Id': 226, 'vader': 1.0, 'original': 1.0},\n",
              " {'Id': 227, 'vader': 0.0, 'original': 0.0},\n",
              " {'Id': 228, 'vader': 0.0, 'original': 1.0},\n",
              " {'Id': 229, 'vader': 0.0, 'original': -1.0},\n",
              " {'Id': 230, 'vader': 0.0, 'original': 1.0},\n",
              " {'Id': 231, 'vader': 0.0, 'original': 1.0},\n",
              " {'Id': 232, 'vader': 0.0, 'original': 1.0},\n",
              " {'Id': 233, 'vader': 0.0, 'original': 1.0},\n",
              " {'Id': 234, 'vader': 0.0, 'original': -1.0},\n",
              " {'Id': 235, 'vader': 0.0, 'original': 1.0},\n",
              " {'Id': 236, 'vader': 0.0, 'original': 0.0},\n",
              " {'Id': 237, 'vader': 0.0, 'original': 1.0},\n",
              " {'Id': 238, 'vader': 0.0, 'original': 1.0},\n",
              " {'Id': 239, 'vader': 0.0, 'original': -1.0},\n",
              " {'Id': 240, 'vader': 0.0, 'original': 0.0},\n",
              " {'Id': 241, 'vader': 0.0, 'original': -1.0},\n",
              " {'Id': 242, 'vader': 0.0, 'original': 0.0},\n",
              " {'Id': 243, 'vader': 0.0, 'original': 1.0},\n",
              " {'Id': 244, 'vader': 0.0, 'original': 1.0},\n",
              " {'Id': 245, 'vader': 0.0, 'original': 0.0},\n",
              " {'Id': 246, 'vader': 0.0, 'original': 0.0},\n",
              " {'Id': 247, 'vader': 0.0, 'original': 0.0},\n",
              " {'Id': 248, 'vader': 1.0, 'original': 1.0},\n",
              " {'Id': 249, 'vader': 0.0, 'original': 1.0},\n",
              " {'Id': 250, 'vader': 1.0, 'original': 0.0},\n",
              " {'Id': 251, 'vader': 0.0, 'original': 1.0},\n",
              " {'Id': 252, 'vader': 0.0, 'original': 1.0},\n",
              " {'Id': 253, 'vader': 0.0, 'original': 1.0},\n",
              " {'Id': 254, 'vader': 0.0, 'original': 0.0},\n",
              " {'Id': 255, 'vader': 0.0, 'original': 0.0},\n",
              " {'Id': 256, 'vader': 0.0, 'original': 1.0},\n",
              " {'Id': 257, 'vader': 0.0, 'original': 1.0},\n",
              " {'Id': 258, 'vader': 0.0, 'original': 1.0},\n",
              " {'Id': 259, 'vader': 0.0, 'original': -1.0},\n",
              " {'Id': 260, 'vader': 0.0, 'original': 0.0},\n",
              " {'Id': 261, 'vader': 0.0, 'original': 1.0},\n",
              " {'Id': 262, 'vader': 0.0, 'original': -1.0},\n",
              " {'Id': 263, 'vader': 1.0, 'original': 1.0},\n",
              " {'Id': 264, 'vader': 0.0, 'original': 1.0},\n",
              " {'Id': 265, 'vader': 0.0, 'original': 1.0},\n",
              " {'Id': 266, 'vader': 0.0, 'original': 1.0},\n",
              " {'Id': 267, 'vader': 0.0, 'original': 1.0},\n",
              " {'Id': 268, 'vader': 0.0, 'original': 0.0},\n",
              " {'Id': 269, 'vader': 0.0, 'original': 0.0},\n",
              " {'Id': 270, 'vader': 0.0, 'original': 0.0},\n",
              " {'Id': 271, 'vader': 0.0, 'original': 1.0},\n",
              " {'Id': 272, 'vader': 0.0, 'original': -1.0},\n",
              " {'Id': 273, 'vader': 0.0, 'original': 0.0},\n",
              " {'Id': 274, 'vader': 0.0, 'original': 0.0},\n",
              " {'Id': 275, 'vader': 0.0, 'original': 0.0},\n",
              " {'Id': 276, 'vader': 0.0, 'original': 1.0},\n",
              " {'Id': 277, 'vader': 0.0, 'original': 1.0},\n",
              " {'Id': 278, 'vader': 0.0, 'original': 1.0},\n",
              " {'Id': 279, 'vader': 0.0, 'original': 0.0},\n",
              " {'Id': 280, 'vader': 0.0, 'original': 1.0},\n",
              " {'Id': 281, 'vader': 0.0, 'original': -1.0},\n",
              " {'Id': 282, 'vader': 0.0, 'original': -1.0},\n",
              " {'Id': 283, 'vader': 0.0, 'original': 0.0},\n",
              " {'Id': 284, 'vader': 0.0, 'original': -1.0},\n",
              " {'Id': 285, 'vader': 0.0, 'original': 1.0},\n",
              " {'Id': 286, 'vader': 0.0, 'original': 0.0},\n",
              " {'Id': 287, 'vader': 0.0, 'original': 1.0},\n",
              " {'Id': 288, 'vader': 0.0, 'original': 0.0},\n",
              " {'Id': 289, 'vader': 1.0, 'original': 1.0},\n",
              " {'Id': 290, 'vader': 0.0, 'original': 1.0},\n",
              " {'Id': 291, 'vader': 0.0, 'original': 1.0},\n",
              " {'Id': 292, 'vader': 0.0, 'original': 1.0},\n",
              " {'Id': 293, 'vader': 0.0, 'original': 1.0},\n",
              " {'Id': 294, 'vader': 0.0, 'original': 1.0},\n",
              " {'Id': 295, 'vader': 0.0, 'original': -1.0},\n",
              " {'Id': 296, 'vader': 0.0, 'original': 0.0},\n",
              " {'Id': 297, 'vader': 0.0, 'original': 1.0},\n",
              " {'Id': 298, 'vader': 0.0, 'original': 0.0},\n",
              " {'Id': 299, 'vader': 0.0, 'original': 0.0},\n",
              " {'Id': 300, 'vader': 0.0, 'original': 1.0},\n",
              " {'Id': 301, 'vader': 0.0, 'original': 1.0},\n",
              " {'Id': 302, 'vader': 0.0, 'original': 1.0},\n",
              " {'Id': 303, 'vader': 0.0, 'original': 0.0},\n",
              " {'Id': 304, 'vader': 0.0, 'original': 1.0},\n",
              " {'Id': 305, 'vader': 0.0, 'original': 0.0},\n",
              " {'Id': 306, 'vader': -1.0, 'original': -1.0},\n",
              " {'Id': 307, 'vader': 0.0, 'original': 1.0},\n",
              " {'Id': 308, 'vader': 0.0, 'original': 1.0},\n",
              " {'Id': 309, 'vader': 0.0, 'original': 1.0},\n",
              " {'Id': 310, 'vader': 0.0, 'original': 1.0},\n",
              " {'Id': 311, 'vader': 0.0, 'original': 1.0},\n",
              " {'Id': 312, 'vader': 0.0, 'original': 0.0},\n",
              " {'Id': 313, 'vader': 0.0, 'original': 0.0},\n",
              " {'Id': 314, 'vader': 0.0, 'original': 1.0},\n",
              " {'Id': 315, 'vader': 0.0, 'original': 0.0},\n",
              " {'Id': 316, 'vader': 0.0, 'original': 1.0},\n",
              " {'Id': 317, 'vader': 0.0, 'original': 0.0},\n",
              " {'Id': 318, 'vader': 0.0, 'original': 1.0},\n",
              " {'Id': 319, 'vader': 0.0, 'original': 1.0},\n",
              " {'Id': 320, 'vader': 0.0, 'original': 1.0},\n",
              " {'Id': 321, 'vader': 0.0, 'original': -1.0},\n",
              " {'Id': 322, 'vader': 0.0, 'original': 1.0},\n",
              " {'Id': 323, 'vader': 0.0, 'original': -1.0},\n",
              " {'Id': 324, 'vader': 0.0, 'original': -1.0},\n",
              " {'Id': 325, 'vader': 0.0, 'original': 0.0},\n",
              " {'Id': 326, 'vader': 0.0, 'original': 0.0},\n",
              " {'Id': 327, 'vader': 0.0, 'original': 0.0},\n",
              " {'Id': 328, 'vader': 0.0, 'original': -1.0},\n",
              " {'Id': 329, 'vader': 0.0, 'original': 1.0},\n",
              " {'Id': 330, 'vader': 0.0, 'original': 1.0},\n",
              " {'Id': 331, 'vader': 0.0, 'original': 1.0},\n",
              " {'Id': 332, 'vader': 0.0, 'original': 0.0},\n",
              " {'Id': 333, 'vader': 0.0, 'original': 0.0},\n",
              " {'Id': 334, 'vader': 0.0, 'original': 1.0},\n",
              " {'Id': 335, 'vader': 0.0, 'original': 1.0},\n",
              " {'Id': 336, 'vader': 0.0, 'original': 1.0},\n",
              " {'Id': 337, 'vader': 0.0, 'original': 1.0},\n",
              " {'Id': 338, 'vader': 0.0, 'original': -1.0},\n",
              " {'Id': 339, 'vader': 0.0, 'original': 1.0},\n",
              " {'Id': 340, 'vader': 0.0, 'original': -1.0},\n",
              " {'Id': 341, 'vader': 0.0, 'original': 0.0},\n",
              " {'Id': 342, 'vader': 0.0, 'original': 0.0},\n",
              " {'Id': 343, 'vader': 0.0, 'original': 1.0},\n",
              " {'Id': 344, 'vader': 0.0, 'original': 0.0},\n",
              " {'Id': 345, 'vader': 0.0, 'original': 1.0},\n",
              " {'Id': 346, 'vader': 0.0, 'original': 0.0},\n",
              " {'Id': 347, 'vader': 0.0, 'original': 1.0},\n",
              " {'Id': 348, 'vader': 0.0, 'original': 0.0},\n",
              " {'Id': 349, 'vader': 0.0, 'original': 1.0},\n",
              " {'Id': 350, 'vader': 0.0, 'original': 0.0},\n",
              " {'Id': 351, 'vader': 0.0, 'original': -1.0},\n",
              " {'Id': 352, 'vader': 0.0, 'original': 1.0},\n",
              " {'Id': 353, 'vader': 0.0, 'original': 1.0},\n",
              " {'Id': 354, 'vader': 0.0, 'original': 0.0},\n",
              " {'Id': 355, 'vader': 0.0, 'original': 0.0},\n",
              " {'Id': 356, 'vader': 0.0, 'original': 1.0},\n",
              " {'Id': 357, 'vader': 0.0, 'original': 1.0},\n",
              " {'Id': 358, 'vader': 0.0, 'original': -1.0},\n",
              " {'Id': 359, 'vader': 0.0, 'original': 1.0},\n",
              " {'Id': 360, 'vader': 0.0, 'original': 0.0},\n",
              " {'Id': 361, 'vader': 0.0, 'original': 0.0},\n",
              " {'Id': 362, 'vader': 0.0, 'original': -1.0},\n",
              " {'Id': 363, 'vader': 0.0, 'original': 1.0},\n",
              " {'Id': 364, 'vader': 0.0, 'original': 1.0},\n",
              " {'Id': 365, 'vader': 0.0, 'original': 1.0},\n",
              " {'Id': 366, 'vader': 0.0, 'original': 0.0},\n",
              " {'Id': 367, 'vader': 0.0, 'original': 1.0},\n",
              " {'Id': 368, 'vader': 0.0, 'original': -1.0},\n",
              " {'Id': 369, 'vader': 0.0, 'original': 1.0},\n",
              " {'Id': 370, 'vader': 0.0, 'original': 1.0},\n",
              " {'Id': 371, 'vader': 0.0, 'original': 0.0},\n",
              " {'Id': 372, 'vader': 0.0, 'original': -1.0},\n",
              " {'Id': 373, 'vader': 0.0, 'original': 1.0},\n",
              " {'Id': 374, 'vader': 0.0, 'original': 0.0},\n",
              " {'Id': 375, 'vader': 0.0, 'original': 0.0},\n",
              " {'Id': 376, 'vader': 0.0, 'original': -1.0},\n",
              " {'Id': 377, 'vader': 0.0, 'original': -1.0},\n",
              " {'Id': 378, 'vader': 0.0, 'original': 0.0},\n",
              " {'Id': 379, 'vader': 0.0, 'original': 1.0},\n",
              " {'Id': 380, 'vader': 0.0, 'original': 1.0},\n",
              " {'Id': 381, 'vader': 0.0, 'original': 1.0},\n",
              " {'Id': 382, 'vader': -1.0, 'original': -1.0},\n",
              " {'Id': 383, 'vader': 0.0, 'original': 0.0},\n",
              " {'Id': 384, 'vader': 0.0, 'original': 0.0},\n",
              " {'Id': 385, 'vader': 0.0, 'original': 1.0},\n",
              " {'Id': 386, 'vader': 1.0, 'original': 0.0},\n",
              " {'Id': 387, 'vader': 0.0, 'original': 0.0},\n",
              " {'Id': 388, 'vader': 0.0, 'original': 1.0},\n",
              " {'Id': 389, 'vader': 0.0, 'original': 1.0},\n",
              " {'Id': 390, 'vader': 0.0, 'original': 1.0},\n",
              " {'Id': 391, 'vader': 0.0, 'original': -1.0},\n",
              " {'Id': 392, 'vader': 0.0, 'original': -1.0},\n",
              " {'Id': 393, 'vader': 0.0, 'original': 0.0},\n",
              " {'Id': 394, 'vader': 0.0, 'original': 1.0},\n",
              " {'Id': 395, 'vader': 0.0, 'original': 0.0},\n",
              " {'Id': 396, 'vader': 0.0, 'original': -1.0},\n",
              " {'Id': 397, 'vader': 0.0, 'original': 1.0},\n",
              " {'Id': 398, 'vader': 0.0, 'original': 0.0},\n",
              " {'Id': 399, 'vader': 0.0, 'original': 1.0},\n",
              " {'Id': 400, 'vader': 0.0, 'original': -1.0},\n",
              " {'Id': 401, 'vader': 0.0, 'original': 0.0},\n",
              " {'Id': 402, 'vader': 0.0, 'original': 0.0},\n",
              " {'Id': 403, 'vader': 0.0, 'original': -1.0},\n",
              " {'Id': 404, 'vader': 0.0, 'original': 0.0},\n",
              " {'Id': 405, 'vader': -1.0, 'original': 0.0},\n",
              " {'Id': 406, 'vader': 0.0, 'original': 1.0},\n",
              " {'Id': 407, 'vader': 0.0, 'original': 0.0},\n",
              " {'Id': 408, 'vader': 0.0, 'original': 1.0},\n",
              " {'Id': 409, 'vader': 0.0, 'original': -1.0},\n",
              " {'Id': 410, 'vader': 0.0, 'original': 0.0},\n",
              " {'Id': 411, 'vader': 0.0, 'original': 1.0},\n",
              " {'Id': 412, 'vader': 0.0, 'original': 1.0},\n",
              " {'Id': 413, 'vader': 0.0, 'original': 0.0},\n",
              " {'Id': 414, 'vader': 0.0, 'original': 0.0},\n",
              " {'Id': 415, 'vader': 0.0, 'original': 0.0},\n",
              " {'Id': 416, 'vader': 0.0, 'original': -1.0},\n",
              " {'Id': 417, 'vader': 0.0, 'original': 0.0},\n",
              " {'Id': 418, 'vader': 0.0, 'original': 0.0},\n",
              " {'Id': 419, 'vader': 0.0, 'original': 0.0},\n",
              " {'Id': 420, 'vader': 1.0, 'original': 1.0},\n",
              " {'Id': 421, 'vader': 0.0, 'original': 1.0},\n",
              " {'Id': 422, 'vader': 0.0, 'original': 1.0},\n",
              " {'Id': 423, 'vader': 0.0, 'original': 1.0},\n",
              " {'Id': 424, 'vader': 0.0, 'original': 0.0},\n",
              " {'Id': 425, 'vader': -1.0, 'original': -1.0},\n",
              " {'Id': 426, 'vader': 0.0, 'original': 1.0},\n",
              " {'Id': 427, 'vader': 0.0, 'original': 1.0},\n",
              " {'Id': 428, 'vader': 0.0, 'original': 0.0},\n",
              " {'Id': 429, 'vader': 0.0, 'original': 0.0},\n",
              " {'Id': 430, 'vader': 0.0, 'original': 0.0},\n",
              " {'Id': 431, 'vader': 0.0, 'original': -1.0},\n",
              " {'Id': 432, 'vader': 0.0, 'original': 0.0},\n",
              " {'Id': 433, 'vader': 0.0, 'original': 0.0},\n",
              " {'Id': 434, 'vader': 1.0, 'original': 1.0},\n",
              " {'Id': 435, 'vader': -1.0, 'original': -1.0},\n",
              " {'Id': 436, 'vader': 0.0, 'original': -1.0},\n",
              " {'Id': 437, 'vader': 0.0, 'original': -1.0},\n",
              " {'Id': 438, 'vader': 0.0, 'original': 1.0},\n",
              " {'Id': 439, 'vader': 0.0, 'original': 1.0},\n",
              " {'Id': 440, 'vader': 0.0, 'original': 1.0},\n",
              " {'Id': 441, 'vader': 0.0, 'original': 0.0},\n",
              " {'Id': 442, 'vader': 0.0, 'original': 1.0},\n",
              " {'Id': 443, 'vader': 0.0, 'original': 0.0},\n",
              " {'Id': 444, 'vader': 0.0, 'original': 0.0},\n",
              " {'Id': 445, 'vader': 0.0, 'original': -1.0},\n",
              " {'Id': 446, 'vader': 0.0, 'original': -1.0},\n",
              " {'Id': 447, 'vader': 0.0, 'original': 1.0},\n",
              " {'Id': 448, 'vader': 0.0, 'original': 1.0},\n",
              " {'Id': 449, 'vader': 0.0, 'original': 0.0},\n",
              " {'Id': 450, 'vader': 0.0, 'original': 0.0},\n",
              " {'Id': 451, 'vader': 0.0, 'original': 1.0},\n",
              " {'Id': 452, 'vader': 0.0, 'original': -1.0},\n",
              " {'Id': 453, 'vader': 0.0, 'original': -1.0},\n",
              " {'Id': 454, 'vader': 0.0, 'original': 1.0},\n",
              " {'Id': 455, 'vader': 0.0, 'original': 0.0},\n",
              " {'Id': 456, 'vader': 0.0, 'original': -1.0},\n",
              " {'Id': 457, 'vader': 0.0, 'original': 0.0},\n",
              " {'Id': 458, 'vader': 0.0, 'original': 0.0},\n",
              " {'Id': 459, 'vader': 0.0, 'original': 0.0},\n",
              " {'Id': 460, 'vader': 0.0, 'original': 1.0},\n",
              " {'Id': 461, 'vader': 0.0, 'original': -1.0},\n",
              " {'Id': 462, 'vader': -1.0, 'original': -1.0},\n",
              " {'Id': 463, 'vader': 0.0, 'original': 0.0},\n",
              " {'Id': 464, 'vader': 0.0, 'original': 0.0},\n",
              " {'Id': 465, 'vader': 0.0, 'original': 0.0},\n",
              " {'Id': 466, 'vader': 0.0, 'original': 0.0},\n",
              " {'Id': 467, 'vader': 0.0, 'original': 1.0},\n",
              " {'Id': 468, 'vader': 0.0, 'original': 0.0},\n",
              " {'Id': 469, 'vader': 0.0, 'original': 0.0},\n",
              " {'Id': 470, 'vader': 0.0, 'original': 1.0},\n",
              " {'Id': 471, 'vader': 0.0, 'original': 1.0},\n",
              " {'Id': 472, 'vader': 0.0, 'original': 1.0},\n",
              " {'Id': 473, 'vader': 1.0, 'original': 0.0},\n",
              " {'Id': 474, 'vader': 0.0, 'original': -1.0},\n",
              " {'Id': 475, 'vader': 0.0, 'original': 0.0},\n",
              " {'Id': 476, 'vader': 0.0, 'original': 1.0},\n",
              " {'Id': 477, 'vader': 0.0, 'original': 1.0},\n",
              " {'Id': 478, 'vader': 0.0, 'original': 0.0},\n",
              " {'Id': 479, 'vader': 0.0, 'original': 1.0},\n",
              " {'Id': 480, 'vader': 0.0, 'original': -1.0},\n",
              " {'Id': 481, 'vader': 0.0, 'original': 0.0},\n",
              " {'Id': 482, 'vader': 0.0, 'original': -1.0},\n",
              " {'Id': 483, 'vader': 0.0, 'original': 0.0},\n",
              " {'Id': 484, 'vader': 0.0, 'original': 1.0},\n",
              " {'Id': 485, 'vader': 0.0, 'original': 0.0},\n",
              " {'Id': 486, 'vader': -1.0, 'original': -1.0},\n",
              " {'Id': 487, 'vader': 0.0, 'original': -1.0},\n",
              " {'Id': 488, 'vader': 0.0, 'original': 1.0},\n",
              " {'Id': 489, 'vader': 0.0, 'original': 1.0},\n",
              " {'Id': 490, 'vader': 0.0, 'original': 0.0},\n",
              " {'Id': 491, 'vader': 0.0, 'original': 1.0},\n",
              " {'Id': 492, 'vader': 0.0, 'original': 1.0},\n",
              " {'Id': 493, 'vader': 0.0, 'original': 1.0},\n",
              " {'Id': 494, 'vader': 0.0, 'original': 1.0},\n",
              " {'Id': 495, 'vader': 0.0, 'original': -1.0},\n",
              " {'Id': 496, 'vader': 0.0, 'original': -1.0},\n",
              " {'Id': 497, 'vader': 0.0, 'original': 1.0},\n",
              " {'Id': 498, 'vader': 0.0, 'original': 1.0}]"
            ]
          },
          "metadata": {},
          "execution_count": 26
        }
      ]
    },
    {
      "cell_type": "code",
      "source": [
        "res = pd.DataFrame(sentimentCompare)"
      ],
      "metadata": {
        "id": "eFGk00z44YNP"
      },
      "execution_count": 27,
      "outputs": []
    },
    {
      "cell_type": "code",
      "source": [
        "res.shape\n",
        "res"
      ],
      "metadata": {
        "colab": {
          "base_uri": "https://localhost:8080/",
          "height": 424
        },
        "id": "UvBFJwA05ZM2",
        "outputId": "1cf90c82-fa99-4cc3-8c4e-2a9ef95d954f"
      },
      "execution_count": 28,
      "outputs": [
        {
          "output_type": "execute_result",
          "data": {
            "text/plain": [
              "      Id  vader  original\n",
              "0      0    0.0      -1.0\n",
              "1      1    0.0       0.0\n",
              "2      2    0.0       1.0\n",
              "3      3    0.0       1.0\n",
              "4      4    0.0       1.0\n",
              "..   ...    ...       ...\n",
              "494  494    0.0       1.0\n",
              "495  495    0.0      -1.0\n",
              "496  496    0.0      -1.0\n",
              "497  497    0.0       1.0\n",
              "498  498    0.0       1.0\n",
              "\n",
              "[499 rows x 3 columns]"
            ],
            "text/html": [
              "\n",
              "  <div id=\"df-4fbf8056-5c5d-4092-9b31-1adc11b572c1\">\n",
              "    <div class=\"colab-df-container\">\n",
              "      <div>\n",
              "<style scoped>\n",
              "    .dataframe tbody tr th:only-of-type {\n",
              "        vertical-align: middle;\n",
              "    }\n",
              "\n",
              "    .dataframe tbody tr th {\n",
              "        vertical-align: top;\n",
              "    }\n",
              "\n",
              "    .dataframe thead th {\n",
              "        text-align: right;\n",
              "    }\n",
              "</style>\n",
              "<table border=\"1\" class=\"dataframe\">\n",
              "  <thead>\n",
              "    <tr style=\"text-align: right;\">\n",
              "      <th></th>\n",
              "      <th>Id</th>\n",
              "      <th>vader</th>\n",
              "      <th>original</th>\n",
              "    </tr>\n",
              "  </thead>\n",
              "  <tbody>\n",
              "    <tr>\n",
              "      <th>0</th>\n",
              "      <td>0</td>\n",
              "      <td>0.0</td>\n",
              "      <td>-1.0</td>\n",
              "    </tr>\n",
              "    <tr>\n",
              "      <th>1</th>\n",
              "      <td>1</td>\n",
              "      <td>0.0</td>\n",
              "      <td>0.0</td>\n",
              "    </tr>\n",
              "    <tr>\n",
              "      <th>2</th>\n",
              "      <td>2</td>\n",
              "      <td>0.0</td>\n",
              "      <td>1.0</td>\n",
              "    </tr>\n",
              "    <tr>\n",
              "      <th>3</th>\n",
              "      <td>3</td>\n",
              "      <td>0.0</td>\n",
              "      <td>1.0</td>\n",
              "    </tr>\n",
              "    <tr>\n",
              "      <th>4</th>\n",
              "      <td>4</td>\n",
              "      <td>0.0</td>\n",
              "      <td>1.0</td>\n",
              "    </tr>\n",
              "    <tr>\n",
              "      <th>...</th>\n",
              "      <td>...</td>\n",
              "      <td>...</td>\n",
              "      <td>...</td>\n",
              "    </tr>\n",
              "    <tr>\n",
              "      <th>494</th>\n",
              "      <td>494</td>\n",
              "      <td>0.0</td>\n",
              "      <td>1.0</td>\n",
              "    </tr>\n",
              "    <tr>\n",
              "      <th>495</th>\n",
              "      <td>495</td>\n",
              "      <td>0.0</td>\n",
              "      <td>-1.0</td>\n",
              "    </tr>\n",
              "    <tr>\n",
              "      <th>496</th>\n",
              "      <td>496</td>\n",
              "      <td>0.0</td>\n",
              "      <td>-1.0</td>\n",
              "    </tr>\n",
              "    <tr>\n",
              "      <th>497</th>\n",
              "      <td>497</td>\n",
              "      <td>0.0</td>\n",
              "      <td>1.0</td>\n",
              "    </tr>\n",
              "    <tr>\n",
              "      <th>498</th>\n",
              "      <td>498</td>\n",
              "      <td>0.0</td>\n",
              "      <td>1.0</td>\n",
              "    </tr>\n",
              "  </tbody>\n",
              "</table>\n",
              "<p>499 rows × 3 columns</p>\n",
              "</div>\n",
              "      <button class=\"colab-df-convert\" onclick=\"convertToInteractive('df-4fbf8056-5c5d-4092-9b31-1adc11b572c1')\"\n",
              "              title=\"Convert this dataframe to an interactive table.\"\n",
              "              style=\"display:none;\">\n",
              "        \n",
              "  <svg xmlns=\"http://www.w3.org/2000/svg\" height=\"24px\"viewBox=\"0 0 24 24\"\n",
              "       width=\"24px\">\n",
              "    <path d=\"M0 0h24v24H0V0z\" fill=\"none\"/>\n",
              "    <path d=\"M18.56 5.44l.94 2.06.94-2.06 2.06-.94-2.06-.94-.94-2.06-.94 2.06-2.06.94zm-11 1L8.5 8.5l.94-2.06 2.06-.94-2.06-.94L8.5 2.5l-.94 2.06-2.06.94zm10 10l.94 2.06.94-2.06 2.06-.94-2.06-.94-.94-2.06-.94 2.06-2.06.94z\"/><path d=\"M17.41 7.96l-1.37-1.37c-.4-.4-.92-.59-1.43-.59-.52 0-1.04.2-1.43.59L10.3 9.45l-7.72 7.72c-.78.78-.78 2.05 0 2.83L4 21.41c.39.39.9.59 1.41.59.51 0 1.02-.2 1.41-.59l7.78-7.78 2.81-2.81c.8-.78.8-2.07 0-2.86zM5.41 20L4 18.59l7.72-7.72 1.47 1.35L5.41 20z\"/>\n",
              "  </svg>\n",
              "      </button>\n",
              "      \n",
              "  <style>\n",
              "    .colab-df-container {\n",
              "      display:flex;\n",
              "      flex-wrap:wrap;\n",
              "      gap: 12px;\n",
              "    }\n",
              "\n",
              "    .colab-df-convert {\n",
              "      background-color: #E8F0FE;\n",
              "      border: none;\n",
              "      border-radius: 50%;\n",
              "      cursor: pointer;\n",
              "      display: none;\n",
              "      fill: #1967D2;\n",
              "      height: 32px;\n",
              "      padding: 0 0 0 0;\n",
              "      width: 32px;\n",
              "    }\n",
              "\n",
              "    .colab-df-convert:hover {\n",
              "      background-color: #E2EBFA;\n",
              "      box-shadow: 0px 1px 2px rgba(60, 64, 67, 0.3), 0px 1px 3px 1px rgba(60, 64, 67, 0.15);\n",
              "      fill: #174EA6;\n",
              "    }\n",
              "\n",
              "    [theme=dark] .colab-df-convert {\n",
              "      background-color: #3B4455;\n",
              "      fill: #D2E3FC;\n",
              "    }\n",
              "\n",
              "    [theme=dark] .colab-df-convert:hover {\n",
              "      background-color: #434B5C;\n",
              "      box-shadow: 0px 1px 3px 1px rgba(0, 0, 0, 0.15);\n",
              "      filter: drop-shadow(0px 1px 2px rgba(0, 0, 0, 0.3));\n",
              "      fill: #FFFFFF;\n",
              "    }\n",
              "  </style>\n",
              "\n",
              "      <script>\n",
              "        const buttonEl =\n",
              "          document.querySelector('#df-4fbf8056-5c5d-4092-9b31-1adc11b572c1 button.colab-df-convert');\n",
              "        buttonEl.style.display =\n",
              "          google.colab.kernel.accessAllowed ? 'block' : 'none';\n",
              "\n",
              "        async function convertToInteractive(key) {\n",
              "          const element = document.querySelector('#df-4fbf8056-5c5d-4092-9b31-1adc11b572c1');\n",
              "          const dataTable =\n",
              "            await google.colab.kernel.invokeFunction('convertToInteractive',\n",
              "                                                     [key], {});\n",
              "          if (!dataTable) return;\n",
              "\n",
              "          const docLinkHtml = 'Like what you see? Visit the ' +\n",
              "            '<a target=\"_blank\" href=https://colab.research.google.com/notebooks/data_table.ipynb>data table notebook</a>'\n",
              "            + ' to learn more about interactive tables.';\n",
              "          element.innerHTML = '';\n",
              "          dataTable['output_type'] = 'display_data';\n",
              "          await google.colab.output.renderOutput(dataTable, element);\n",
              "          const docLink = document.createElement('div');\n",
              "          docLink.innerHTML = docLinkHtml;\n",
              "          element.appendChild(docLink);\n",
              "        }\n",
              "      </script>\n",
              "    </div>\n",
              "  </div>\n",
              "  "
            ]
          },
          "metadata": {},
          "execution_count": 28
        }
      ]
    },
    {
      "cell_type": "code",
      "source": [
        "print(res['vader'].value_counts()) # vader analysis\n",
        "print(res['original'].value_counts())"
      ],
      "metadata": {
        "colab": {
          "base_uri": "https://localhost:8080/"
        },
        "id": "AHJsJI7T5e1U",
        "outputId": "98dc858e-e745-4a5b-d3cd-1d8b6c43ad87"
      },
      "execution_count": 29,
      "outputs": [
        {
          "output_type": "stream",
          "name": "stdout",
          "text": [
            " 0.0    477\n",
            " 1.0     14\n",
            "-1.0      8\n",
            "Name: vader, dtype: int64\n",
            " 1.0    209\n",
            " 0.0    187\n",
            "-1.0    103\n",
            "Name: original, dtype: int64\n"
          ]
        }
      ]
    },
    {
      "cell_type": "code",
      "source": [
        "res['vader'].value_counts().plot(kind='bar', title='Vader Analysis')\n",
        "plt.show()"
      ],
      "metadata": {
        "colab": {
          "base_uri": "https://localhost:8080/",
          "height": 291
        },
        "id": "lJ3zzueu5i4a",
        "outputId": "42d959b4-a760-46f2-b2a9-cafe7b595147"
      },
      "execution_count": 30,
      "outputs": [
        {
          "output_type": "display_data",
          "data": {
            "text/plain": [
              "<Figure size 432x288 with 1 Axes>"
            ],
            "image/png": "[encoded data removed]"
          },
          "metadata": {
            "needs_background": "light"
          }
        }
      ]
    },
    {
      "cell_type": "code",
      "source": [
        "res['original'].value_counts().plot(kind='bar', title='Original Analysis')\n",
        "plt.show()"
      ],
      "metadata": {
        "colab": {
          "base_uri": "https://localhost:8080/",
          "height": 291
        },
        "id": "4vWa7bcb7VIp",
        "outputId": "d5f98986-3b7b-4786-8973-40cf05159fe7"
      },
      "execution_count": 31,
      "outputs": [
        {
          "output_type": "display_data",
          "data": {
            "text/plain": [
              "<Figure size 432x288 with 1 Axes>"
            ],
            "image/png": "[encoded data removed]"
          },
          "metadata": {
            "needs_background": "light"
          }
        }
      ]
    },
    {
      "cell_type": "code",
      "source": [
        "res['vader'].value_counts()"
      ],
      "metadata": {
        "colab": {
          "base_uri": "https://localhost:8080/"
        },
        "id": "5IYSrWlAI5y7",
        "outputId": "ac117499-6a67-4490-999d-907db317d975"
      },
      "execution_count": 32,
      "outputs": [
        {
          "output_type": "execute_result",
          "data": {
            "text/plain": [
              " 0.0    477\n",
              " 1.0     14\n",
              "-1.0      8\n",
              "Name: vader, dtype: int64"
            ]
          },
          "metadata": {},
          "execution_count": 32
        }
      ]
    },
    {
      "cell_type": "code",
      "source": [
        "res['original'].value_counts()"
      ],
      "metadata": {
        "colab": {
          "base_uri": "https://localhost:8080/"
        },
        "id": "l6FiBFCeI_UV",
        "outputId": "d63ef329-7e66-4d22-a79a-d4ebd0b9a17b"
      },
      "execution_count": 33,
      "outputs": [
        {
          "output_type": "execute_result",
          "data": {
            "text/plain": [
              " 1.0    209\n",
              " 0.0    187\n",
              "-1.0    103\n",
              "Name: original, dtype: int64"
            ]
          },
          "metadata": {},
          "execution_count": 33
        }
      ]
    },
    {
      "cell_type": "code",
      "source": [
        "vader = dict(res['vader'].value_counts())\n",
        "vader = list(vader.values())\n",
        "original = dict(res['original'].value_counts())\n",
        "original = list(original.values())\n",
        "original[0], original[1] = original[1], original[0]\n",
        "print(vader, original)"
      ],
      "metadata": {
        "colab": {
          "base_uri": "https://localhost:8080/"
        },
        "id": "HbVFiAC27gd-",
        "outputId": "1d9ff1de-e5c1-4f50-b51b-8f7e6a0d5e54"
      },
      "execution_count": 34,
      "outputs": [
        {
          "output_type": "stream",
          "name": "stdout",
          "text": [
            "[477, 14, 8] [187, 209, 103]\n"
          ]
        }
      ]
    },
    {
      "cell_type": "code",
      "source": [
        "import numpy as np\n",
        "xAxisTitle = ['Neutral', 'Positive', 'Negative']\n",
        "xAxis = np.arange(len(xAxisTitle))\n",
        "plt.bar(xAxis-0.2, vader, width=0.4, label='Vader')\n",
        "plt.bar(xAxis+0.2, original, width=0.4, label='Original')\n",
        "plt.xticks(xAxis, xAxisTitle)\n",
        "plt.legend()\n",
        "plt.show()"
      ],
      "metadata": {
        "colab": {
          "base_uri": "https://localhost:8080/",
          "height": 269
        },
        "id": "YSKcpq12EgJ3",
        "outputId": "d5fca3f5-5ed2-4f29-8e67-e9f561a433e7"
      },
      "execution_count": 35,
      "outputs": [
        {
          "output_type": "display_data",
          "data": {
            "text/plain": [
              "<Figure size 432x288 with 1 Axes>"
            ],
            "image/png": "[encoded data removed]"
          },
          "metadata": {
            "needs_background": "light"
          }
        }
      ]
    },
    {
      "cell_type": "markdown",
      "source": [
        "we can see above VADER doesn't perform well in case of twitter dataset. It predicts mostly neutral\n"
      ],
      "metadata": {
        "id": "sum_rZt1J6SL"
      }
    },
    {
      "cell_type": "markdown",
      "source": [
        "### TODO: USE transformer model to see the comparision between original and transformer model prediction"
      ],
      "metadata": {
        "id": "Loqa61HDKSsu"
      }
    },
    {
      "cell_type": "code",
      "source": [
        "!pip install transformers"
      ],
      "metadata": {
        "colab": {
          "base_uri": "https://localhost:8080/"
        },
        "id": "Dho50TVq0yYS",
        "outputId": "82719a1a-16c4-493b-d57f-fe07f9b05cc5"
      },
      "execution_count": 36,
      "outputs": [
        {
          "output_type": "stream",
          "name": "stdout",
          "text": [
            "Looking in indexes: https://pypi.org/simple, https://us-python.pkg.dev/colab-wheels/public/simple/\n",
            "Collecting transformers\n",
            "  Downloading transformers-4.25.1-py3-none-any.whl (5.8 MB)\n",
            "\u001b[2K     \u001b[90m━━━━━━━━━━━━━━━━━━━━━━━━━━━━━━━━━━━━━━━━\u001b[0m \u001b[32m5.8/5.8 MB\u001b[0m \u001b[31m49.5 MB/s\u001b[0m eta \u001b[36m0:00:00\u001b[0m\n",
            "\u001b[?25hRequirement already satisfied: packaging>=20.0 in /usr/local/lib/python3.8/dist-packages (from transformers) (21.3)\n",
            "Collecting huggingface-hub<1.0,>=0.10.0\n",
            "  Downloading huggingface_hub-0.11.1-py3-none-any.whl (182 kB)\n",
            "\u001b[2K     \u001b[90m━━━━━━━━━━━━━━━━━━━━━━━━━━━━━━━━━━━━━━\u001b[0m \u001b[32m182.4/182.4 KB\u001b[0m \u001b[31m19.1 MB/s\u001b[0m eta \u001b[36m0:00:00\u001b[0m\n",
            "\u001b[?25hRequirement already satisfied: tqdm>=4.27 in /usr/local/lib/python3.8/dist-packages (from transformers) (4.64.1)\n",
            "Requirement already satisfied: requests in /usr/local/lib/python3.8/dist-packages (from transformers) (2.25.1)\n",
            "Requirement already satisfied: numpy>=1.17 in /usr/local/lib/python3.8/dist-packages (from transformers) (1.21.6)\n",
            "Requirement already satisfied: pyyaml>=5.1 in /usr/local/lib/python3.8/dist-packages (from transformers) (6.0)\n",
            "Requirement already satisfied: regex!=2019.12.17 in /usr/local/lib/python3.8/dist-packages (from transformers) (2022.6.2)\n",
            "Requirement already satisfied: filelock in /usr/local/lib/python3.8/dist-packages (from transformers) (3.9.0)\n",
            "Collecting tokenizers!=0.11.3,<0.14,>=0.11.1\n",
            "  Downloading tokenizers-0.13.2-cp38-cp38-manylinux_2_17_x86_64.manylinux2014_x86_64.whl (7.6 MB)\n",
            "\u001b[2K     \u001b[90m━━━━━━━━━━━━━━━━━━━━━━━━━━━━━━━━━━━━━━━━\u001b[0m \u001b[32m7.6/7.6 MB\u001b[0m \u001b[31m91.2 MB/s\u001b[0m eta \u001b[36m0:00:00\u001b[0m\n",
            "\u001b[?25hRequirement already satisfied: typing-extensions>=3.7.4.3 in /usr/local/lib/python3.8/dist-packages (from huggingface-hub<1.0,>=0.10.0->transformers) (4.4.0)\n",
            "Requirement already satisfied: pyparsing!=3.0.5,>=2.0.2 in /usr/local/lib/python3.8/dist-packages (from packaging>=20.0->transformers) (3.0.9)\n",
            "Requirement already satisfied: certifi>=2017.4.17 in /usr/local/lib/python3.8/dist-packages (from requests->transformers) (2022.12.7)\n",
            "Requirement already satisfied: chardet<5,>=3.0.2 in /usr/local/lib/python3.8/dist-packages (from requests->transformers) (4.0.0)\n",
            "Requirement already satisfied: urllib3<1.27,>=1.21.1 in /usr/local/lib/python3.8/dist-packages (from requests->transformers) (1.24.3)\n",
            "Requirement already satisfied: idna<3,>=2.5 in /usr/local/lib/python3.8/dist-packages (from requests->transformers) (2.10)\n",
            "Installing collected packages: tokenizers, huggingface-hub, transformers\n",
            "Successfully installed huggingface-hub-0.11.1 tokenizers-0.13.2 transformers-4.25.1\n"
          ]
        }
      ]
    },
    {
      "cell_type": "code",
      "source": [
        "from transformers import AutoTokenizer\n",
        "from transformers import AutoModelForSequenceClassification\n",
        "from scipy.special import softmax"
      ],
      "metadata": {
        "id": "Oxh7_-_5Hecb"
      },
      "execution_count": 37,
      "outputs": []
    },
    {
      "cell_type": "code",
      "source": [
        "task='sentiment'\n",
        "MODEL = f\"cardiffnlp/twitter-roberta-base-{task}\"\n",
        "tokenizer = AutoTokenizer.from_pretrained(MODEL)\n",
        "model = AutoModelForSequenceClassification.from_pretrained(MODEL)"
      ],
      "metadata": {
        "colab": {
          "base_uri": "https://localhost:8080/",
          "height": 177,
          "referenced_widgets": [
            "a82583cc689941af9f02f49543facb2e",
            "c3b7587a9b95427080edf9fe87bf7a7c",
            "1b417487378346a9b21d9242349c5945",
            "11f66e1e428d494c9d949997a81ea566",
            "451fa8f06ed24b3c8f110e4287446910",
            "127335d160814037bc523c08704dbce7",
            "2a80709884454f109a6cbdbf88c1347f",
            "0e699de743c34d8bb6d1e627acfc97e7",
            "69221a8878ed4357838ab85c0fe0185c",
            "cc73198355504b40b24a9681f42caca0",
            "2855ad519c904b9c904e8a0602e7e3cd",
            "243ae456c7f24838a3be0172dd01020e",
            "c146430135ee4e20ab5c60eca7c46dea",
            "56d11350261b4765a52db3aa89d713dd",
            "7a4a4b5e8199476ba5f8555fca79f3ae",
            "4ea38eae18af430584769f04c700190e",
            "8d66d53a14014cad9cd2dfc6d6069633",
            "da3c1fc4eb2443ab87fc426830bced2d",
            "b1f85c31f28c48aca4dfe20699e38f83",
            "92f2cf0d5aaa41989fdc77e69f0c24f3",
            "d09cd1c88af3416db6fc74ca30da9cfc",
            "1793296a4cbb49429ca3072072bccdff",
            "09ecd94250a64f67a9026f125293dab7",
            "3e6feed3cbc94b5a8edd66d805a22fb1",
            "cd703f49b00b495887cd3e9afe95bd5a",
            "4609f76cc25b4568bc6ee12939f1f636",
            "26bcbb2a23ac411ba2deaa18ac737ccc",
            "6f467c9ebdf54ec088eefb99cd8f4a18",
            "d8fad31badc947e49ac270629b5d046e",
            "5e935f285a83438d92167496a018f5ac",
            "579564b4501d484abe42eec0602a6e12",
            "e87c557f84a24683814ddf6c602e2b81",
            "ffe50543b3f44177adeb361707ba1de8",
            "5e02b4c673cf4696b37ece9a9896c694",
            "a4557c4f0125475abd727585f2318172",
            "c52005d0986e4ce28f9ba3e421996aed",
            "e91a261dc8bf4712819ccfea6c41dd4b",
            "9f4727dafbf747adb4276153f3e5bfa3",
            "160cce73e7d449b1839f490f260c87a6",
            "f582c087057244a9845c34fc76edd54a",
            "98807aebc79540e08f7b393af62d9d72",
            "4b0170876a6e4b5d9c3248243d5ac494",
            "b89ee661c67b471fad01ffa80e0e843e",
            "7268886a83bc48eb8dc1b3a5e6cc0eb0",
            "d6aaae5f9be94e23ab86b7d690f8b883",
            "1b64417d3e5643b1ba99fdbf4b94b05e",
            "08fd42a6142446bbb5dc5a80966a05a2",
            "ac49ae5c56c0484ca26d81b625effc9b",
            "515d1c31d35840648e34c1b8b901b8f3",
            "66e132f346a34f4fa332132aaede5615",
            "3575688a8de345158452965ff8643ec3",
            "3be3074e13e34af59c52dbe636a5884b",
            "892f47f4f59048619b1a799606935d84",
            "eb9733150f7d4474b8bf88d14508b020",
            "704d559cdeb94ee0867dd3c8dda93bdd"
          ]
        },
        "id": "73SUdXP10wX8",
        "outputId": "8d0d50b5-df07-4024-dea2-1b1ca7c16e98"
      },
      "execution_count": 38,
      "outputs": [
        {
          "output_type": "display_data",
          "data": {
            "text/plain": [
              "Downloading:   0%|          | 0.00/747 [00:00<?, ?B/s]"
            ],
            "application/vnd.jupyter.widget-view+json": {
              "version_major": 2,
              "version_minor": 0,
              "model_id": "a82583cc689941af9f02f49543facb2e"
            }
          },
          "metadata": {}
        },
        {
          "output_type": "display_data",
          "data": {
            "text/plain": [
              "Downloading:   0%|          | 0.00/899k [00:00<?, ?B/s]"
            ],
            "application/vnd.jupyter.widget-view+json": {
              "version_major": 2,
              "version_minor": 0,
              "model_id": "243ae456c7f24838a3be0172dd01020e"
            }
          },
          "metadata": {}
        },
        {
          "output_type": "display_data",
          "data": {
            "text/plain": [
              "Downloading:   0%|          | 0.00/456k [00:00<?, ?B/s]"
            ],
            "application/vnd.jupyter.widget-view+json": {
              "version_major": 2,
              "version_minor": 0,
              "model_id": "09ecd94250a64f67a9026f125293dab7"
            }
          },
          "metadata": {}
        },
        {
          "output_type": "display_data",
          "data": {
            "text/plain": [
              "Downloading:   0%|          | 0.00/150 [00:00<?, ?B/s]"
            ],
            "application/vnd.jupyter.widget-view+json": {
              "version_major": 2,
              "version_minor": 0,
              "model_id": "5e02b4c673cf4696b37ece9a9896c694"
            }
          },
          "metadata": {}
        },
        {
          "output_type": "display_data",
          "data": {
            "text/plain": [
              "Downloading:   0%|          | 0.00/499M [00:00<?, ?B/s]"
            ],
            "application/vnd.jupyter.widget-view+json": {
              "version_major": 2,
              "version_minor": 0,
              "model_id": "d6aaae5f9be94e23ab86b7d690f8b883"
            }
          },
          "metadata": {}
        }
      ]
    },
    {
      "cell_type": "code",
      "source": [
        "def roberta_polarity_scores(example):\n",
        "  encoded_text = tokenizer(example, return_tensors='pt')\n",
        "  output = model(**encoded_text)\n",
        "\n",
        "  score = output[0][0].detach().numpy()\n",
        "  softmax_score = softmax(score)\n",
        "  # print(softmax_score)\n",
        "  return {\n",
        "    'neg': softmax_score[0],\n",
        "    'neu': softmax_score[1],\n",
        "    'pos': softmax_score[2]\n",
        "  }"
      ],
      "metadata": {
        "id": "N5ez_VlE0_t1"
      },
      "execution_count": 39,
      "outputs": []
    },
    {
      "cell_type": "code",
      "source": [
        "res = roberta_polarity_scores(\"this is neither good nor bad\")"
      ],
      "metadata": {
        "id": "4YvWjsVl1SPG"
      },
      "execution_count": 40,
      "outputs": []
    },
    {
      "cell_type": "code",
      "source": [
        "res"
      ],
      "metadata": {
        "colab": {
          "base_uri": "https://localhost:8080/"
        },
        "id": "IZ27i3Nl1ZDy",
        "outputId": "f9e8670b-cc11-4579-bd8f-c3d109dc3773"
      },
      "execution_count": 41,
      "outputs": [
        {
          "output_type": "execute_result",
          "data": {
            "text/plain": [
              "{'neg': 0.07716769, 'neu': 0.36436126, 'pos': 0.55847096}"
            ]
          },
          "metadata": {},
          "execution_count": 41
        }
      ]
    },
    {
      "cell_type": "code",
      "source": [
        "sentimentCompare = []\n",
        "sentimentMapDict = {\n",
        "    'pos': 1.0,\n",
        "    'neu': 0.0,\n",
        "    'neg': -1.0\n",
        "}\n",
        "index = 0\n",
        "for i, row in tqdm(df.iterrows()):\n",
        "  try:\n",
        "    sentimentCompareDict = {}\n",
        "    sentence = row['clean_text']\n",
        "    # vader approach\n",
        "    sentimentDict = sia.polarity_scores(sentence)\n",
        "    sentimentDict.pop('compound')\n",
        "    vaderSentiment = max(sentimentDict, key=sentimentDict.get)\n",
        "\n",
        "    # RoBERTA approach\n",
        "    robertaSentimentDict = roberta_polarity_scores(sentence)\n",
        "    robertaSentiment = max(robertaSentimentDict, key=robertaSentimentDict.get)\n",
        "\n",
        "    sentimentCompareDict['Id'] = index\n",
        "    sentimentCompareDict['vader'] = sentimentMapDict[vaderSentiment]\n",
        "    sentimentCompareDict['roberta'] = sentimentMapDict[robertaSentiment]\n",
        "    sentimentCompareDict['original'] = row['category']\n",
        "    sentimentCompare.append(sentimentCompareDict)\n",
        "    index += 1\n",
        "  except Exception:\n",
        "    print(\"error occured for id\", index)"
      ],
      "metadata": {
        "id": "a6EPVigV1Zy1",
        "colab": {
          "base_uri": "https://localhost:8080/",
          "height": 66,
          "referenced_widgets": [
            "47c0950db43046829b61b67fc2475343",
            "1f9f49eb65ec4671b81703fcb9ee83fd",
            "8acd728f99234c5d841a2ce8a3b36046",
            "82238f772ef24cd3afc4c1353a131b73",
            "4b60271259aa4c47b7a2d3aeb6918e84",
            "033173b3e3514655b3bf5f053ed32d8a",
            "2de4f6d29257460f9bcb68c58527e7fb",
            "1406e44c0e204e5794c05e27535d28ef",
            "91240995b6954ba7b87a33e066415484",
            "086343148cdd433c8f2e912ab2a6aa8f",
            "c6a79cd7722447fead165b60e5dd3529"
          ]
        },
        "outputId": "9a0ef682-dfb7-4529-992a-a7fd83641585"
      },
      "execution_count": 42,
      "outputs": [
        {
          "output_type": "display_data",
          "data": {
            "text/plain": [
              "0it [00:00, ?it/s]"
            ],
            "application/vnd.jupyter.widget-view+json": {
              "version_major": 2,
              "version_minor": 0,
              "model_id": "47c0950db43046829b61b67fc2475343"
            }
          },
          "metadata": {}
        },
        {
          "output_type": "stream",
          "name": "stdout",
          "text": [
            "error occured for id 148\n"
          ]
        }
      ]
    },
    {
      "cell_type": "code",
      "source": [
        "sentimentCompare[:10]"
      ],
      "metadata": {
        "colab": {
          "base_uri": "https://localhost:8080/"
        },
        "id": "QxBKMTnI8kdZ",
        "outputId": "5c5db5f7-6e99-4698-ea92-3e56cd61125f"
      },
      "execution_count": 43,
      "outputs": [
        {
          "output_type": "execute_result",
          "data": {
            "text/plain": [
              "[{'Id': 0, 'vader': 0.0, 'roberta': -1.0, 'original': -1.0},\n",
              " {'Id': 1, 'vader': 0.0, 'roberta': -1.0, 'original': 0.0},\n",
              " {'Id': 2, 'vader': 0.0, 'roberta': 0.0, 'original': 1.0},\n",
              " {'Id': 3, 'vader': 0.0, 'roberta': -1.0, 'original': 1.0},\n",
              " {'Id': 4, 'vader': 0.0, 'roberta': 0.0, 'original': 1.0},\n",
              " {'Id': 5, 'vader': 0.0, 'roberta': 0.0, 'original': 0.0},\n",
              " {'Id': 6, 'vader': 0.0, 'roberta': 0.0, 'original': 0.0},\n",
              " {'Id': 7, 'vader': 0.0, 'roberta': 0.0, 'original': 0.0},\n",
              " {'Id': 8, 'vader': 0.0, 'roberta': 0.0, 'original': 1.0},\n",
              " {'Id': 9, 'vader': 0.0, 'roberta': -1.0, 'original': 1.0}]"
            ]
          },
          "metadata": {},
          "execution_count": 43
        }
      ]
    },
    {
      "cell_type": "code",
      "source": [
        "sdf = pd.DataFrame(sentimentCompare)\n",
        "sdf"
      ],
      "metadata": {
        "colab": {
          "base_uri": "https://localhost:8080/",
          "height": 424
        },
        "id": "0KyxMbNK9ABi",
        "outputId": "2f95cbbc-b273-4438-a430-cbe01cbb3c6b"
      },
      "execution_count": 44,
      "outputs": [
        {
          "output_type": "execute_result",
          "data": {
            "text/plain": [
              "      Id  vader  roberta  original\n",
              "0      0    0.0     -1.0      -1.0\n",
              "1      1    0.0     -1.0       0.0\n",
              "2      2    0.0      0.0       1.0\n",
              "3      3    0.0     -1.0       1.0\n",
              "4      4    0.0      0.0       1.0\n",
              "..   ...    ...      ...       ...\n",
              "494  494    0.0      0.0       1.0\n",
              "495  495    0.0     -1.0      -1.0\n",
              "496  496    0.0     -1.0      -1.0\n",
              "497  497    0.0     -1.0       1.0\n",
              "498  498    0.0      0.0       1.0\n",
              "\n",
              "[499 rows x 4 columns]"
            ],
            "text/html": [
              "\n",
              "  <div id=\"df-65ac0d42-32d2-47e8-8bec-901873aa0ff6\">\n",
              "    <div class=\"colab-df-container\">\n",
              "      <div>\n",
              "<style scoped>\n",
              "    .dataframe tbody tr th:only-of-type {\n",
              "        vertical-align: middle;\n",
              "    }\n",
              "\n",
              "    .dataframe tbody tr th {\n",
              "        vertical-align: top;\n",
              "    }\n",
              "\n",
              "    .dataframe thead th {\n",
              "        text-align: right;\n",
              "    }\n",
              "</style>\n",
              "<table border=\"1\" class=\"dataframe\">\n",
              "  <thead>\n",
              "    <tr style=\"text-align: right;\">\n",
              "      <th></th>\n",
              "      <th>Id</th>\n",
              "      <th>vader</th>\n",
              "      <th>roberta</th>\n",
              "      <th>original</th>\n",
              "    </tr>\n",
              "  </thead>\n",
              "  <tbody>\n",
              "    <tr>\n",
              "      <th>0</th>\n",
              "      <td>0</td>\n",
              "      <td>0.0</td>\n",
              "      <td>-1.0</td>\n",
              "      <td>-1.0</td>\n",
              "    </tr>\n",
              "    <tr>\n",
              "      <th>1</th>\n",
              "      <td>1</td>\n",
              "      <td>0.0</td>\n",
              "      <td>-1.0</td>\n",
              "      <td>0.0</td>\n",
              "    </tr>\n",
              "    <tr>\n",
              "      <th>2</th>\n",
              "      <td>2</td>\n",
              "      <td>0.0</td>\n",
              "      <td>0.0</td>\n",
              "      <td>1.0</td>\n",
              "    </tr>\n",
              "    <tr>\n",
              "      <th>3</th>\n",
              "      <td>3</td>\n",
              "      <td>0.0</td>\n",
              "      <td>-1.0</td>\n",
              "      <td>1.0</td>\n",
              "    </tr>\n",
              "    <tr>\n",
              "      <th>4</th>\n",
              "      <td>4</td>\n",
              "      <td>0.0</td>\n",
              "      <td>0.0</td>\n",
              "      <td>1.0</td>\n",
              "    </tr>\n",
              "    <tr>\n",
              "      <th>...</th>\n",
              "      <td>...</td>\n",
              "      <td>...</td>\n",
              "      <td>...</td>\n",
              "      <td>...</td>\n",
              "    </tr>\n",
              "    <tr>\n",
              "      <th>494</th>\n",
              "      <td>494</td>\n",
              "      <td>0.0</td>\n",
              "      <td>0.0</td>\n",
              "      <td>1.0</td>\n",
              "    </tr>\n",
              "    <tr>\n",
              "      <th>495</th>\n",
              "      <td>495</td>\n",
              "      <td>0.0</td>\n",
              "      <td>-1.0</td>\n",
              "      <td>-1.0</td>\n",
              "    </tr>\n",
              "    <tr>\n",
              "      <th>496</th>\n",
              "      <td>496</td>\n",
              "      <td>0.0</td>\n",
              "      <td>-1.0</td>\n",
              "      <td>-1.0</td>\n",
              "    </tr>\n",
              "    <tr>\n",
              "      <th>497</th>\n",
              "      <td>497</td>\n",
              "      <td>0.0</td>\n",
              "      <td>-1.0</td>\n",
              "      <td>1.0</td>\n",
              "    </tr>\n",
              "    <tr>\n",
              "      <th>498</th>\n",
              "      <td>498</td>\n",
              "      <td>0.0</td>\n",
              "      <td>0.0</td>\n",
              "      <td>1.0</td>\n",
              "    </tr>\n",
              "  </tbody>\n",
              "</table>\n",
              "<p>499 rows × 4 columns</p>\n",
              "</div>\n",
              "      <button class=\"colab-df-convert\" onclick=\"convertToInteractive('df-65ac0d42-32d2-47e8-8bec-901873aa0ff6')\"\n",
              "              title=\"Convert this dataframe to an interactive table.\"\n",
              "              style=\"display:none;\">\n",
              "        \n",
              "  <svg xmlns=\"http://www.w3.org/2000/svg\" height=\"24px\"viewBox=\"0 0 24 24\"\n",
              "       width=\"24px\">\n",
              "    <path d=\"M0 0h24v24H0V0z\" fill=\"none\"/>\n",
              "    <path d=\"M18.56 5.44l.94 2.06.94-2.06 2.06-.94-2.06-.94-.94-2.06-.94 2.06-2.06.94zm-11 1L8.5 8.5l.94-2.06 2.06-.94-2.06-.94L8.5 2.5l-.94 2.06-2.06.94zm10 10l.94 2.06.94-2.06 2.06-.94-2.06-.94-.94-2.06-.94 2.06-2.06.94z\"/><path d=\"M17.41 7.96l-1.37-1.37c-.4-.4-.92-.59-1.43-.59-.52 0-1.04.2-1.43.59L10.3 9.45l-7.72 7.72c-.78.78-.78 2.05 0 2.83L4 21.41c.39.39.9.59 1.41.59.51 0 1.02-.2 1.41-.59l7.78-7.78 2.81-2.81c.8-.78.8-2.07 0-2.86zM5.41 20L4 18.59l7.72-7.72 1.47 1.35L5.41 20z\"/>\n",
              "  </svg>\n",
              "      </button>\n",
              "      \n",
              "  <style>\n",
              "    .colab-df-container {\n",
              "      display:flex;\n",
              "      flex-wrap:wrap;\n",
              "      gap: 12px;\n",
              "    }\n",
              "\n",
              "    .colab-df-convert {\n",
              "      background-color: #E8F0FE;\n",
              "      border: none;\n",
              "      border-radius: 50%;\n",
              "      cursor: pointer;\n",
              "      display: none;\n",
              "      fill: #1967D2;\n",
              "      height: 32px;\n",
              "      padding: 0 0 0 0;\n",
              "      width: 32px;\n",
              "    }\n",
              "\n",
              "    .colab-df-convert:hover {\n",
              "      background-color: #E2EBFA;\n",
              "      box-shadow: 0px 1px 2px rgba(60, 64, 67, 0.3), 0px 1px 3px 1px rgba(60, 64, 67, 0.15);\n",
              "      fill: #174EA6;\n",
              "    }\n",
              "\n",
              "    [theme=dark] .colab-df-convert {\n",
              "      background-color: #3B4455;\n",
              "      fill: #D2E3FC;\n",
              "    }\n",
              "\n",
              "    [theme=dark] .colab-df-convert:hover {\n",
              "      background-color: #434B5C;\n",
              "      box-shadow: 0px 1px 3px 1px rgba(0, 0, 0, 0.15);\n",
              "      filter: drop-shadow(0px 1px 2px rgba(0, 0, 0, 0.3));\n",
              "      fill: #FFFFFF;\n",
              "    }\n",
              "  </style>\n",
              "\n",
              "      <script>\n",
              "        const buttonEl =\n",
              "          document.querySelector('#df-65ac0d42-32d2-47e8-8bec-901873aa0ff6 button.colab-df-convert');\n",
              "        buttonEl.style.display =\n",
              "          google.colab.kernel.accessAllowed ? 'block' : 'none';\n",
              "\n",
              "        async function convertToInteractive(key) {\n",
              "          const element = document.querySelector('#df-65ac0d42-32d2-47e8-8bec-901873aa0ff6');\n",
              "          const dataTable =\n",
              "            await google.colab.kernel.invokeFunction('convertToInteractive',\n",
              "                                                     [key], {});\n",
              "          if (!dataTable) return;\n",
              "\n",
              "          const docLinkHtml = 'Like what you see? Visit the ' +\n",
              "            '<a target=\"_blank\" href=https://colab.research.google.com/notebooks/data_table.ipynb>data table notebook</a>'\n",
              "            + ' to learn more about interactive tables.';\n",
              "          element.innerHTML = '';\n",
              "          dataTable['output_type'] = 'display_data';\n",
              "          await google.colab.output.renderOutput(dataTable, element);\n",
              "          const docLink = document.createElement('div');\n",
              "          docLink.innerHTML = docLinkHtml;\n",
              "          element.appendChild(docLink);\n",
              "        }\n",
              "      </script>\n",
              "    </div>\n",
              "  </div>\n",
              "  "
            ]
          },
          "metadata": {},
          "execution_count": 44
        }
      ]
    },
    {
      "cell_type": "code",
      "source": [
        "sdf['vader'].value_counts()"
      ],
      "metadata": {
        "colab": {
          "base_uri": "https://localhost:8080/"
        },
        "id": "hBnOsHLX909O",
        "outputId": "96e205ed-251a-4c78-d662-a5a3c1de2270"
      },
      "execution_count": 45,
      "outputs": [
        {
          "output_type": "execute_result",
          "data": {
            "text/plain": [
              " 0.0    477\n",
              " 1.0     14\n",
              "-1.0      8\n",
              "Name: vader, dtype: int64"
            ]
          },
          "metadata": {},
          "execution_count": 45
        }
      ]
    },
    {
      "cell_type": "code",
      "source": [
        "sdf['roberta'].value_counts()"
      ],
      "metadata": {
        "colab": {
          "base_uri": "https://localhost:8080/"
        },
        "id": "OppcGMcZ9-uI",
        "outputId": "94dcf2fd-0b6d-46c8-d1a6-829e5a37155b"
      },
      "execution_count": 46,
      "outputs": [
        {
          "output_type": "execute_result",
          "data": {
            "text/plain": [
              " 0.0    256\n",
              "-1.0    181\n",
              " 1.0     62\n",
              "Name: roberta, dtype: int64"
            ]
          },
          "metadata": {},
          "execution_count": 46
        }
      ]
    },
    {
      "cell_type": "code",
      "source": [
        "sdf['original'].value_counts()"
      ],
      "metadata": {
        "colab": {
          "base_uri": "https://localhost:8080/"
        },
        "id": "oz5eeKKj-CKy",
        "outputId": "81ac2100-4784-4b9f-aa69-a3e2ca878d6a"
      },
      "execution_count": 47,
      "outputs": [
        {
          "output_type": "execute_result",
          "data": {
            "text/plain": [
              " 1.0    209\n",
              " 0.0    187\n",
              "-1.0    103\n",
              "Name: original, dtype: int64"
            ]
          },
          "metadata": {},
          "execution_count": 47
        }
      ]
    },
    {
      "cell_type": "code",
      "source": [
        "def find_prediction(key):\n",
        "  prediction = dict(sdf[key].value_counts())\n",
        "  predictionList = list(prediction.values())\n",
        "  return predictionList\n"
      ],
      "metadata": {
        "id": "IM50nxjH_HvA"
      },
      "execution_count": 60,
      "outputs": []
    },
    {
      "cell_type": "code",
      "source": [
        "vaderPrediction = dict(sdf['vader'].value_counts())\n",
        "vaderPredictionList = list(vaderPrediction.values())\n",
        "print(vaderPrediction)\n",
        "print(vaderPredictionList)"
      ],
      "metadata": {
        "colab": {
          "base_uri": "https://localhost:8080/"
        },
        "id": "F-80L5qK-FD-",
        "outputId": "0f4d4d9b-4e0d-4b92-e17a-1d2ffae6c59a"
      },
      "execution_count": 61,
      "outputs": [
        {
          "output_type": "stream",
          "name": "stdout",
          "text": [
            "{0.0: 477, 1.0: 14, -1.0: 8}\n",
            "[477, 14, 8]\n"
          ]
        }
      ]
    },
    {
      "cell_type": "code",
      "source": [
        "originalPrediction = dict(sdf['original'].value_counts())\n",
        "originalPredictionList = list(originalPrediction.values())\n",
        "print(originalPrediction)\n",
        "print(originalPredictionList)"
      ],
      "metadata": {
        "colab": {
          "base_uri": "https://localhost:8080/"
        },
        "id": "LMrEKLog-pYH",
        "outputId": "e4eaa088-0bf8-4524-b125-e31d9fbff515"
      },
      "execution_count": 62,
      "outputs": [
        {
          "output_type": "stream",
          "name": "stdout",
          "text": [
            "{1.0: 209, 0.0: 187, -1.0: 103}\n",
            "[209, 187, 103]\n"
          ]
        }
      ]
    },
    {
      "cell_type": "code",
      "source": [
        "robertaPrediction = dict(sdf['roberta'].value_counts())\n",
        "robertaPrediction"
      ],
      "metadata": {
        "colab": {
          "base_uri": "https://localhost:8080/"
        },
        "id": "zHc0MeFQInqb",
        "outputId": "ed6a1374-b70e-4527-982a-4419b5c5d88d"
      },
      "execution_count": 66,
      "outputs": [
        {
          "output_type": "execute_result",
          "data": {
            "text/plain": [
              "{0.0: 256, -1.0: 181, 1.0: 62}"
            ]
          },
          "metadata": {},
          "execution_count": 66
        }
      ]
    },
    {
      "cell_type": "code",
      "source": [
        "vaderPrediction = find_prediction('vader')\n",
        "vaderPrediction"
      ],
      "metadata": {
        "colab": {
          "base_uri": "https://localhost:8080/"
        },
        "id": "FljPOgEw-9Q9",
        "outputId": "faf278c6-385a-4814-bfd1-39b01620bcca"
      },
      "execution_count": 63,
      "outputs": [
        {
          "output_type": "execute_result",
          "data": {
            "text/plain": [
              "[477, 14, 8]"
            ]
          },
          "metadata": {},
          "execution_count": 63
        }
      ]
    },
    {
      "cell_type": "code",
      "source": [
        "originalPrediction = find_prediction('original')\n",
        "originalPrediction[0], originalPrediction[1] = originalPrediction[1], originalPrediction[0]\n",
        "originalPrediction"
      ],
      "metadata": {
        "id": "68aYWMWp_eyu",
        "colab": {
          "base_uri": "https://localhost:8080/"
        },
        "outputId": "dccf8d63-23c6-40e6-87e1-27cab91dd1dc"
      },
      "execution_count": 69,
      "outputs": [
        {
          "output_type": "execute_result",
          "data": {
            "text/plain": [
              "[187, 209, 103]"
            ]
          },
          "metadata": {},
          "execution_count": 69
        }
      ]
    },
    {
      "cell_type": "code",
      "source": [
        "robertaPrediction = find_prediction('roberta')\n",
        "robertaPrediction[1], robertaPrediction[2] = robertaPrediction[2], robertaPrediction[1]\n",
        "robertaPrediction"
      ],
      "metadata": {
        "colab": {
          "base_uri": "https://localhost:8080/"
        },
        "id": "Z_aKKE6WH3f9",
        "outputId": "6a482c8e-8389-44b1-a200-3b5af23858a2"
      },
      "execution_count": 70,
      "outputs": [
        {
          "output_type": "execute_result",
          "data": {
            "text/plain": [
              "[256, 62, 181]"
            ]
          },
          "metadata": {},
          "execution_count": 70
        }
      ]
    },
    {
      "cell_type": "code",
      "source": [
        "import numpy as np\n",
        "xAxisTitle = ['Neutral', 'Positive', 'Negative']\n",
        "xAxis = np.arange(len(xAxisTitle))\n",
        "plt.bar(xAxis-0.2, vaderPrediction, width=0.2, label='Vader')\n",
        "plt.bar(xAxis, originalPrediction, width=0.2, label='Original')\n",
        "plt.bar(xAxis+0.2, robertaPrediction, width=0.2, label='Roberta')\n",
        "plt.xticks(xAxis, xAxisTitle)\n",
        "plt.legend()\n",
        "plt.show()"
      ],
      "metadata": {
        "colab": {
          "base_uri": "https://localhost:8080/",
          "height": 269
        },
        "id": "Op-UDssOI40h",
        "outputId": "19572d83-625c-4ba6-b385-721fd800abb1"
      },
      "execution_count": 72,
      "outputs": [
        {
          "output_type": "display_data",
          "data": {
            "text/plain": [
              "<Figure size 432x288 with 1 Axes>"
            ],
            "image/png": "[encoded data removed]"
          },
          "metadata": {
            "needs_background": "light"
          }
        }
      ]
    },
    {
      "cell_type": "markdown",
      "source": [
        "CONCLUSION: Roberta model from transformer is way much better than Vader approach as difference between roberta and original in each category ['netural', 'positive', 'negative' ] is less than that of vader an roberta"
      ],
      "metadata": {
        "id": "WWrwj_3-K9ZG"
      }
    },
    {
      "cell_type": "code",
      "source": [],
      "metadata": {
        "id": "ZYSu1cN3KEuS"
      },
      "execution_count": null,
      "outputs": []
    }
  ]
}